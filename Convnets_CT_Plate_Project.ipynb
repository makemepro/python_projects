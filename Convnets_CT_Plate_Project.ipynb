{
  "nbformat": 4,
  "nbformat_minor": 0,
  "metadata": {
    "colab": {
      "provenance": [],
      "include_colab_link": true
    },
    "kernelspec": {
      "name": "python3",
      "display_name": "Python 3"
    },
    "language_info": {
      "name": "python"
    }
  },
  "cells": [
    {
      "cell_type": "markdown",
      "metadata": {
        "id": "view-in-github",
        "colab_type": "text"
      },
      "source": [
        "<a href=\"https://colab.research.google.com/github/makemepro/python_projects/blob/main/Convnets_CT_Plate_Project.ipynb\" target=\"_parent\"><img src=\"https://colab.research.google.com/assets/colab-badge.svg\" alt=\"Open In Colab\"/></a>"
      ]
    },
    {
      "cell_type": "markdown",
      "metadata": {
        "id": "1gh7xuDaLmX1"
      },
      "source": [
        "# **Introduction**\n",
        "\n",
        "The Merritt Parkway, built in the 1930s, was the first highway in connecticut. Followed by Connecticut’s other major highways in the 1960s.[1] These projects were funded by a mix of federal and state funds.[2,3] Although federal funds covered the majority of costs associated with constructing the interstates in Connecticut, the burden of operation and maintenance falls almost entirely on the state. Only 4% of federal spending for highways is spent on operation and maintenance. In searching for a new source of revenue to fund the upkeep of its highway system, Connecticut implemented a gas tax in 1921.[4] Historically, another source of revenue for highway construction is tolls.\n",
        "\n",
        "Highway tolls have been hotly debated in Connecticut politics since 1983 when a deadly accident on interstate 95 led to the removal of all highway toll booths in the state.[5,6] Part of Ned Lamont’s campaign for governor included support for installing highway tolls. However, his proposals could not get through the state legislature after he was elected. His initial proposal was whittled down and eventually dropped.[7]\n",
        "\n",
        "A large source of road funding in the state is revenue from the gas tax, and by 2040 as many as 70% of new vehicles will not be gasoline powered.[8] That percentage could be higher if more aggressive climate policies are put in place. As electric and other zero-emission vehicles become more popular, the revenue from gas tax in Connecticut will decline. Currently around 30% of funding for roads in the state comes from the gas tax.[9] For this reason it seems the adoption of highway tolls in the state is inevitable.[10]\n",
        "\n",
        "Some toll proposals plan on charging out-of-state drivers more than twice as much as in-state drivers.[11] Estimates for the percentage of out of state vehicles on Connecticut highways vary from 25-40%.[12] If cameras are set up along a major highway and our machine learning model works well then the state of Connecticut would have a much better idea of what percentage of drivers are from out-of-state and on which roads those drivers travel. This information would be key in deciding toll placement and rates.\n",
        "\n",
        "> [1] CT.gov https://portal.ct.gov/DOT/Highway-Design/Merritt-Parkway-History\n",
        "\n",
        "> [2] Merritt Parkway Conservancy https://www.merrittparkway.org/copy-of-about-the-parkway\n",
        "\n",
        "> [3] CT.gov https://portal.ct.gov/DOT/General/History/Chapter-7-DOT-History\n",
        "\n",
        "> [4] Tax Foundation https://taxfoundation.org/when-did-your-state-adopt-its-gas-tax/\n",
        "\n",
        "> [5] New York Times https://www.nytimes.com/1983/01/20/nyregion/6-die-in-crash-at-toll-station-in-connecticut.html\n",
        "\n",
        "> [6] CT.gov https://cga.ct.gov/2009/rpt/2009-R-0122.htm\n",
        "\n",
        "> [7] Patch https://patch.com/connecticut/greenwich/gov-lamont-proposes-14-tolls-heres-where-he-wants-put-them\n",
        "\n",
        "> [8] Bloomberg https://about.bnef.com/blog/electric-vehicle-sales-set-to-rise-faster-than-ever-but-more-policy-action-needed-to-get-on-track-for-net-zero/\n",
        "\n",
        "> [9] Tax Foundation https://taxfoundation.org/states-road-funding-2019/\n",
        "\n",
        "> [10] Hartford Courant https://www.courant.com/opinion/letters/hc-le-toll-debate-0213-20200213-jnxotku5o5darcfkh4komywy24-story.html\n",
        "\n",
        "> [11] Hartford Courant https://www.courant.com/politics/hc-pol-tolls-out-state-drivers-20190522-kbhx7cp6mjb3xich4b7csvenhq-story.html\n",
        "\n",
        "> [12] CT Mirror https://ctmirror.org/category/ct-viewpoints/drive-from-here-to-canada-without-tolls/"
      ]
    },
    {
      "cell_type": "markdown",
      "metadata": {
        "id": "tEYgoTMUM_Su"
      },
      "source": [
        "# **Data Gathering and Description**\n",
        "Images of CT license plates were scraped from google images before being manually cleaned by the team. Before cleaning we had 451 images of CT license plates and 451 images of other license plates. After cleaning we have 344 images of CT license plates and 364 images of other license plates. We split the data to have 200 of each in training. For the test partition we have 144 CT plates and 164 for non CT plates. A copy of the data and scripts have been shared with the TA.\n",
        "\n",
        "Below is the script used to scrape google images of license plates\n",
        "https://drive.google.com/file/d/1MXRPQEQ_wUoROS8yLIxNdLhu0mHTqV9j/view?usp=sharing\n",
        "\n",
        "Dataset\n",
        "https://drive.google.com/drive/folders/1peLi_NlUcH87ejwnheaZ3HBRfrCIvhT-?usp=sharing"
      ]
    },
    {
      "cell_type": "markdown",
      "metadata": {
        "id": "bHrufSHrNG0F"
      },
      "source": [
        "# **Modeling**\n",
        "Fit at least two reasonable different DL models and one baseline model with clean code (lots of comments)."
      ]
    },
    {
      "cell_type": "code",
      "metadata": {
        "id": "GklHETypjrw8",
        "colab": {
          "base_uri": "https://localhost:8080/",
          "height": 35
        },
        "outputId": "aa350019-53f5-4d4c-f003-8a1bd777f81e"
      },
      "source": [
        "import keras # import modules\n",
        "keras.__version__"
      ],
      "execution_count": null,
      "outputs": [
        {
          "output_type": "execute_result",
          "data": {
            "application/vnd.google.colaboratory.intrinsic+json": {
              "type": "string"
            },
            "text/plain": [
              "'2.6.0'"
            ]
          },
          "metadata": {},
          "execution_count": 15
        }
      ]
    },
    {
      "cell_type": "code",
      "metadata": {
        "colab": {
          "base_uri": "https://localhost:8080/"
        },
        "id": "Uwo5YSicmSRv",
        "outputId": "51b9500d-e643-461c-f420-e981ccc1f72f"
      },
      "source": [
        "from google.colab import drive, files #mount drive\n",
        "drive.mount('/content/drive/')"
      ],
      "execution_count": null,
      "outputs": [
        {
          "output_type": "stream",
          "name": "stdout",
          "text": [
            "Drive already mounted at /content/drive/; to attempt to forcibly remount, call drive.mount(\"/content/drive/\", force_remount=True).\n"
          ]
        }
      ]
    },
    {
      "cell_type": "code",
      "metadata": {
        "id": "mkLeUas1mT-w"
      },
      "source": [
        "path = \"/content/drive/Shareddrives/OPIM5509_DL_G7/Project1/larger_dataset/\" # filepath to dataset\n",
        "\n",
        "train_dir = path + \"Train\"\n",
        "test_dir = path + \"Test\"\n",
        "testfinal_dir = path + \"Testfinal\""
      ],
      "execution_count": null,
      "outputs": []
    },
    {
      "cell_type": "code",
      "metadata": {
        "colab": {
          "base_uri": "https://localhost:8080/",
          "height": 35
        },
        "id": "HMSaweNdoW1t",
        "outputId": "485a3aa6-2f97-42e6-f0bf-e0b1c1f1d33d"
      },
      "source": [
        "train_dir #folder name"
      ],
      "execution_count": null,
      "outputs": [
        {
          "output_type": "execute_result",
          "data": {
            "application/vnd.google.colaboratory.intrinsic+json": {
              "type": "string"
            },
            "text/plain": [
              "'/content/drive/Shareddrives/OPIM5509_DL_G7/Project1/larger_dataset/Train'"
            ]
          },
          "metadata": {},
          "execution_count": 18
        }
      ]
    },
    {
      "cell_type": "markdown",
      "metadata": {
        "id": "jVmCoS8Rfydk"
      },
      "source": [
        "##Model 1 Architecture"
      ]
    },
    {
      "cell_type": "code",
      "metadata": {
        "id": "dR-cAZv1pNa5"
      },
      "source": [
        "from keras import layers #import modules\n",
        "from keras import models\n",
        "#building model 1\n",
        "model = models.Sequential()\n",
        "model.add(layers.Conv2D(32, (3, 3), activation='relu',\n",
        "                        input_shape=(150, 150, 3)))  #first layer of the model using images 150x150 that are\n",
        "model.add(layers.MaxPooling2D((2, 2))) #max pooling layer\n",
        "model.add(layers.Conv2D(64, (3, 3), activation='relu')) #convoluitonal layer\n",
        "model.add(layers.MaxPooling2D((2, 2))) #max pooling layer\n",
        "model.add(layers.Conv2D(128, (3, 3), activation='relu')) #convolutional layer\n",
        "model.add(layers.MaxPooling2D((2, 2))) #max pooling layer\n",
        "model.add(layers.Conv2D(128, (3, 3), activation='relu')) #convolutional layer\n",
        "model.add(layers.MaxPooling2D((2, 2)))#max pooling layer\n",
        "model.add(layers.Flatten())#flattening layer\n",
        "model.add(layers.Dense(512, activation='relu')) #dense layer\n",
        "model.add(layers.Dense(1, activation='sigmoid')) #dense layer"
      ],
      "execution_count": null,
      "outputs": []
    },
    {
      "cell_type": "code",
      "metadata": {
        "id": "OYZG2h4WpYNc",
        "colab": {
          "base_uri": "https://localhost:8080/"
        },
        "outputId": "603921e1-29c7-442b-c0ef-34fb52c52972"
      },
      "source": [
        "model.summary()#summarize the model so we can see what we have built... over 3 million trainable parameters!"
      ],
      "execution_count": null,
      "outputs": [
        {
          "output_type": "stream",
          "name": "stdout",
          "text": [
            "Model: \"sequential_2\"\n",
            "_________________________________________________________________\n",
            "Layer (type)                 Output Shape              Param #   \n",
            "=================================================================\n",
            "conv2d_8 (Conv2D)            (None, 148, 148, 32)      896       \n",
            "_________________________________________________________________\n",
            "max_pooling2d_8 (MaxPooling2 (None, 74, 74, 32)        0         \n",
            "_________________________________________________________________\n",
            "conv2d_9 (Conv2D)            (None, 72, 72, 64)        18496     \n",
            "_________________________________________________________________\n",
            "max_pooling2d_9 (MaxPooling2 (None, 36, 36, 64)        0         \n",
            "_________________________________________________________________\n",
            "conv2d_10 (Conv2D)           (None, 34, 34, 128)       73856     \n",
            "_________________________________________________________________\n",
            "max_pooling2d_10 (MaxPooling (None, 17, 17, 128)       0         \n",
            "_________________________________________________________________\n",
            "conv2d_11 (Conv2D)           (None, 15, 15, 128)       147584    \n",
            "_________________________________________________________________\n",
            "max_pooling2d_11 (MaxPooling (None, 7, 7, 128)         0         \n",
            "_________________________________________________________________\n",
            "flatten_2 (Flatten)          (None, 6272)              0         \n",
            "_________________________________________________________________\n",
            "dense_4 (Dense)              (None, 512)               3211776   \n",
            "_________________________________________________________________\n",
            "dense_5 (Dense)              (None, 1)                 513       \n",
            "=================================================================\n",
            "Total params: 3,453,121\n",
            "Trainable params: 3,453,121\n",
            "Non-trainable params: 0\n",
            "_________________________________________________________________\n"
          ]
        }
      ]
    },
    {
      "cell_type": "markdown",
      "metadata": {
        "id": "rmIApC-Mf4Ri"
      },
      "source": [
        "## Model 2 Architecture"
      ]
    },
    {
      "cell_type": "code",
      "metadata": {
        "id": "vGfDaPbRQ6TV"
      },
      "source": [
        "from keras import layers\n",
        "from keras import models\n",
        "import tensorflow as tf\n",
        "from tensorflow.keras.layers import Conv2D, MaxPooling2D, Flatten, Dense, Dropout, Activation\n",
        "\n",
        "modelfinal = models.Sequential()\n",
        "\n",
        "modelfinal.add(layers.Conv2D(32, (3, 3), activation='relu',\n",
        "                        input_shape=(150, 150, 3))) # This matches the size of our rescalled images\n",
        "modelfinal.add(layers.MaxPooling2D((2, 2))) # max pool\n",
        "modelfinal.add(Dropout(rate = 0.3)) #dropout rate to help prevent overfitting\n",
        "\n",
        "modelfinal.add(layers.Conv2D(64, (3, 3), activation='relu')) #convolutional layer\n",
        "modelfinal.add(layers.MaxPooling2D((2, 2))) # max pooling\n",
        "modelfinal.add(Dropout(rate = 0.2))\n",
        "\n",
        "modelfinal.add(layers.Conv2D(128, (3, 3), activation='relu')) #convolution\n",
        "modelfinal.add(layers.MaxPooling2D((2, 2))) #max pooling layer\n",
        "modelfinal.add(Dropout(rate = 0.15))\n",
        "\n",
        "modelfinal.add(layers.Conv2D(128, (3, 3), activation='relu')) #convolutional layer\n",
        "modelfinal.add(layers.MaxPooling2D((2, 2))) #max pooling layer\n",
        "\n",
        "modelfinal.add(layers.Flatten())#flattening layer\n",
        "modelfinal.add(layers.Dense(512, activation='relu')) #dense layer\n",
        "modelfinal.add(layers.Dense(1, activation='sigmoid'))#dense layer"
      ],
      "execution_count": null,
      "outputs": []
    },
    {
      "cell_type": "code",
      "metadata": {
        "id": "Maevz-sKh0vW",
        "colab": {
          "base_uri": "https://localhost:8080/"
        },
        "outputId": "7a06b539-54a4-4353-9f75-0468fa99c7d8"
      },
      "source": [
        "model.summary()#summarize the model so we can se what we have built... over 3 million trainable parameters"
      ],
      "execution_count": null,
      "outputs": [
        {
          "output_type": "stream",
          "name": "stdout",
          "text": [
            "Model: \"sequential_2\"\n",
            "_________________________________________________________________\n",
            "Layer (type)                 Output Shape              Param #   \n",
            "=================================================================\n",
            "conv2d_8 (Conv2D)            (None, 148, 148, 32)      896       \n",
            "_________________________________________________________________\n",
            "max_pooling2d_8 (MaxPooling2 (None, 74, 74, 32)        0         \n",
            "_________________________________________________________________\n",
            "conv2d_9 (Conv2D)            (None, 72, 72, 64)        18496     \n",
            "_________________________________________________________________\n",
            "max_pooling2d_9 (MaxPooling2 (None, 36, 36, 64)        0         \n",
            "_________________________________________________________________\n",
            "conv2d_10 (Conv2D)           (None, 34, 34, 128)       73856     \n",
            "_________________________________________________________________\n",
            "max_pooling2d_10 (MaxPooling (None, 17, 17, 128)       0         \n",
            "_________________________________________________________________\n",
            "conv2d_11 (Conv2D)           (None, 15, 15, 128)       147584    \n",
            "_________________________________________________________________\n",
            "max_pooling2d_11 (MaxPooling (None, 7, 7, 128)         0         \n",
            "_________________________________________________________________\n",
            "flatten_2 (Flatten)          (None, 6272)              0         \n",
            "_________________________________________________________________\n",
            "dense_4 (Dense)              (None, 512)               3211776   \n",
            "_________________________________________________________________\n",
            "dense_5 (Dense)              (None, 1)                 513       \n",
            "=================================================================\n",
            "Total params: 3,453,121\n",
            "Trainable params: 3,453,121\n",
            "Non-trainable params: 0\n",
            "_________________________________________________________________\n"
          ]
        }
      ]
    },
    {
      "cell_type": "markdown",
      "metadata": {
        "id": "jbt62cv2gX9B"
      },
      "source": [
        "##Model 1 Compilation"
      ]
    },
    {
      "cell_type": "code",
      "metadata": {
        "id": "vtcFdxv36RwX"
      },
      "source": [
        "from keras import optimizers#more modules\n",
        "#now compile model 1\n",
        "model.compile(loss='binary_crossentropy',\n",
        "              optimizer='Adam',\n",
        "              metrics=['acc'])"
      ],
      "execution_count": null,
      "outputs": []
    },
    {
      "cell_type": "code",
      "metadata": {
        "colab": {
          "base_uri": "https://localhost:8080/"
        },
        "id": "1NYeOIp46UTG",
        "outputId": "be55e38a-f1a9-40cc-cd52-213847ae1ce8"
      },
      "source": [
        "from keras.preprocessing.image import ImageDataGenerator#MODULES\n",
        "\n",
        "# All images will be rescaled by 1./255\n",
        "train_datagen = ImageDataGenerator(rescale=1./255)\n",
        "test_datagen = ImageDataGenerator(rescale=1./255)\n",
        "\n",
        "train_generator = train_datagen.flow_from_directory(\n",
        "        # This is the target directory\n",
        "        train_dir,\n",
        "        # All images will be resized to 150x150\n",
        "        target_size=(150, 150),\n",
        "        batch_size=20,\n",
        "        # Since we use binary_crossentropy loss, we need binary labels\n",
        "        class_mode='binary')\n",
        "\n",
        "validation_generator = test_datagen.flow_from_directory( #same thing for the test dataset\n",
        "        test_dir,\n",
        "        target_size=(150, 150),\n",
        "        batch_size=20,\n",
        "        class_mode='binary')"
      ],
      "execution_count": null,
      "outputs": [
        {
          "output_type": "stream",
          "name": "stdout",
          "text": [
            "Found 388 images belonging to 2 classes.\n",
            "Found 293 images belonging to 2 classes.\n"
          ]
        }
      ]
    },
    {
      "cell_type": "code",
      "metadata": {
        "colab": {
          "base_uri": "https://localhost:8080/"
        },
        "id": "XJGPf3Wu6ey1",
        "outputId": "cbaad323-f378-4b66-c773-450954c82744"
      },
      "source": [
        "for data_batch, labels_batch in train_generator: #creating batches\n",
        "    print('data batch shape:', data_batch.shape)\n",
        "    print('labels batch shape:', labels_batch.shape)\n",
        "    break"
      ],
      "execution_count": null,
      "outputs": [
        {
          "output_type": "stream",
          "name": "stdout",
          "text": [
            "data batch shape: (20, 150, 150, 3)\n",
            "labels batch shape: (20,)\n"
          ]
        }
      ]
    },
    {
      "cell_type": "code",
      "metadata": {
        "colab": {
          "base_uri": "https://localhost:8080/"
        },
        "id": "0fa3ufvh6ix6",
        "outputId": "737471a2-ac64-4a63-b886-491621c23a7a"
      },
      "source": [
        "labels_batch"
      ],
      "execution_count": null,
      "outputs": [
        {
          "output_type": "execute_result",
          "data": {
            "text/plain": [
              "array([1., 0., 0., 1., 1., 1., 0., 1., 1., 1., 0., 0., 1., 1., 0., 1., 1.,\n",
              "       1., 0., 0.], dtype=float32)"
            ]
          },
          "metadata": {},
          "execution_count": 26
        }
      ]
    },
    {
      "cell_type": "code",
      "metadata": {
        "id": "IsgSXeBZ6mYH",
        "colab": {
          "base_uri": "https://localhost:8080/"
        },
        "outputId": "2506248e-69e2-4fd0-9a9e-d68b63a0eb84"
      },
      "source": [
        "import time #modules\n",
        "\n",
        "start = time.time() #start the clock\n",
        "print(\"hello\")\n",
        "\n",
        "history = model.fit_generator(\n",
        "      train_generator,\n",
        "      steps_per_epoch=20, # 15 epochs\n",
        "      epochs=10,\n",
        "      validation_data=validation_generator,\n",
        "      validation_steps=14)  # Total number of steps (batches of samples) to validate before stopping. this itme 14\n",
        "\n",
        "end = time.time()#stop the clock\n",
        "print(end - start)#how long did that take?"
      ],
      "execution_count": null,
      "outputs": [
        {
          "output_type": "stream",
          "name": "stdout",
          "text": [
            "hello\n"
          ]
        },
        {
          "output_type": "stream",
          "name": "stderr",
          "text": [
            "/usr/local/lib/python3.7/dist-packages/keras/engine/training.py:1972: UserWarning: `Model.fit_generator` is deprecated and will be removed in a future version. Please use `Model.fit`, which supports generators.\n",
            "  warnings.warn('`Model.fit_generator` is deprecated and '\n"
          ]
        },
        {
          "output_type": "stream",
          "name": "stdout",
          "text": [
            "Epoch 1/10\n",
            "20/20 [==============================] - 34s 2s/step - loss: 0.7720 - acc: 0.4794 - val_loss: 0.6917 - val_acc: 0.4679\n",
            "Epoch 2/10\n",
            "20/20 [==============================] - 32s 2s/step - loss: 0.6920 - acc: 0.5515 - val_loss: 0.6773 - val_acc: 0.7143\n",
            "Epoch 3/10\n",
            "20/20 [==============================] - 32s 2s/step - loss: 0.6637 - acc: 0.6366 - val_loss: 0.6003 - val_acc: 0.6929\n",
            "Epoch 4/10\n",
            "20/20 [==============================] - 33s 2s/step - loss: 0.5948 - acc: 0.6959 - val_loss: 0.5181 - val_acc: 0.7250\n",
            "Epoch 5/10\n",
            "20/20 [==============================] - 33s 2s/step - loss: 0.6180 - acc: 0.6701 - val_loss: 0.6692 - val_acc: 0.6500\n",
            "Epoch 6/10\n",
            "20/20 [==============================] - 32s 2s/step - loss: 0.5994 - acc: 0.7088 - val_loss: 0.5759 - val_acc: 0.6929\n",
            "Epoch 7/10\n",
            "20/20 [==============================] - 32s 2s/step - loss: 0.5157 - acc: 0.7526 - val_loss: 0.5218 - val_acc: 0.7179\n",
            "Epoch 8/10\n",
            "20/20 [==============================] - 34s 2s/step - loss: 0.4295 - acc: 0.8067 - val_loss: 0.5925 - val_acc: 0.6857\n",
            "Epoch 9/10\n",
            "20/20 [==============================] - 33s 2s/step - loss: 0.3960 - acc: 0.8273 - val_loss: 0.5753 - val_acc: 0.7179\n",
            "Epoch 10/10\n",
            "20/20 [==============================] - 33s 2s/step - loss: 0.3189 - acc: 0.8840 - val_loss: 0.6542 - val_acc: 0.7536\n",
            "362.00034737586975\n"
          ]
        }
      ]
    },
    {
      "cell_type": "markdown",
      "metadata": {
        "id": "BH7NOLtYWkL_"
      },
      "source": [
        "## Model 1 Results: Accuracy/Loss Plot\n",
        "We can see that the accuracy in model1 is highest at Epoch 10 with an accuracy of 73%. The loss curve of the training continually decreases up to 10 epochs. The validation loss reaches its minimum at around 3 and 6 epochs then increases. We have a bit of overfitting since our data set is small."
      ]
    },
    {
      "cell_type": "code",
      "metadata": {
        "id": "R2ayo6xG6sRc",
        "colab": {
          "base_uri": "https://localhost:8080/",
          "height": 545
        },
        "outputId": "690f67ee-5e57-48d1-b47e-d161eb221f01"
      },
      "source": [
        "import matplotlib.pyplot as plt#more modules\n",
        "\n",
        "#giving these things definitions so it will be easier to plot them\n",
        "acc = history.history['acc']\n",
        "val_acc = history.history['val_acc']\n",
        "loss = history.history['loss']\n",
        "val_loss = history.history['val_loss']\n",
        "\n",
        "epochs = range(len(acc))\n",
        "\n",
        "plt.plot(epochs, acc, 'bo', label='Training acc')#label the dots\n",
        "plt.plot(epochs, val_acc, 'b', label='Validation acc')#label the line\n",
        "plt.title('Training and validation accuracy') #give the plot a title\n",
        "plt.legend()\n",
        "\n",
        "plt.figure()\n",
        "\n",
        "plt.plot(epochs, loss, 'bo', label='Training loss')#label the dots\n",
        "plt.plot(epochs, val_loss, 'b', label='Validation loss')#label the line\n",
        "plt.title('Training and validation loss')#give the second plot a title\n",
        "plt.legend()\n",
        "\n",
        "plt.show()"
      ],
      "execution_count": null,
      "outputs": [
        {
          "output_type": "display_data",
          "data": {
            "image/png": "[encoded data removed]",
            "text/plain": [
              "<Figure size 432x288 with 1 Axes>"
            ]
          },
          "metadata": {
            "needs_background": "light"
          }
        },
        {
          "output_type": "display_data",
          "data": {
            "image/png": "[encoded data removed]",
            "text/plain": [
              "<Figure size 432x288 with 1 Axes>"
            ]
          },
          "metadata": {
            "needs_background": "light"
          }
        }
      ]
    },
    {
      "cell_type": "markdown",
      "metadata": {
        "id": "OM6fHg5VggeH"
      },
      "source": [
        "## Model 2 Compilation"
      ]
    },
    {
      "cell_type": "code",
      "metadata": {
        "id": "7ONqIC2sgmV9"
      },
      "source": [
        "from keras import optimizers#more modules\n",
        "\n",
        "modelfinal.compile(loss='binary_crossentropy',#compiling model 2\n",
        "              optimizer='rmsprop',\n",
        "              metrics=['acc'])"
      ],
      "execution_count": null,
      "outputs": []
    },
    {
      "cell_type": "code",
      "metadata": {
        "id": "Kz8iZEeCg7bf",
        "colab": {
          "base_uri": "https://localhost:8080/"
        },
        "outputId": "a8cb4683-c643-494a-8ba1-0decf05122af"
      },
      "source": [
        "import time#importing more modules\n",
        "\n",
        "start = time.time() #start the clock\n",
        "print(\"hello\")\n",
        "\n",
        "historyfinal = modelfinal.fit_generator(\n",
        "      train_generator,\n",
        "      steps_per_epoch=20, # 20 epochs\n",
        "      epochs=10,\n",
        "      validation_data=validation_generator,\n",
        "      validation_steps=14)  #  Total number of steps (batches of samples) to validate before stopping. this time 14\n",
        "\n",
        "end = time.time()#stop the clock\n",
        "print(end - start)#tells us how long it took to run"
      ],
      "execution_count": null,
      "outputs": [
        {
          "output_type": "stream",
          "name": "stdout",
          "text": [
            "hello\n"
          ]
        },
        {
          "output_type": "stream",
          "name": "stderr",
          "text": [
            "/usr/local/lib/python3.7/dist-packages/keras/engine/training.py:1972: UserWarning: `Model.fit_generator` is deprecated and will be removed in a future version. Please use `Model.fit`, which supports generators.\n",
            "  warnings.warn('`Model.fit_generator` is deprecated and '\n"
          ]
        },
        {
          "output_type": "stream",
          "name": "stdout",
          "text": [
            "Epoch 1/10\n",
            "20/20 [==============================] - 36s 2s/step - loss: 1.0239 - acc: 0.5052 - val_loss: 0.6923 - val_acc: 0.4750\n",
            "Epoch 2/10\n",
            "20/20 [==============================] - 34s 2s/step - loss: 0.6999 - acc: 0.5515 - val_loss: 0.6930 - val_acc: 0.4607\n",
            "Epoch 3/10\n",
            "20/20 [==============================] - 34s 2s/step - loss: 0.7357 - acc: 0.5284 - val_loss: 0.6900 - val_acc: 0.4750\n",
            "Epoch 4/10\n",
            "20/20 [==============================] - 34s 2s/step - loss: 0.6749 - acc: 0.5799 - val_loss: 0.6795 - val_acc: 0.6679\n",
            "Epoch 5/10\n",
            "20/20 [==============================] - 34s 2s/step - loss: 0.6527 - acc: 0.6211 - val_loss: 0.6000 - val_acc: 0.6964\n",
            "Epoch 6/10\n",
            "20/20 [==============================] - 34s 2s/step - loss: 0.6462 - acc: 0.6289 - val_loss: 0.6223 - val_acc: 0.6857\n",
            "Epoch 7/10\n",
            "20/20 [==============================] - 34s 2s/step - loss: 0.6151 - acc: 0.6572 - val_loss: 0.5878 - val_acc: 0.6643\n",
            "Epoch 8/10\n",
            "20/20 [==============================] - 34s 2s/step - loss: 0.5495 - acc: 0.7294 - val_loss: 0.5471 - val_acc: 0.7357\n",
            "Epoch 9/10\n",
            "20/20 [==============================] - 34s 2s/step - loss: 0.5193 - acc: 0.7320 - val_loss: 0.6187 - val_acc: 0.6643\n",
            "Epoch 10/10\n",
            "20/20 [==============================] - 34s 2s/step - loss: 0.5057 - acc: 0.7500 - val_loss: 0.5636 - val_acc: 0.7357\n",
            "371.9367253780365\n"
          ]
        }
      ]
    },
    {
      "cell_type": "markdown",
      "metadata": {
        "id": "_6SlZMJfXIqB"
      },
      "source": [
        "## Model 2 Results: Accuracy/Loss Plot\n",
        "To help overcome our overfitting we added a few dropouts between our conv2d layers. For the accuracy curve, we can see the training and validation accuracy are much closer. The accuracy of the validation reaches a maximum of 10 epochs with 73% accuracy. The validation loss curve reaches a minimum at 7 epochs"
      ]
    },
    {
      "cell_type": "code",
      "metadata": {
        "id": "e84HIyTNheOy",
        "colab": {
          "base_uri": "https://localhost:8080/",
          "height": 545
        },
        "outputId": "64c348a0-abdf-4217-9376-8ee7b5a9871b"
      },
      "source": [
        "import matplotlib.pyplot as plt#import more modules\n",
        "\n",
        "#define these to make plotting easier\n",
        "acc = historyfinal.history['acc']\n",
        "val_acc = historyfinal.history['val_acc']\n",
        "loss = historyfinal.history['loss']\n",
        "val_loss = historyfinal.history['val_loss']\n",
        "\n",
        "epochs = range(len(acc))\n",
        "\n",
        "plt.plot(epochs, acc, 'bo', label='Training acc')#label the dots\n",
        "plt.plot(epochs, val_acc, 'b', label='Validation acc')#label the line\n",
        "plt.title('Training and validation accuracy')#title the first plot\n",
        "plt.legend()\n",
        "\n",
        "plt.figure()\n",
        "\n",
        "plt.plot(epochs, loss, 'bo', label='Training loss')#label the dots\n",
        "plt.plot(epochs, val_loss, 'b', label='Validation loss')#label the line\n",
        "plt.title('Training and validation loss')#title the second plot\n",
        "plt.legend()\n",
        "\n",
        "plt.show()"
      ],
      "execution_count": null,
      "outputs": [
        {
          "output_type": "display_data",
          "data": {
            "image/png": "[encoded data removed]",
            "text/plain": [
              "<Figure size 432x288 with 1 Axes>"
            ]
          },
          "metadata": {
            "needs_background": "light"
          }
        },
        {
          "output_type": "display_data",
          "data": {
            "image/png": "[encoded data removed]",
            "text/plain": [
              "<Figure size 432x288 with 1 Axes>"
            ]
          },
          "metadata": {
            "needs_background": "light"
          }
        }
      ]
    },
    {
      "cell_type": "markdown",
      "metadata": {
        "id": "gIgd-NrHNTDY"
      },
      "source": [
        "# **Result and Discussion**\n",
        "Includes learning curves for all models and actual vs. time series plot (if appropriate); for regression - scatterplots, error metrics for train and test partition; for classification or multiclass - confusion matrix and classification report. Includes detailed bullet points that describe what we see from each of the results, ties results to the business problem.\n"
      ]
    },
    {
      "cell_type": "markdown",
      "metadata": {
        "id": "JbTtsQMTWxeU"
      },
      "source": [
        "##Model1 Results"
      ]
    },
    {
      "cell_type": "code",
      "metadata": {
        "id": "cdc4i-40NnKa",
        "colab": {
          "base_uri": "https://localhost:8080/"
        },
        "outputId": "e24c0c7f-dcd0-4194-9102-85c2774e93f4"
      },
      "source": [
        "test_loss, test_acc = model.evaluate_generator(validation_generator)"
      ],
      "execution_count": null,
      "outputs": [
        {
          "output_type": "stream",
          "name": "stderr",
          "text": [
            "/usr/local/lib/python3.7/dist-packages/keras/engine/training.py:2006: UserWarning: `Model.evaluate_generator` is deprecated and will be removed in a future version. Please use `Model.evaluate`, which supports generators.\n",
            "  warnings.warn('`Model.evaluate_generator` is deprecated and '\n"
          ]
        }
      ]
    },
    {
      "cell_type": "code",
      "metadata": {
        "id": "HzjUjEKKOl9t",
        "colab": {
          "base_uri": "https://localhost:8080/"
        },
        "outputId": "4e080432-0470-417c-ec05-bd5042194d18"
      },
      "source": [
        "print(test_loss, test_acc)"
      ],
      "execution_count": null,
      "outputs": [
        {
          "output_type": "stream",
          "name": "stdout",
          "text": [
            "0.656348705291748 0.7542662024497986\n"
          ]
        }
      ]
    },
    {
      "cell_type": "code",
      "metadata": {
        "id": "0S1j9N-4OywF",
        "colab": {
          "base_uri": "https://localhost:8080/"
        },
        "outputId": "3a5de7e3-cb9d-48c3-f67b-73bf09bdac61"
      },
      "source": [
        "from sklearn.metrics import confusion_matrix\n",
        "from sklearn.metrics import classification_report\n",
        "import numpy as np\n",
        "\n",
        "filenames  = validation_generator.filenames\n",
        "nb_samples = len(filenames)/20\n",
        "# see how the model did!\n",
        "preds = model.predict_generator(validation_generator,steps = nb_samples)\n",
        "\n",
        "preds = np.argmax(preds, axis=1)\n",
        "preds\n",
        "\n",
        "\n",
        "print(confusion_matrix(validation_generator.classes, preds))"
      ],
      "execution_count": null,
      "outputs": [
        {
          "output_type": "stream",
          "name": "stderr",
          "text": [
            "/usr/local/lib/python3.7/dist-packages/keras/engine/training.py:2035: UserWarning: `Model.predict_generator` is deprecated and will be removed in a future version. Please use `Model.predict`, which supports generators.\n",
            "  warnings.warn('`Model.predict_generator` is deprecated and '\n"
          ]
        },
        {
          "output_type": "stream",
          "name": "stdout",
          "text": [
            "[[136   0]\n",
            " [157   0]]\n"
          ]
        }
      ]
    },
    {
      "cell_type": "code",
      "metadata": {
        "id": "a1bG2l6_WFme"
      },
      "source": [
        "print(classification_report(validation_generator.classes, preds))"
      ],
      "execution_count": null,
      "outputs": []
    },
    {
      "cell_type": "markdown",
      "metadata": {
        "id": "FldAaggWW7Kc"
      },
      "source": [
        "##Model2 Results\n"
      ]
    },
    {
      "cell_type": "code",
      "metadata": {
        "id": "W2CA1ZEiWuJU"
      },
      "source": [
        "test_lossf, test_accf = modelfinal.evaluate_generator(validation_generator)\n",
        "print(test_lossf, test_accf)\n"
      ],
      "execution_count": null,
      "outputs": []
    },
    {
      "cell_type": "code",
      "metadata": {
        "id": "FWDmr5kWXNTd",
        "colab": {
          "base_uri": "https://localhost:8080/"
        },
        "outputId": "d39920b6-6c6f-4b9d-e1a4-5adcb431cf52"
      },
      "source": [
        "from sklearn.metrics import confusion_matrix\n",
        "from sklearn.metrics import classification_report\n",
        "import numpy as np\n",
        "\n",
        "# see how the model did!\n",
        "predf = modelfinal.predict_generator(validation_generator)\n",
        "predf = np.argmax(predf, axis=1)\n",
        "predf\n",
        "\n",
        "\n",
        "print(confusion_matrix(validation_generator.classes, predf))"
      ],
      "execution_count": null,
      "outputs": [
        {
          "output_type": "stream",
          "name": "stderr",
          "text": [
            "/usr/local/lib/python3.7/dist-packages/keras/engine/training.py:2035: UserWarning: `Model.predict_generator` is deprecated and will be removed in a future version. Please use `Model.predict`, which supports generators.\n",
            "  warnings.warn('`Model.predict_generator` is deprecated and '\n"
          ]
        },
        {
          "output_type": "stream",
          "name": "stdout",
          "text": [
            "[[136   0]\n",
            " [157   0]]\n"
          ]
        }
      ]
    },
    {
      "cell_type": "code",
      "metadata": {
        "id": "e6clguY7XxJT",
        "colab": {
          "base_uri": "https://localhost:8080/"
        },
        "outputId": "a8b8c9f2-7344-46fa-f13e-91abc6c4de94"
      },
      "source": [
        "print(classification_report(validation_generator.classes, predf))"
      ],
      "execution_count": null,
      "outputs": [
        {
          "output_type": "stream",
          "name": "stdout",
          "text": [
            "              precision    recall  f1-score   support\n",
            "\n",
            "           0       0.46      1.00      0.63       136\n",
            "           1       0.00      0.00      0.00       157\n",
            "\n",
            "    accuracy                           0.46       293\n",
            "   macro avg       0.23      0.50      0.32       293\n",
            "weighted avg       0.22      0.46      0.29       293\n",
            "\n"
          ]
        },
        {
          "output_type": "stream",
          "name": "stderr",
          "text": [
            "/usr/local/lib/python3.7/dist-packages/sklearn/metrics/_classification.py:1272: UndefinedMetricWarning: Precision and F-score are ill-defined and being set to 0.0 in labels with no predicted samples. Use `zero_division` parameter to control this behavior.\n",
            "  _warn_prf(average, modifier, msg_start, len(result))\n"
          ]
        }
      ]
    },
    {
      "cell_type": "markdown",
      "metadata": {
        "id": "kB5VR_J4MMFI"
      },
      "source": [
        "## Baseline Model"
      ]
    },
    {
      "cell_type": "markdown",
      "metadata": {
        "id": "oBXo_MVCMYxw"
      },
      "source": [
        "A baseline model of random guessing would be correct half of the time since our training partition has 200 CT plates and 200 non-CT plates. Therefore, the baseline accuracy would be 50%"
      ]
    },
    {
      "cell_type": "markdown",
      "metadata": {
        "id": "F9H90IxTNYR2"
      },
      "source": [
        "# **Conclusion**\n",
        "Five bullet points that sum up everything you did and how it solves the business problem.\n",
        "\n",
        "* Images of CT license plates and random plates were scrapped from Google images\n",
        "* Covnet models were created in an attempt to distinguish Connecticut license plates from all other states.\n",
        "* Models could predict CT plates with up to 73% accuracy.\n",
        "* Results from these models could help determine what percentage of out of state drivers are driving on Connecticut highways.\n",
        "* Information would be useful to leaders drafting legislation for toll locations and rate setting."
      ]
    }
  ]
}