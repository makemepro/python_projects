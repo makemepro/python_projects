{
  "nbformat": 4,
  "nbformat_minor": 0,
  "metadata": {
    "colab": {
      "provenance": [],
      "toc_visible": true,
      "include_colab_link": true
    },
    "kernelspec": {
      "name": "python3",
      "display_name": "Python 3"
    }
  },
  "cells": [
    {
      "cell_type": "markdown",
      "metadata": {
        "id": "view-in-github",
        "colab_type": "text"
      },
      "source": [
        "<a href=\"https://colab.research.google.com/github/makemepro/python_projects/blob/main/vaccine_delivery_optimization.ipynb\" target=\"_parent\"><img src=\"https://colab.research.google.com/assets/colab-badge.svg\" alt=\"Open In Colab\"/></a>"
      ]
    },
    {
      "cell_type": "markdown",
      "metadata": {
        "id": "piAab8uDLh2U"
      },
      "source": [
        "# **Project 3: Delivering COVID Vaccines to CVS locations (Spring 2021)**\n",
        "\n",
        "**TRAVELING SALESMAN PROBLEM USING OR-TOOLS**\n",
        "\n",
        "**OPIM 5641: Business Decision Modeling - University of Connecticut**"
      ]
    },
    {
      "cell_type": "markdown",
      "metadata": {
        "id": "0CQUl0iOCJHm"
      },
      "source": [
        "## Problem Statement\n",
        "\n",
        "Imagine that you are in charge of vaccine distribution in 20 towns for the State of Connecticut. You have a distribution center set up at the Connecticut State Capitol (41.76428988852701, -72.68249918399205) and you will deliver the COVID vaccines to CVS stores in the shortest amount of distance (so that none of the vaccines will spoil)."
      ]
    },
    {
      "cell_type": "markdown",
      "metadata": {
        "id": "HG-GSdBODGI3"
      },
      "source": [
        "## Traveling Salesman Problem Description\n",
        "\n",
        "The TSP can be defined as follows: for a given list of cities and the distances between each pair of them, we want to find the shortest possible route that goes to each city once and returns to the origin city.\n",
        "\n",
        "We assume the cost of travel is same as the distance covered by the Salesperson who travels at constant speed.\n",
        "\n",
        "There is a class of Traveling Salesman Problems that assumes that the distance of going from city i\n",
        "to city j is the same as going form city j to city i, this type of Traveling Salesman Problem is also known as the symmetric Traveling Salesman Problem. In this example, we use Manhattan distances, but the TSP model formulation is valid independent of the way in which the individual distances are determined.\n",
        "OR tools accepts Manhattan distances in determining more accurate optimal solutions."
      ]
    },
    {
      "cell_type": "markdown",
      "metadata": {
        "id": "xvY_rEDNGN5t"
      },
      "source": [
        "## Adding solver for time calculation"
      ]
    },
    {
      "cell_type": "code",
      "metadata": {
        "colab": {
          "base_uri": "https://localhost:8080/"
        },
        "id": "vfepoWTIGXKo",
        "outputId": "81805e29-bde5-4733-d43f-3d797e2b4652"
      },
      "source": [
        "# In this notebook, I will want to check the amount of time spent in the execution of each cell, so I need to install an additional package\n",
        "!pip install ipython-autotime\n",
        "%load_ext autotime"
      ],
      "execution_count": null,
      "outputs": [
        {
          "output_type": "stream",
          "text": [
            "Requirement already satisfied: ipython-autotime in /usr/local/lib/python3.7/dist-packages (0.3.1)\n",
            "Requirement already satisfied: ipython in /usr/local/lib/python3.7/dist-packages (from ipython-autotime) (5.5.0)\n",
            "Requirement already satisfied: setuptools>=18.5 in /usr/local/lib/python3.7/dist-packages (from ipython->ipython-autotime) (56.0.0)\n",
            "Requirement already satisfied: prompt-toolkit<2.0.0,>=1.0.4 in /usr/local/lib/python3.7/dist-packages (from ipython->ipython-autotime) (1.0.18)\n",
            "Requirement already satisfied: decorator in /usr/local/lib/python3.7/dist-packages (from ipython->ipython-autotime) (4.4.2)\n",
            "Requirement already satisfied: pygments in /usr/local/lib/python3.7/dist-packages (from ipython->ipython-autotime) (2.6.1)\n",
            "Requirement already satisfied: pickleshare in /usr/local/lib/python3.7/dist-packages (from ipython->ipython-autotime) (0.7.5)\n",
            "Requirement already satisfied: traitlets>=4.2 in /usr/local/lib/python3.7/dist-packages (from ipython->ipython-autotime) (5.0.5)\n",
            "Requirement already satisfied: simplegeneric>0.8 in /usr/local/lib/python3.7/dist-packages (from ipython->ipython-autotime) (0.8.1)\n",
            "Requirement already satisfied: pexpect; sys_platform != \"win32\" in /usr/local/lib/python3.7/dist-packages (from ipython->ipython-autotime) (4.8.0)\n",
            "Requirement already satisfied: wcwidth in /usr/local/lib/python3.7/dist-packages (from prompt-toolkit<2.0.0,>=1.0.4->ipython->ipython-autotime) (0.2.5)\n",
            "Requirement already satisfied: six>=1.9.0 in /usr/local/lib/python3.7/dist-packages (from prompt-toolkit<2.0.0,>=1.0.4->ipython->ipython-autotime) (1.15.0)\n",
            "Requirement already satisfied: ipython-genutils in /usr/local/lib/python3.7/dist-packages (from traitlets>=4.2->ipython->ipython-autotime) (0.2.0)\n",
            "Requirement already satisfied: ptyprocess>=0.5 in /usr/local/lib/python3.7/dist-packages (from pexpect; sys_platform != \"win32\"->ipython->ipython-autotime) (0.7.0)\n",
            "The autotime extension is already loaded. To reload it, use:\n",
            "  %reload_ext autotime\n",
            "time: 2.84 s (started: 2021-04-28 10:35:10 +00:00)\n"
          ],
          "name": "stdout"
        }
      ]
    },
    {
      "cell_type": "code",
      "metadata": {
        "colab": {
          "base_uri": "https://localhost:8080/"
        },
        "id": "y3gINyugGaai",
        "outputId": "4543a6a2-630b-40b3-fe31-12701c102c2a"
      },
      "source": [
        "# Start Timer\n",
        "import time\n",
        "start = time.time() # Start time noted"
      ],
      "execution_count": null,
      "outputs": [
        {
          "output_type": "stream",
          "text": [
            "time: 1.58 ms (started: 2021-04-28 10:35:17 +00:00)\n"
          ],
          "name": "stdout"
        }
      ]
    },
    {
      "cell_type": "markdown",
      "metadata": {
        "id": "Vc4MWPNMHQCM"
      },
      "source": [
        "### Setting up our Environment/Imports"
      ]
    },
    {
      "cell_type": "code",
      "metadata": {
        "colab": {
          "base_uri": "https://localhost:8080/"
        },
        "id": "o2Wp7VAuHWjq",
        "outputId": "a24bc65a-9e32-4691-ecf7-64bd35d6060f"
      },
      "source": [
        "# importing pandas and numpy for operations\n",
        "import pandas as pd  #dataframes\n",
        "import numpy as np #arrays"
      ],
      "execution_count": null,
      "outputs": [
        {
          "output_type": "stream",
          "text": [
            "time: 1.32 ms (started: 2021-04-28 10:35:20 +00:00)\n"
          ],
          "name": "stdout"
        }
      ]
    },
    {
      "cell_type": "code",
      "metadata": {
        "colab": {
          "base_uri": "https://localhost:8080/"
        },
        "id": "fkClmkerHgSI",
        "outputId": "5eb2afe5-2826-40a6-c1be-93eb2cbfacb5"
      },
      "source": [
        "# importing packages to calculate location distances\n",
        "from sklearn.metrics.pairwise import manhattan_distances # manhattan distances\n",
        "from math import radians"
      ],
      "execution_count": null,
      "outputs": [
        {
          "output_type": "stream",
          "text": [
            "time: 1.26 ms (started: 2021-04-28 10:35:23 +00:00)\n"
          ],
          "name": "stdout"
        }
      ]
    },
    {
      "cell_type": "code",
      "metadata": {
        "colab": {
          "base_uri": "https://localhost:8080/"
        },
        "id": "xovYKRh5HqZN",
        "outputId": "97df6734-470a-42df-a186-5c2b156ea859"
      },
      "source": [
        "# importing packages to plot maps and plots\n",
        "import matplotlib.pyplot as plt\n",
        "import seaborn as sns\n",
        "# plotly packages\n",
        "import plotly.express as px\n",
        "import plotly.graph_objects as go\n",
        "import networkx as nx\n",
        "from pylab import *"
      ],
      "execution_count": null,
      "outputs": [
        {
          "output_type": "stream",
          "text": [
            "time: 2.91 ms (started: 2021-04-28 10:35:26 +00:00)\n"
          ],
          "name": "stdout"
        }
      ]
    },
    {
      "cell_type": "markdown",
      "metadata": {
        "id": "idjNoMUdGkZp"
      },
      "source": [
        "## Data Preparation"
      ]
    },
    {
      "cell_type": "code",
      "metadata": {
        "colab": {
          "base_uri": "https://localhost:8080/"
        },
        "id": "jsCcyudoKbKE",
        "outputId": "d70ed88a-82b2-4932-a36e-eb984e8a8b96"
      },
      "source": [
        "# Reading data from the .csv file on google drive\n",
        "# https://drive.google.com/file/d/10Bu4-12OXHj3SQjv-Gf11ptVDTwEA8BW/view?usp=sharing\n",
        "\n",
        "!gdown --id 10Bu4-12OXHj3SQjv-Gf11ptVDTwEA8BW"
      ],
      "execution_count": null,
      "outputs": [
        {
          "output_type": "stream",
          "text": [
            "Downloading...\n",
            "From: https://drive.google.com/uc?id=10Bu4-12OXHj3SQjv-Gf11ptVDTwEA8BW\n",
            "To: /content/cvsStores.csv\n",
            "\r  0% 0.00/2.97k [00:00<?, ?B/s]\r100% 2.97k/2.97k [00:00<00:00, 2.48MB/s]\n",
            "time: 730 ms (started: 2021-04-28 10:35:32 +00:00)\n"
          ],
          "name": "stdout"
        }
      ]
    },
    {
      "cell_type": "code",
      "metadata": {
        "colab": {
          "base_uri": "https://localhost:8080/"
        },
        "id": "48_4iFPXIQai",
        "outputId": "6aa84429-4b31-4b0f-80c4-0cf0dec04bdd"
      },
      "source": [
        "# Extracting data from the file\n",
        "# Transform excel file in a pandas dataframe\n",
        "df = pd.read_csv('cvsStores.csv')\n",
        "\n",
        "# Verifying the extracted data\n",
        "print(df)"
      ],
      "execution_count": null,
      "outputs": [
        {
          "output_type": "stream",
          "text": [
            "                 Town  StoreNumber  ...        Lat        Lon\n",
            "0       State Capitol            1  ...  41.764290 -72.682499\n",
            "1     Glastonbury (1)          459  ...  41.715477 -72.611455\n",
            "2     Glastonbury (2)         5450  ...  41.705379 -72.593939\n",
            "3      Kensington (1)         2119  ...  41.631274 -72.759555\n",
            "4         Clinton (1)         1284  ...  41.279014 -72.528462\n",
            "5   West Hartford (1)         1038  ...  41.761075 -72.716118\n",
            "6   West Hartford (2)        11072  ...  41.785493 -72.746118\n",
            "7   West Hartford (3)         1156  ...  41.755341 -72.766498\n",
            "8   West Hartford (4)        17777  ...  41.784085 -72.747909\n",
            "9   West Hartford (5)         2153  ...  41.752219 -72.743406\n",
            "10  West Hartford (6)          333  ...  41.761796 -72.744077\n",
            "11  West Hartford (7)          671  ...  41.731846 -72.730051\n",
            "12     New Canaan (1)         1213  ...  41.146379 -73.495169\n",
            "13  Old Greenwich (1)         1898  ...  41.031103 -73.567933\n",
            "14         Darien (1)          918  ...  41.076428 -73.470430\n",
            "15         Canton (1)         2253  ...  41.825007 -72.885491\n",
            "16     Brookfield (1)          696  ...  41.435008 -73.415050\n",
            "17         Berlin (1)         1155  ...  41.641177 -72.733968\n",
            "18      New Haven (1)        11007  ...  41.306292 -72.925315\n",
            "19      New Haven (2)         2259  ...  41.316188 -72.939527\n",
            "20      New Haven (3)          811  ...  41.329220 -72.968393\n",
            "21      Rockville (1)         2109  ...  41.868254 -72.467198\n",
            "22         Hebron (1)        10130  ...  41.660280 -72.355940\n",
            "23         Wilton (1)         3795  ...  41.194026 -73.431741\n",
            "24        Bristol (1)         1276  ...  41.681782 -72.946191\n",
            "25        Bristol (2)          288  ...  41.693719 -72.915892\n",
            "26        Bristol (3)         5703  ...  41.667302 -72.923107\n",
            "27     Farmington (1)          145  ...  41.704819 -72.844003\n",
            "28       Prospect (1)         1244  ...  41.507847 -72.980222\n",
            "29     Ridgefield (1)        10462  ...  41.267450 -73.443694\n",
            "30     Ridgefield (2)          738  ...  41.283030 -73.499899\n",
            "31         Monroe (1)         1941  ...  41.317346 -73.216338\n",
            "32         Hamden (1)        11081  ...  41.347439 -72.932979\n",
            "33         Hamden (2)          775  ...  41.367527 -72.919727\n",
            "\n",
            "[34 rows x 5 columns]\n",
            "time: 25 ms (started: 2021-04-28 10:35:36 +00:00)\n"
          ],
          "name": "stdout"
        }
      ]
    },
    {
      "cell_type": "markdown",
      "metadata": {
        "id": "XA-Z7r4TcMqo"
      },
      "source": [
        "**Connecticut State Capitol should be the first row, which is where our distribution center is.**\n",
        "\n",
        "It has randomly been assigned the StoreNumber 1."
      ]
    },
    {
      "cell_type": "code",
      "metadata": {
        "colab": {
          "base_uri": "https://localhost:8080/",
          "height": 376
        },
        "id": "KaD4ydbORpzZ",
        "outputId": "429e56b3-302f-4947-b799-b12b5c2b44ef"
      },
      "source": [
        "# Printing the first 10 rows of the data frame to verify the column names\n",
        "df.head(n=10)"
      ],
      "execution_count": null,
      "outputs": [
        {
          "output_type": "execute_result",
          "data": {
            "text/html": [
              "<div>\n",
              "<style scoped>\n",
              "    .dataframe tbody tr th:only-of-type {\n",
              "        vertical-align: middle;\n",
              "    }\n",
              "\n",
              "    .dataframe tbody tr th {\n",
              "        vertical-align: top;\n",
              "    }\n",
              "\n",
              "    .dataframe thead th {\n",
              "        text-align: right;\n",
              "    }\n",
              "</style>\n",
              "<table border=\"1\" class=\"dataframe\">\n",
              "  <thead>\n",
              "    <tr style=\"text-align: right;\">\n",
              "      <th></th>\n",
              "      <th>Town</th>\n",
              "      <th>StoreNumber</th>\n",
              "      <th>Address</th>\n",
              "      <th>Lat</th>\n",
              "      <th>Lon</th>\n",
              "    </tr>\n",
              "  </thead>\n",
              "  <tbody>\n",
              "    <tr>\n",
              "      <th>0</th>\n",
              "      <td>State Capitol</td>\n",
              "      <td>1</td>\n",
              "      <td>210 Capitol Ave, Hartford, CT 06106</td>\n",
              "      <td>41.764290</td>\n",
              "      <td>-72.682499</td>\n",
              "    </tr>\n",
              "    <tr>\n",
              "      <th>1</th>\n",
              "      <td>Glastonbury (1)</td>\n",
              "      <td>459</td>\n",
              "      <td>2639 Main St. Glastonbury, CT 06033</td>\n",
              "      <td>41.715477</td>\n",
              "      <td>-72.611455</td>\n",
              "    </tr>\n",
              "    <tr>\n",
              "      <th>2</th>\n",
              "      <td>Glastonbury (2)</td>\n",
              "      <td>5450</td>\n",
              "      <td>766 New London Turnpike Glastonbury, CT 06033</td>\n",
              "      <td>41.705379</td>\n",
              "      <td>-72.593939</td>\n",
              "    </tr>\n",
              "    <tr>\n",
              "      <th>3</th>\n",
              "      <td>Kensington (1)</td>\n",
              "      <td>2119</td>\n",
              "      <td>1055 Farmington Avenue Kensington, CT 06037</td>\n",
              "      <td>41.631274</td>\n",
              "      <td>-72.759555</td>\n",
              "    </tr>\n",
              "    <tr>\n",
              "      <th>4</th>\n",
              "      <td>Clinton (1)</td>\n",
              "      <td>1284</td>\n",
              "      <td>17 West Main Street Clinton, CT 06413</td>\n",
              "      <td>41.279014</td>\n",
              "      <td>-72.528462</td>\n",
              "    </tr>\n",
              "    <tr>\n",
              "      <th>5</th>\n",
              "      <td>West Hartford (1)</td>\n",
              "      <td>1038</td>\n",
              "      <td>1044 Boulevard West Hartford, CT 06119</td>\n",
              "      <td>41.761075</td>\n",
              "      <td>-72.716118</td>\n",
              "    </tr>\n",
              "    <tr>\n",
              "      <th>6</th>\n",
              "      <td>West Hartford (2)</td>\n",
              "      <td>11072</td>\n",
              "      <td>344 N Main St West Hartford, CT 06117</td>\n",
              "      <td>41.785493</td>\n",
              "      <td>-72.746118</td>\n",
              "    </tr>\n",
              "    <tr>\n",
              "      <th>7</th>\n",
              "      <td>West Hartford (3)</td>\n",
              "      <td>1156</td>\n",
              "      <td>1240 Farmington Avenue West Hartford, CT 06107</td>\n",
              "      <td>41.755341</td>\n",
              "      <td>-72.766498</td>\n",
              "    </tr>\n",
              "    <tr>\n",
              "      <th>8</th>\n",
              "      <td>West Hartford (4)</td>\n",
              "      <td>17777</td>\n",
              "      <td>333 North Main St, Suite 10 West Hartford, CT ...</td>\n",
              "      <td>41.784085</td>\n",
              "      <td>-72.747909</td>\n",
              "    </tr>\n",
              "    <tr>\n",
              "      <th>9</th>\n",
              "      <td>West Hartford (5)</td>\n",
              "      <td>2153</td>\n",
              "      <td>150 South Main Street West Hartford, CT 06107</td>\n",
              "      <td>41.752219</td>\n",
              "      <td>-72.743406</td>\n",
              "    </tr>\n",
              "  </tbody>\n",
              "</table>\n",
              "</div>"
            ],
            "text/plain": [
              "                Town  StoreNumber  ...        Lat        Lon\n",
              "0      State Capitol            1  ...  41.764290 -72.682499\n",
              "1    Glastonbury (1)          459  ...  41.715477 -72.611455\n",
              "2    Glastonbury (2)         5450  ...  41.705379 -72.593939\n",
              "3     Kensington (1)         2119  ...  41.631274 -72.759555\n",
              "4        Clinton (1)         1284  ...  41.279014 -72.528462\n",
              "5  West Hartford (1)         1038  ...  41.761075 -72.716118\n",
              "6  West Hartford (2)        11072  ...  41.785493 -72.746118\n",
              "7  West Hartford (3)         1156  ...  41.755341 -72.766498\n",
              "8  West Hartford (4)        17777  ...  41.784085 -72.747909\n",
              "9  West Hartford (5)         2153  ...  41.752219 -72.743406\n",
              "\n",
              "[10 rows x 5 columns]"
            ]
          },
          "metadata": {
            "tags": []
          },
          "execution_count": 142
        },
        {
          "output_type": "stream",
          "text": [
            "time: 19.9 ms (started: 2021-04-28 10:35:43 +00:00)\n"
          ],
          "name": "stdout"
        }
      ]
    },
    {
      "cell_type": "code",
      "metadata": {
        "colab": {
          "base_uri": "https://localhost:8080/"
        },
        "id": "PG54B9IWRvNE",
        "outputId": "ca75a938-148a-49d9-bd7e-4354e4209339"
      },
      "source": [
        "df.shape # Verifying the no of rows and columns"
      ],
      "execution_count": null,
      "outputs": [
        {
          "output_type": "execute_result",
          "data": {
            "text/plain": [
              "(34, 5)"
            ]
          },
          "metadata": {
            "tags": []
          },
          "execution_count": 143
        },
        {
          "output_type": "stream",
          "text": [
            "time: 6.66 ms (started: 2021-04-28 10:36:00 +00:00)\n"
          ],
          "name": "stdout"
        }
      ]
    },
    {
      "cell_type": "code",
      "metadata": {
        "colab": {
          "base_uri": "https://localhost:8080/"
        },
        "id": "qxqOYYVrR6oJ",
        "outputId": "a1dbbc99-3087-4a1f-8966-a1128fc00df6"
      },
      "source": [
        "df.info() # Printing summary statistics\n",
        "# The dataset has 34 rows and 5 columns. And all the columns have non-null values for each of their\n",
        "# 34 rows. Therefore there are no missing values."
      ],
      "execution_count": null,
      "outputs": [
        {
          "output_type": "stream",
          "text": [
            "<class 'pandas.core.frame.DataFrame'>\n",
            "RangeIndex: 34 entries, 0 to 33\n",
            "Data columns (total 5 columns):\n",
            " #   Column       Non-Null Count  Dtype  \n",
            "---  ------       --------------  -----  \n",
            " 0   Town         34 non-null     object \n",
            " 1   StoreNumber  34 non-null     int64  \n",
            " 2   Address      34 non-null     object \n",
            " 3   Lat          34 non-null     float64\n",
            " 4   Lon          34 non-null     float64\n",
            "dtypes: float64(2), int64(1), object(2)\n",
            "memory usage: 1.5+ KB\n",
            "time: 8.93 ms (started: 2021-04-28 10:36:04 +00:00)\n"
          ],
          "name": "stdout"
        }
      ]
    },
    {
      "cell_type": "code",
      "metadata": {
        "colab": {
          "base_uri": "https://localhost:8080/"
        },
        "id": "-w5svc9bSxxM",
        "outputId": "25e8cf96-699f-4817-8d37-4817aab03c4b"
      },
      "source": [
        "df.reset_index(inplace=True) # reset index"
      ],
      "execution_count": null,
      "outputs": [
        {
          "output_type": "stream",
          "text": [
            "time: 5.63 ms (started: 2021-04-28 10:36:09 +00:00)\n"
          ],
          "name": "stdout"
        }
      ]
    },
    {
      "cell_type": "code",
      "metadata": {
        "colab": {
          "base_uri": "https://localhost:8080/",
          "height": 559
        },
        "id": "rDRTuBQcTB_i",
        "outputId": "2d047b3e-d9aa-4eda-f305-df4758f9ecef"
      },
      "source": [
        "# plotting the towns on an interactive map\n",
        "fig = px.scatter_mapbox(df, lat=\"Lat\", lon=\"Lon\", color=\"Town\",zoom=8.25) #easy format to draw maps on plotly\n",
        "fig.update_layout(mapbox_style=\"carto-darkmatter\",title=\"Map for CVS Stores across cities\")\n",
        "config = dict({'scrollZoom': False}) #stopped zoom config for standard view capture\n",
        "fig.show(config=config)"
      ],
      "execution_count": null,
      "outputs": [
        {
          "output_type": "display_data",
          "data": {
            "text/html": [
              "<html>\n",
              "<head><meta charset=\"utf-8\" /></head>\n",
              "<body>\n",
              "    <div>\n",
              "            <script src=\"https://cdnjs.cloudflare.com/ajax/libs/mathjax/2.7.5/MathJax.js?config=TeX-AMS-MML_SVG\"></script><script type=\"text/javascript\">if (window.MathJax) {MathJax.Hub.Config({SVG: {font: \"STIX-Web\"}});}</script>\n",
              "                <script type=\"text/javascript\">window.PlotlyConfig = {MathJaxConfig: 'local'};</script>\n",
              "        <script src=\"https://cdn.plot.ly/plotly-latest.min.js\"></script>    \n",
              "            <div id=\"37a50279-3783-4586-8cc8-abc1dc572f07\" class=\"plotly-graph-div\" style=\"height:525px; width:100%;\"></div>\n",
              "            <script type=\"text/javascript\">\n",
              "                \n",
              "                    window.PLOTLYENV=window.PLOTLYENV || {};\n",
              "                    \n",
              "                if (document.getElementById(\"37a50279-3783-4586-8cc8-abc1dc572f07\")) {\n",
              "                    Plotly.newPlot(\n",
              "                        '37a50279-3783-4586-8cc8-abc1dc572f07',\n",
              "                        [{\"hoverlabel\": {\"namelength\": 0}, \"hovertemplate\": \"Town=State Capitol<br>Lat=%{lat}<br>Lon=%{lon}\", \"lat\": [41.76428989], \"legendgroup\": \"Town=State Capitol\", \"lon\": [-72.68249918], \"marker\": {\"color\": \"#636efa\"}, \"mode\": \"markers\", \"name\": \"Town=State Capitol\", \"showlegend\": true, \"subplot\": \"mapbox\", \"type\": \"scattermapbox\"}, {\"hoverlabel\": {\"namelength\": 0}, \"hovertemplate\": \"Town=Glastonbury (1)<br>Lat=%{lat}<br>Lon=%{lon}\", \"lat\": [41.71547718], \"legendgroup\": \"Town=Glastonbury (1)\", \"lon\": [-72.61145523], \"marker\": {\"color\": \"#EF553B\"}, \"mode\": \"markers\", \"name\": \"Town=Glastonbury (1)\", \"showlegend\": true, \"subplot\": \"mapbox\", \"type\": \"scattermapbox\"}, {\"hoverlabel\": {\"namelength\": 0}, \"hovertemplate\": \"Town=Glastonbury (2)<br>Lat=%{lat}<br>Lon=%{lon}\", \"lat\": [41.70537939], \"legendgroup\": \"Town=Glastonbury (2)\", \"lon\": [-72.59393854], \"marker\": {\"color\": \"#00cc96\"}, \"mode\": \"markers\", \"name\": \"Town=Glastonbury (2)\", \"showlegend\": true, \"subplot\": \"mapbox\", \"type\": \"scattermapbox\"}, {\"hoverlabel\": {\"namelength\": 0}, \"hovertemplate\": \"Town=Kensington (1)<br>Lat=%{lat}<br>Lon=%{lon}\", \"lat\": [41.63127394], \"legendgroup\": \"Town=Kensington (1)\", \"lon\": [-72.75955474], \"marker\": {\"color\": \"#ab63fa\"}, \"mode\": \"markers\", \"name\": \"Town=Kensington (1)\", \"showlegend\": true, \"subplot\": \"mapbox\", \"type\": \"scattermapbox\"}, {\"hoverlabel\": {\"namelength\": 0}, \"hovertemplate\": \"Town=Clinton (1)<br>Lat=%{lat}<br>Lon=%{lon}\", \"lat\": [41.27901446], \"legendgroup\": \"Town=Clinton (1)\", \"lon\": [-72.52846212], \"marker\": {\"color\": \"#FFA15A\"}, \"mode\": \"markers\", \"name\": \"Town=Clinton (1)\", \"showlegend\": true, \"subplot\": \"mapbox\", \"type\": \"scattermapbox\"}, {\"hoverlabel\": {\"namelength\": 0}, \"hovertemplate\": \"Town=West Hartford (1)<br>Lat=%{lat}<br>Lon=%{lon}\", \"lat\": [41.76107505], \"legendgroup\": \"Town=West Hartford (1)\", \"lon\": [-72.7161176], \"marker\": {\"color\": \"#19d3f3\"}, \"mode\": \"markers\", \"name\": \"Town=West Hartford (1)\", \"showlegend\": true, \"subplot\": \"mapbox\", \"type\": \"scattermapbox\"}, {\"hoverlabel\": {\"namelength\": 0}, \"hovertemplate\": \"Town=West Hartford (2)<br>Lat=%{lat}<br>Lon=%{lon}\", \"lat\": [41.78549258], \"legendgroup\": \"Town=West Hartford (2)\", \"lon\": [-72.74611836], \"marker\": {\"color\": \"#FF6692\"}, \"mode\": \"markers\", \"name\": \"Town=West Hartford (2)\", \"showlegend\": true, \"subplot\": \"mapbox\", \"type\": \"scattermapbox\"}, {\"hoverlabel\": {\"namelength\": 0}, \"hovertemplate\": \"Town=West Hartford (3)<br>Lat=%{lat}<br>Lon=%{lon}\", \"lat\": [41.75534058], \"legendgroup\": \"Town=West Hartford (3)\", \"lon\": [-72.76649752], \"marker\": {\"color\": \"#B6E880\"}, \"mode\": \"markers\", \"name\": \"Town=West Hartford (3)\", \"showlegend\": true, \"subplot\": \"mapbox\", \"type\": \"scattermapbox\"}, {\"hoverlabel\": {\"namelength\": 0}, \"hovertemplate\": \"Town=West Hartford (4)<br>Lat=%{lat}<br>Lon=%{lon}\", \"lat\": [41.78408508], \"legendgroup\": \"Town=West Hartford (4)\", \"lon\": [-72.74790929], \"marker\": {\"color\": \"#FF97FF\"}, \"mode\": \"markers\", \"name\": \"Town=West Hartford (4)\", \"showlegend\": true, \"subplot\": \"mapbox\", \"type\": \"scattermapbox\"}, {\"hoverlabel\": {\"namelength\": 0}, \"hovertemplate\": \"Town=West Hartford (5)<br>Lat=%{lat}<br>Lon=%{lon}\", \"lat\": [41.75221948], \"legendgroup\": \"Town=West Hartford (5)\", \"lon\": [-72.74340554], \"marker\": {\"color\": \"#FECB52\"}, \"mode\": \"markers\", \"name\": \"Town=West Hartford (5)\", \"showlegend\": true, \"subplot\": \"mapbox\", \"type\": \"scattermapbox\"}, {\"hoverlabel\": {\"namelength\": 0}, \"hovertemplate\": \"Town=West Hartford (6)<br>Lat=%{lat}<br>Lon=%{lon}\", \"lat\": [41.76179605], \"legendgroup\": \"Town=West Hartford (6)\", \"lon\": [-72.74407669], \"marker\": {\"color\": \"#636efa\"}, \"mode\": \"markers\", \"name\": \"Town=West Hartford (6)\", \"showlegend\": true, \"subplot\": \"mapbox\", \"type\": \"scattermapbox\"}, {\"hoverlabel\": {\"namelength\": 0}, \"hovertemplate\": \"Town=West Hartford (7)<br>Lat=%{lat}<br>Lon=%{lon}\", \"lat\": [41.73184570000001], \"legendgroup\": \"Town=West Hartford (7)\", \"lon\": [-72.73005133], \"marker\": {\"color\": \"#EF553B\"}, \"mode\": \"markers\", \"name\": \"Town=West Hartford (7)\", \"showlegend\": true, \"subplot\": \"mapbox\", \"type\": \"scattermapbox\"}, {\"hoverlabel\": {\"namelength\": 0}, \"hovertemplate\": \"Town=New Canaan (1)<br>Lat=%{lat}<br>Lon=%{lon}\", \"lat\": [41.14637858], \"legendgroup\": \"Town=New Canaan (1)\", \"lon\": [-73.49516904], \"marker\": {\"color\": \"#00cc96\"}, \"mode\": \"markers\", \"name\": \"Town=New Canaan (1)\", \"showlegend\": true, \"subplot\": \"mapbox\", \"type\": \"scattermapbox\"}, {\"hoverlabel\": {\"namelength\": 0}, \"hovertemplate\": \"Town=Old Greenwich (1)<br>Lat=%{lat}<br>Lon=%{lon}\", \"lat\": [41.0311029], \"legendgroup\": \"Town=Old Greenwich (1)\", \"lon\": [-73.56793309999999], \"marker\": {\"color\": \"#ab63fa\"}, \"mode\": \"markers\", \"name\": \"Town=Old Greenwich (1)\", \"showlegend\": true, \"subplot\": \"mapbox\", \"type\": \"scattermapbox\"}, {\"hoverlabel\": {\"namelength\": 0}, \"hovertemplate\": \"Town=Darien (1)<br>Lat=%{lat}<br>Lon=%{lon}\", \"lat\": [41.0764284], \"legendgroup\": \"Town=Darien (1)\", \"lon\": [-73.4704302], \"marker\": {\"color\": \"#FFA15A\"}, \"mode\": \"markers\", \"name\": \"Town=Darien (1)\", \"showlegend\": true, \"subplot\": \"mapbox\", \"type\": \"scattermapbox\"}, {\"hoverlabel\": {\"namelength\": 0}, \"hovertemplate\": \"Town=Canton (1)<br>Lat=%{lat}<br>Lon=%{lon}\", \"lat\": [41.8250066], \"legendgroup\": \"Town=Canton (1)\", \"lon\": [-72.8854906], \"marker\": {\"color\": \"#19d3f3\"}, \"mode\": \"markers\", \"name\": \"Town=Canton (1)\", \"showlegend\": true, \"subplot\": \"mapbox\", \"type\": \"scattermapbox\"}, {\"hoverlabel\": {\"namelength\": 0}, \"hovertemplate\": \"Town=Brookfield (1)<br>Lat=%{lat}<br>Lon=%{lon}\", \"lat\": [41.435008399999994], \"legendgroup\": \"Town=Brookfield (1)\", \"lon\": [-73.41505], \"marker\": {\"color\": \"#FF6692\"}, \"mode\": \"markers\", \"name\": \"Town=Brookfield (1)\", \"showlegend\": true, \"subplot\": \"mapbox\", \"type\": \"scattermapbox\"}, {\"hoverlabel\": {\"namelength\": 0}, \"hovertemplate\": \"Town=Berlin (1)<br>Lat=%{lat}<br>Lon=%{lon}\", \"lat\": [41.6411774], \"legendgroup\": \"Town=Berlin (1)\", \"lon\": [-72.7339675], \"marker\": {\"color\": \"#B6E880\"}, \"mode\": \"markers\", \"name\": \"Town=Berlin (1)\", \"showlegend\": true, \"subplot\": \"mapbox\", \"type\": \"scattermapbox\"}, {\"hoverlabel\": {\"namelength\": 0}, \"hovertemplate\": \"Town=New Haven (1)<br>Lat=%{lat}<br>Lon=%{lon}\", \"lat\": [41.3062916], \"legendgroup\": \"Town=New Haven (1)\", \"lon\": [-72.92531516], \"marker\": {\"color\": \"#FF97FF\"}, \"mode\": \"markers\", \"name\": \"Town=New Haven (1)\", \"showlegend\": true, \"subplot\": \"mapbox\", \"type\": \"scattermapbox\"}, {\"hoverlabel\": {\"namelength\": 0}, \"hovertemplate\": \"Town=New Haven (2)<br>Lat=%{lat}<br>Lon=%{lon}\", \"lat\": [41.31618834], \"legendgroup\": \"Town=New Haven (2)\", \"lon\": [-72.93952687], \"marker\": {\"color\": \"#FECB52\"}, \"mode\": \"markers\", \"name\": \"Town=New Haven (2)\", \"showlegend\": true, \"subplot\": \"mapbox\", \"type\": \"scattermapbox\"}, {\"hoverlabel\": {\"namelength\": 0}, \"hovertemplate\": \"Town=New Haven (3)<br>Lat=%{lat}<br>Lon=%{lon}\", \"lat\": [41.32921973], \"legendgroup\": \"Town=New Haven (3)\", \"lon\": [-72.96839324], \"marker\": {\"color\": \"#636efa\"}, \"mode\": \"markers\", \"name\": \"Town=New Haven (3)\", \"showlegend\": true, \"subplot\": \"mapbox\", \"type\": \"scattermapbox\"}, {\"hoverlabel\": {\"namelength\": 0}, \"hovertemplate\": \"Town=Rockville (1)<br>Lat=%{lat}<br>Lon=%{lon}\", \"lat\": [41.86825418], \"legendgroup\": \"Town=Rockville (1)\", \"lon\": [-72.46719814], \"marker\": {\"color\": \"#EF553B\"}, \"mode\": \"markers\", \"name\": \"Town=Rockville (1)\", \"showlegend\": true, \"subplot\": \"mapbox\", \"type\": \"scattermapbox\"}, {\"hoverlabel\": {\"namelength\": 0}, \"hovertemplate\": \"Town=Hebron (1)<br>Lat=%{lat}<br>Lon=%{lon}\", \"lat\": [41.66027971], \"legendgroup\": \"Town=Hebron (1)\", \"lon\": [-72.35594026], \"marker\": {\"color\": \"#00cc96\"}, \"mode\": \"markers\", \"name\": \"Town=Hebron (1)\", \"showlegend\": true, \"subplot\": \"mapbox\", \"type\": \"scattermapbox\"}, {\"hoverlabel\": {\"namelength\": 0}, \"hovertemplate\": \"Town=Wilton (1)<br>Lat=%{lat}<br>Lon=%{lon}\", \"lat\": [41.19402578], \"legendgroup\": \"Town=Wilton (1)\", \"lon\": [-73.43174133], \"marker\": {\"color\": \"#ab63fa\"}, \"mode\": \"markers\", \"name\": \"Town=Wilton (1)\", \"showlegend\": true, \"subplot\": \"mapbox\", \"type\": \"scattermapbox\"}, {\"hoverlabel\": {\"namelength\": 0}, \"hovertemplate\": \"Town=Bristol (1)<br>Lat=%{lat}<br>Lon=%{lon}\", \"lat\": [41.68178191], \"legendgroup\": \"Town=Bristol (1)\", \"lon\": [-72.94619109], \"marker\": {\"color\": \"#FFA15A\"}, \"mode\": \"markers\", \"name\": \"Town=Bristol (1)\", \"showlegend\": true, \"subplot\": \"mapbox\", \"type\": \"scattermapbox\"}, {\"hoverlabel\": {\"namelength\": 0}, \"hovertemplate\": \"Town=Bristol (2)<br>Lat=%{lat}<br>Lon=%{lon}\", \"lat\": [41.69371913], \"legendgroup\": \"Town=Bristol (2)\", \"lon\": [-72.91589206], \"marker\": {\"color\": \"#19d3f3\"}, \"mode\": \"markers\", \"name\": \"Town=Bristol (2)\", \"showlegend\": true, \"subplot\": \"mapbox\", \"type\": \"scattermapbox\"}, {\"hoverlabel\": {\"namelength\": 0}, \"hovertemplate\": \"Town=Bristol (3)<br>Lat=%{lat}<br>Lon=%{lon}\", \"lat\": [41.66730216], \"legendgroup\": \"Town=Bristol (3)\", \"lon\": [-72.92310666], \"marker\": {\"color\": \"#FF6692\"}, \"mode\": \"markers\", \"name\": \"Town=Bristol (3)\", \"showlegend\": true, \"subplot\": \"mapbox\", \"type\": \"scattermapbox\"}, {\"hoverlabel\": {\"namelength\": 0}, \"hovertemplate\": \"Town=Farmington (1)<br>Lat=%{lat}<br>Lon=%{lon}\", \"lat\": [41.70481927], \"legendgroup\": \"Town=Farmington (1)\", \"lon\": [-72.84400274], \"marker\": {\"color\": \"#B6E880\"}, \"mode\": \"markers\", \"name\": \"Town=Farmington (1)\", \"showlegend\": true, \"subplot\": \"mapbox\", \"type\": \"scattermapbox\"}, {\"hoverlabel\": {\"namelength\": 0}, \"hovertemplate\": \"Town=Prospect (1)<br>Lat=%{lat}<br>Lon=%{lon}\", \"lat\": [41.50784652], \"legendgroup\": \"Town=Prospect (1)\", \"lon\": [-72.9802223], \"marker\": {\"color\": \"#FF97FF\"}, \"mode\": \"markers\", \"name\": \"Town=Prospect (1)\", \"showlegend\": true, \"subplot\": \"mapbox\", \"type\": \"scattermapbox\"}, {\"hoverlabel\": {\"namelength\": 0}, \"hovertemplate\": \"Town=Ridgefield (1)<br>Lat=%{lat}<br>Lon=%{lon}\", \"lat\": [41.26745001], \"legendgroup\": \"Town=Ridgefield (1)\", \"lon\": [-73.4436939], \"marker\": {\"color\": \"#FECB52\"}, \"mode\": \"markers\", \"name\": \"Town=Ridgefield (1)\", \"showlegend\": true, \"subplot\": \"mapbox\", \"type\": \"scattermapbox\"}, {\"hoverlabel\": {\"namelength\": 0}, \"hovertemplate\": \"Town=Ridgefield (2)<br>Lat=%{lat}<br>Lon=%{lon}\", \"lat\": [41.28302995], \"legendgroup\": \"Town=Ridgefield (2)\", \"lon\": [-73.49989899], \"marker\": {\"color\": \"#636efa\"}, \"mode\": \"markers\", \"name\": \"Town=Ridgefield (2)\", \"showlegend\": true, \"subplot\": \"mapbox\", \"type\": \"scattermapbox\"}, {\"hoverlabel\": {\"namelength\": 0}, \"hovertemplate\": \"Town=Monroe (1)<br>Lat=%{lat}<br>Lon=%{lon}\", \"lat\": [41.31734643], \"legendgroup\": \"Town=Monroe (1)\", \"lon\": [-73.21633832], \"marker\": {\"color\": \"#EF553B\"}, \"mode\": \"markers\", \"name\": \"Town=Monroe (1)\", \"showlegend\": true, \"subplot\": \"mapbox\", \"type\": \"scattermapbox\"}, {\"hoverlabel\": {\"namelength\": 0}, \"hovertemplate\": \"Town=Hamden (1)<br>Lat=%{lat}<br>Lon=%{lon}\", \"lat\": [41.34743906], \"legendgroup\": \"Town=Hamden (1)\", \"lon\": [-72.93297940000001], \"marker\": {\"color\": \"#00cc96\"}, \"mode\": \"markers\", \"name\": \"Town=Hamden (1)\", \"showlegend\": true, \"subplot\": \"mapbox\", \"type\": \"scattermapbox\"}, {\"hoverlabel\": {\"namelength\": 0}, \"hovertemplate\": \"Town=Hamden (2)<br>Lat=%{lat}<br>Lon=%{lon}\", \"lat\": [41.36752697], \"legendgroup\": \"Town=Hamden (2)\", \"lon\": [-72.91972719], \"marker\": {\"color\": \"#ab63fa\"}, \"mode\": \"markers\", \"name\": \"Town=Hamden (2)\", \"showlegend\": true, \"subplot\": \"mapbox\", \"type\": \"scattermapbox\"}],\n",
              "                        {\"legend\": {\"tracegroupgap\": 0}, \"mapbox\": {\"center\": {\"lat\": 41.532203306176456, \"lon\": -72.9308321832353}, \"domain\": {\"x\": [0.0, 1.0], \"y\": [0.0, 1.0]}, \"style\": \"carto-darkmatter\", \"zoom\": 8.25}, \"margin\": {\"t\": 60}, \"template\": {\"data\": {\"bar\": [{\"error_x\": {\"color\": \"#2a3f5f\"}, \"error_y\": {\"color\": \"#2a3f5f\"}, \"marker\": {\"line\": {\"color\": \"#E5ECF6\", \"width\": 0.5}}, \"type\": \"bar\"}], \"barpolar\": [{\"marker\": {\"line\": {\"color\": \"#E5ECF6\", \"width\": 0.5}}, \"type\": \"barpolar\"}], \"carpet\": [{\"aaxis\": {\"endlinecolor\": \"#2a3f5f\", \"gridcolor\": \"white\", \"linecolor\": \"white\", \"minorgridcolor\": \"white\", \"startlinecolor\": \"#2a3f5f\"}, \"baxis\": {\"endlinecolor\": \"#2a3f5f\", \"gridcolor\": \"white\", \"linecolor\": \"white\", \"minorgridcolor\": \"white\", \"startlinecolor\": \"#2a3f5f\"}, \"type\": \"carpet\"}], \"choropleth\": [{\"colorbar\": {\"outlinewidth\": 0, \"ticks\": \"\"}, \"type\": \"choropleth\"}], \"contour\": [{\"colorbar\": {\"outlinewidth\": 0, \"ticks\": \"\"}, \"colorscale\": [[0.0, \"#0d0887\"], [0.1111111111111111, \"#46039f\"], [0.2222222222222222, \"#7201a8\"], [0.3333333333333333, \"#9c179e\"], [0.4444444444444444, \"#bd3786\"], [0.5555555555555556, \"#d8576b\"], [0.6666666666666666, \"#ed7953\"], [0.7777777777777778, \"#fb9f3a\"], [0.8888888888888888, \"#fdca26\"], [1.0, \"#f0f921\"]], \"type\": \"contour\"}], \"contourcarpet\": [{\"colorbar\": {\"outlinewidth\": 0, \"ticks\": \"\"}, \"type\": \"contourcarpet\"}], \"heatmap\": [{\"colorbar\": {\"outlinewidth\": 0, \"ticks\": \"\"}, \"colorscale\": [[0.0, \"#0d0887\"], [0.1111111111111111, \"#46039f\"], [0.2222222222222222, \"#7201a8\"], [0.3333333333333333, \"#9c179e\"], [0.4444444444444444, \"#bd3786\"], [0.5555555555555556, \"#d8576b\"], [0.6666666666666666, \"#ed7953\"], [0.7777777777777778, \"#fb9f3a\"], [0.8888888888888888, \"#fdca26\"], [1.0, \"#f0f921\"]], \"type\": \"heatmap\"}], \"heatmapgl\": [{\"colorbar\": {\"outlinewidth\": 0, \"ticks\": \"\"}, \"colorscale\": [[0.0, \"#0d0887\"], [0.1111111111111111, \"#46039f\"], [0.2222222222222222, \"#7201a8\"], [0.3333333333333333, \"#9c179e\"], [0.4444444444444444, \"#bd3786\"], [0.5555555555555556, \"#d8576b\"], [0.6666666666666666, \"#ed7953\"], [0.7777777777777778, \"#fb9f3a\"], [0.8888888888888888, \"#fdca26\"], [1.0, \"#f0f921\"]], \"type\": \"heatmapgl\"}], \"histogram\": [{\"marker\": {\"colorbar\": {\"outlinewidth\": 0, \"ticks\": \"\"}}, \"type\": \"histogram\"}], \"histogram2d\": [{\"colorbar\": {\"outlinewidth\": 0, \"ticks\": \"\"}, \"colorscale\": [[0.0, \"#0d0887\"], [0.1111111111111111, \"#46039f\"], [0.2222222222222222, \"#7201a8\"], [0.3333333333333333, \"#9c179e\"], [0.4444444444444444, \"#bd3786\"], [0.5555555555555556, \"#d8576b\"], [0.6666666666666666, \"#ed7953\"], [0.7777777777777778, \"#fb9f3a\"], [0.8888888888888888, \"#fdca26\"], [1.0, \"#f0f921\"]], \"type\": \"histogram2d\"}], \"histogram2dcontour\": [{\"colorbar\": {\"outlinewidth\": 0, \"ticks\": \"\"}, \"colorscale\": [[0.0, \"#0d0887\"], [0.1111111111111111, \"#46039f\"], [0.2222222222222222, \"#7201a8\"], [0.3333333333333333, \"#9c179e\"], [0.4444444444444444, \"#bd3786\"], [0.5555555555555556, \"#d8576b\"], [0.6666666666666666, \"#ed7953\"], [0.7777777777777778, \"#fb9f3a\"], [0.8888888888888888, \"#fdca26\"], [1.0, \"#f0f921\"]], \"type\": \"histogram2dcontour\"}], \"mesh3d\": [{\"colorbar\": {\"outlinewidth\": 0, \"ticks\": \"\"}, \"type\": \"mesh3d\"}], \"parcoords\": [{\"line\": {\"colorbar\": {\"outlinewidth\": 0, \"ticks\": \"\"}}, \"type\": \"parcoords\"}], \"pie\": [{\"automargin\": true, \"type\": \"pie\"}], \"scatter\": [{\"marker\": {\"colorbar\": {\"outlinewidth\": 0, \"ticks\": \"\"}}, \"type\": \"scatter\"}], \"scatter3d\": [{\"line\": {\"colorbar\": {\"outlinewidth\": 0, \"ticks\": \"\"}}, \"marker\": {\"colorbar\": {\"outlinewidth\": 0, \"ticks\": \"\"}}, \"type\": \"scatter3d\"}], \"scattercarpet\": [{\"marker\": {\"colorbar\": {\"outlinewidth\": 0, \"ticks\": \"\"}}, \"type\": \"scattercarpet\"}], \"scattergeo\": [{\"marker\": {\"colorbar\": {\"outlinewidth\": 0, \"ticks\": \"\"}}, \"type\": \"scattergeo\"}], \"scattergl\": [{\"marker\": {\"colorbar\": {\"outlinewidth\": 0, \"ticks\": \"\"}}, \"type\": \"scattergl\"}], \"scattermapbox\": [{\"marker\": {\"colorbar\": {\"outlinewidth\": 0, \"ticks\": \"\"}}, \"type\": \"scattermapbox\"}], \"scatterpolar\": [{\"marker\": {\"colorbar\": {\"outlinewidth\": 0, \"ticks\": \"\"}}, \"type\": \"scatterpolar\"}], \"scatterpolargl\": [{\"marker\": {\"colorbar\": {\"outlinewidth\": 0, \"ticks\": \"\"}}, \"type\": \"scatterpolargl\"}], \"scatterternary\": [{\"marker\": {\"colorbar\": {\"outlinewidth\": 0, \"ticks\": \"\"}}, \"type\": \"scatterternary\"}], \"surface\": [{\"colorbar\": {\"outlinewidth\": 0, \"ticks\": \"\"}, \"colorscale\": [[0.0, \"#0d0887\"], [0.1111111111111111, \"#46039f\"], [0.2222222222222222, \"#7201a8\"], [0.3333333333333333, \"#9c179e\"], [0.4444444444444444, \"#bd3786\"], [0.5555555555555556, \"#d8576b\"], [0.6666666666666666, \"#ed7953\"], [0.7777777777777778, \"#fb9f3a\"], [0.8888888888888888, \"#fdca26\"], [1.0, \"#f0f921\"]], \"type\": \"surface\"}], \"table\": [{\"cells\": {\"fill\": {\"color\": \"#EBF0F8\"}, \"line\": {\"color\": \"white\"}}, \"header\": {\"fill\": {\"color\": \"#C8D4E3\"}, \"line\": {\"color\": \"white\"}}, \"type\": \"table\"}]}, \"layout\": {\"annotationdefaults\": {\"arrowcolor\": \"#2a3f5f\", \"arrowhead\": 0, \"arrowwidth\": 1}, \"coloraxis\": {\"colorbar\": {\"outlinewidth\": 0, \"ticks\": \"\"}}, \"colorscale\": {\"diverging\": [[0, \"#8e0152\"], [0.1, \"#c51b7d\"], [0.2, \"#de77ae\"], [0.3, \"#f1b6da\"], [0.4, \"#fde0ef\"], [0.5, \"#f7f7f7\"], [0.6, \"#e6f5d0\"], [0.7, \"#b8e186\"], [0.8, \"#7fbc41\"], [0.9, \"#4d9221\"], [1, \"#276419\"]], \"sequential\": [[0.0, \"#0d0887\"], [0.1111111111111111, \"#46039f\"], [0.2222222222222222, \"#7201a8\"], [0.3333333333333333, \"#9c179e\"], [0.4444444444444444, \"#bd3786\"], [0.5555555555555556, \"#d8576b\"], [0.6666666666666666, \"#ed7953\"], [0.7777777777777778, \"#fb9f3a\"], [0.8888888888888888, \"#fdca26\"], [1.0, \"#f0f921\"]], \"sequentialminus\": [[0.0, \"#0d0887\"], [0.1111111111111111, \"#46039f\"], [0.2222222222222222, \"#7201a8\"], [0.3333333333333333, \"#9c179e\"], [0.4444444444444444, \"#bd3786\"], [0.5555555555555556, \"#d8576b\"], [0.6666666666666666, \"#ed7953\"], [0.7777777777777778, \"#fb9f3a\"], [0.8888888888888888, \"#fdca26\"], [1.0, \"#f0f921\"]]}, \"colorway\": [\"#636efa\", \"#EF553B\", \"#00cc96\", \"#ab63fa\", \"#FFA15A\", \"#19d3f3\", \"#FF6692\", \"#B6E880\", \"#FF97FF\", \"#FECB52\"], \"font\": {\"color\": \"#2a3f5f\"}, \"geo\": {\"bgcolor\": \"white\", \"lakecolor\": \"white\", \"landcolor\": \"#E5ECF6\", \"showlakes\": true, \"showland\": true, \"subunitcolor\": \"white\"}, \"hoverlabel\": {\"align\": \"left\"}, \"hovermode\": \"closest\", \"mapbox\": {\"style\": \"light\"}, \"paper_bgcolor\": \"white\", \"plot_bgcolor\": \"#E5ECF6\", \"polar\": {\"angularaxis\": {\"gridcolor\": \"white\", \"linecolor\": \"white\", \"ticks\": \"\"}, \"bgcolor\": \"#E5ECF6\", \"radialaxis\": {\"gridcolor\": \"white\", \"linecolor\": \"white\", \"ticks\": \"\"}}, \"scene\": {\"xaxis\": {\"backgroundcolor\": \"#E5ECF6\", \"gridcolor\": \"white\", \"gridwidth\": 2, \"linecolor\": \"white\", \"showbackground\": true, \"ticks\": \"\", \"zerolinecolor\": \"white\"}, \"yaxis\": {\"backgroundcolor\": \"#E5ECF6\", \"gridcolor\": \"white\", \"gridwidth\": 2, \"linecolor\": \"white\", \"showbackground\": true, \"ticks\": \"\", \"zerolinecolor\": \"white\"}, \"zaxis\": {\"backgroundcolor\": \"#E5ECF6\", \"gridcolor\": \"white\", \"gridwidth\": 2, \"linecolor\": \"white\", \"showbackground\": true, \"ticks\": \"\", \"zerolinecolor\": \"white\"}}, \"shapedefaults\": {\"line\": {\"color\": \"#2a3f5f\"}}, \"ternary\": {\"aaxis\": {\"gridcolor\": \"white\", \"linecolor\": \"white\", \"ticks\": \"\"}, \"baxis\": {\"gridcolor\": \"white\", \"linecolor\": \"white\", \"ticks\": \"\"}, \"bgcolor\": \"#E5ECF6\", \"caxis\": {\"gridcolor\": \"white\", \"linecolor\": \"white\", \"ticks\": \"\"}}, \"title\": {\"x\": 0.05}, \"xaxis\": {\"automargin\": true, \"gridcolor\": \"white\", \"linecolor\": \"white\", \"ticks\": \"\", \"title\": {\"standoff\": 15}, \"zerolinecolor\": \"white\", \"zerolinewidth\": 2}, \"yaxis\": {\"automargin\": true, \"gridcolor\": \"white\", \"linecolor\": \"white\", \"ticks\": \"\", \"title\": {\"standoff\": 15}, \"zerolinecolor\": \"white\", \"zerolinewidth\": 2}}}, \"title\": {\"text\": \"Map for CVS Stores across cities\"}},\n",
              "                        {\"scrollZoom\": false, \"responsive\": true}\n",
              "                    ).then(function(){\n",
              "                            \n",
              "var gd = document.getElementById('37a50279-3783-4586-8cc8-abc1dc572f07');\n",
              "var x = new MutationObserver(function (mutations, observer) {{\n",
              "        var display = window.getComputedStyle(gd).display;\n",
              "        if (!display || display === 'none') {{\n",
              "            console.log([gd, 'removed!']);\n",
              "            Plotly.purge(gd);\n",
              "            observer.disconnect();\n",
              "        }}\n",
              "}});\n",
              "\n",
              "// Listen for the removal of the full notebook cells\n",
              "var notebookContainer = gd.closest('#notebook-container');\n",
              "if (notebookContainer) {{\n",
              "    x.observe(notebookContainer, {childList: true});\n",
              "}}\n",
              "\n",
              "// Listen for the clearing of the current output cell\n",
              "var outputEl = gd.closest('.output');\n",
              "if (outputEl) {{\n",
              "    x.observe(outputEl, {childList: true});\n",
              "}}\n",
              "\n",
              "                        })\n",
              "                };\n",
              "                \n",
              "            </script>\n",
              "        </div>\n",
              "</body>\n",
              "</html>"
            ]
          },
          "metadata": {
            "tags": []
          }
        },
        {
          "output_type": "stream",
          "text": [
            "time: 518 ms (started: 2021-04-28 10:36:13 +00:00)\n"
          ],
          "name": "stdout"
        }
      ]
    },
    {
      "cell_type": "code",
      "metadata": {
        "colab": {
          "base_uri": "https://localhost:8080/",
          "height": 1000
        },
        "id": "JZq6F66eQzkS",
        "outputId": "8d5c0a87-006c-4a24-af4b-b27d8df8fa58"
      },
      "source": [
        "# X-longitude,Y-latitude\n",
        "geogTable = df[['Town','Lon','Lat']]\n",
        "geogTable"
      ],
      "execution_count": null,
      "outputs": [
        {
          "output_type": "execute_result",
          "data": {
            "text/html": [
              "<div>\n",
              "<style scoped>\n",
              "    .dataframe tbody tr th:only-of-type {\n",
              "        vertical-align: middle;\n",
              "    }\n",
              "\n",
              "    .dataframe tbody tr th {\n",
              "        vertical-align: top;\n",
              "    }\n",
              "\n",
              "    .dataframe thead th {\n",
              "        text-align: right;\n",
              "    }\n",
              "</style>\n",
              "<table border=\"1\" class=\"dataframe\">\n",
              "  <thead>\n",
              "    <tr style=\"text-align: right;\">\n",
              "      <th></th>\n",
              "      <th>Town</th>\n",
              "      <th>Lon</th>\n",
              "      <th>Lat</th>\n",
              "    </tr>\n",
              "  </thead>\n",
              "  <tbody>\n",
              "    <tr>\n",
              "      <th>0</th>\n",
              "      <td>State Capitol</td>\n",
              "      <td>-72.682499</td>\n",
              "      <td>41.764290</td>\n",
              "    </tr>\n",
              "    <tr>\n",
              "      <th>1</th>\n",
              "      <td>Glastonbury (1)</td>\n",
              "      <td>-72.611455</td>\n",
              "      <td>41.715477</td>\n",
              "    </tr>\n",
              "    <tr>\n",
              "      <th>2</th>\n",
              "      <td>Glastonbury (2)</td>\n",
              "      <td>-72.593939</td>\n",
              "      <td>41.705379</td>\n",
              "    </tr>\n",
              "    <tr>\n",
              "      <th>3</th>\n",
              "      <td>Kensington (1)</td>\n",
              "      <td>-72.759555</td>\n",
              "      <td>41.631274</td>\n",
              "    </tr>\n",
              "    <tr>\n",
              "      <th>4</th>\n",
              "      <td>Clinton (1)</td>\n",
              "      <td>-72.528462</td>\n",
              "      <td>41.279014</td>\n",
              "    </tr>\n",
              "    <tr>\n",
              "      <th>5</th>\n",
              "      <td>West Hartford (1)</td>\n",
              "      <td>-72.716118</td>\n",
              "      <td>41.761075</td>\n",
              "    </tr>\n",
              "    <tr>\n",
              "      <th>6</th>\n",
              "      <td>West Hartford (2)</td>\n",
              "      <td>-72.746118</td>\n",
              "      <td>41.785493</td>\n",
              "    </tr>\n",
              "    <tr>\n",
              "      <th>7</th>\n",
              "      <td>West Hartford (3)</td>\n",
              "      <td>-72.766498</td>\n",
              "      <td>41.755341</td>\n",
              "    </tr>\n",
              "    <tr>\n",
              "      <th>8</th>\n",
              "      <td>West Hartford (4)</td>\n",
              "      <td>-72.747909</td>\n",
              "      <td>41.784085</td>\n",
              "    </tr>\n",
              "    <tr>\n",
              "      <th>9</th>\n",
              "      <td>West Hartford (5)</td>\n",
              "      <td>-72.743406</td>\n",
              "      <td>41.752219</td>\n",
              "    </tr>\n",
              "    <tr>\n",
              "      <th>10</th>\n",
              "      <td>West Hartford (6)</td>\n",
              "      <td>-72.744077</td>\n",
              "      <td>41.761796</td>\n",
              "    </tr>\n",
              "    <tr>\n",
              "      <th>11</th>\n",
              "      <td>West Hartford (7)</td>\n",
              "      <td>-72.730051</td>\n",
              "      <td>41.731846</td>\n",
              "    </tr>\n",
              "    <tr>\n",
              "      <th>12</th>\n",
              "      <td>New Canaan (1)</td>\n",
              "      <td>-73.495169</td>\n",
              "      <td>41.146379</td>\n",
              "    </tr>\n",
              "    <tr>\n",
              "      <th>13</th>\n",
              "      <td>Old Greenwich (1)</td>\n",
              "      <td>-73.567933</td>\n",
              "      <td>41.031103</td>\n",
              "    </tr>\n",
              "    <tr>\n",
              "      <th>14</th>\n",
              "      <td>Darien (1)</td>\n",
              "      <td>-73.470430</td>\n",
              "      <td>41.076428</td>\n",
              "    </tr>\n",
              "    <tr>\n",
              "      <th>15</th>\n",
              "      <td>Canton (1)</td>\n",
              "      <td>-72.885491</td>\n",
              "      <td>41.825007</td>\n",
              "    </tr>\n",
              "    <tr>\n",
              "      <th>16</th>\n",
              "      <td>Brookfield (1)</td>\n",
              "      <td>-73.415050</td>\n",
              "      <td>41.435008</td>\n",
              "    </tr>\n",
              "    <tr>\n",
              "      <th>17</th>\n",
              "      <td>Berlin (1)</td>\n",
              "      <td>-72.733968</td>\n",
              "      <td>41.641177</td>\n",
              "    </tr>\n",
              "    <tr>\n",
              "      <th>18</th>\n",
              "      <td>New Haven (1)</td>\n",
              "      <td>-72.925315</td>\n",
              "      <td>41.306292</td>\n",
              "    </tr>\n",
              "    <tr>\n",
              "      <th>19</th>\n",
              "      <td>New Haven (2)</td>\n",
              "      <td>-72.939527</td>\n",
              "      <td>41.316188</td>\n",
              "    </tr>\n",
              "    <tr>\n",
              "      <th>20</th>\n",
              "      <td>New Haven (3)</td>\n",
              "      <td>-72.968393</td>\n",
              "      <td>41.329220</td>\n",
              "    </tr>\n",
              "    <tr>\n",
              "      <th>21</th>\n",
              "      <td>Rockville (1)</td>\n",
              "      <td>-72.467198</td>\n",
              "      <td>41.868254</td>\n",
              "    </tr>\n",
              "    <tr>\n",
              "      <th>22</th>\n",
              "      <td>Hebron (1)</td>\n",
              "      <td>-72.355940</td>\n",
              "      <td>41.660280</td>\n",
              "    </tr>\n",
              "    <tr>\n",
              "      <th>23</th>\n",
              "      <td>Wilton (1)</td>\n",
              "      <td>-73.431741</td>\n",
              "      <td>41.194026</td>\n",
              "    </tr>\n",
              "    <tr>\n",
              "      <th>24</th>\n",
              "      <td>Bristol (1)</td>\n",
              "      <td>-72.946191</td>\n",
              "      <td>41.681782</td>\n",
              "    </tr>\n",
              "    <tr>\n",
              "      <th>25</th>\n",
              "      <td>Bristol (2)</td>\n",
              "      <td>-72.915892</td>\n",
              "      <td>41.693719</td>\n",
              "    </tr>\n",
              "    <tr>\n",
              "      <th>26</th>\n",
              "      <td>Bristol (3)</td>\n",
              "      <td>-72.923107</td>\n",
              "      <td>41.667302</td>\n",
              "    </tr>\n",
              "    <tr>\n",
              "      <th>27</th>\n",
              "      <td>Farmington (1)</td>\n",
              "      <td>-72.844003</td>\n",
              "      <td>41.704819</td>\n",
              "    </tr>\n",
              "    <tr>\n",
              "      <th>28</th>\n",
              "      <td>Prospect (1)</td>\n",
              "      <td>-72.980222</td>\n",
              "      <td>41.507847</td>\n",
              "    </tr>\n",
              "    <tr>\n",
              "      <th>29</th>\n",
              "      <td>Ridgefield (1)</td>\n",
              "      <td>-73.443694</td>\n",
              "      <td>41.267450</td>\n",
              "    </tr>\n",
              "    <tr>\n",
              "      <th>30</th>\n",
              "      <td>Ridgefield (2)</td>\n",
              "      <td>-73.499899</td>\n",
              "      <td>41.283030</td>\n",
              "    </tr>\n",
              "    <tr>\n",
              "      <th>31</th>\n",
              "      <td>Monroe (1)</td>\n",
              "      <td>-73.216338</td>\n",
              "      <td>41.317346</td>\n",
              "    </tr>\n",
              "    <tr>\n",
              "      <th>32</th>\n",
              "      <td>Hamden (1)</td>\n",
              "      <td>-72.932979</td>\n",
              "      <td>41.347439</td>\n",
              "    </tr>\n",
              "    <tr>\n",
              "      <th>33</th>\n",
              "      <td>Hamden (2)</td>\n",
              "      <td>-72.919727</td>\n",
              "      <td>41.367527</td>\n",
              "    </tr>\n",
              "  </tbody>\n",
              "</table>\n",
              "</div>"
            ],
            "text/plain": [
              "                 Town        Lon        Lat\n",
              "0       State Capitol -72.682499  41.764290\n",
              "1     Glastonbury (1) -72.611455  41.715477\n",
              "2     Glastonbury (2) -72.593939  41.705379\n",
              "3      Kensington (1) -72.759555  41.631274\n",
              "4         Clinton (1) -72.528462  41.279014\n",
              "5   West Hartford (1) -72.716118  41.761075\n",
              "6   West Hartford (2) -72.746118  41.785493\n",
              "7   West Hartford (3) -72.766498  41.755341\n",
              "8   West Hartford (4) -72.747909  41.784085\n",
              "9   West Hartford (5) -72.743406  41.752219\n",
              "10  West Hartford (6) -72.744077  41.761796\n",
              "11  West Hartford (7) -72.730051  41.731846\n",
              "12     New Canaan (1) -73.495169  41.146379\n",
              "13  Old Greenwich (1) -73.567933  41.031103\n",
              "14         Darien (1) -73.470430  41.076428\n",
              "15         Canton (1) -72.885491  41.825007\n",
              "16     Brookfield (1) -73.415050  41.435008\n",
              "17         Berlin (1) -72.733968  41.641177\n",
              "18      New Haven (1) -72.925315  41.306292\n",
              "19      New Haven (2) -72.939527  41.316188\n",
              "20      New Haven (3) -72.968393  41.329220\n",
              "21      Rockville (1) -72.467198  41.868254\n",
              "22         Hebron (1) -72.355940  41.660280\n",
              "23         Wilton (1) -73.431741  41.194026\n",
              "24        Bristol (1) -72.946191  41.681782\n",
              "25        Bristol (2) -72.915892  41.693719\n",
              "26        Bristol (3) -72.923107  41.667302\n",
              "27     Farmington (1) -72.844003  41.704819\n",
              "28       Prospect (1) -72.980222  41.507847\n",
              "29     Ridgefield (1) -73.443694  41.267450\n",
              "30     Ridgefield (2) -73.499899  41.283030\n",
              "31         Monroe (1) -73.216338  41.317346\n",
              "32         Hamden (1) -72.932979  41.347439\n",
              "33         Hamden (2) -72.919727  41.367527"
            ]
          },
          "metadata": {
            "tags": []
          },
          "execution_count": 147
        },
        {
          "output_type": "stream",
          "text": [
            "time: 25.4 ms (started: 2021-04-28 10:36:37 +00:00)\n"
          ],
          "name": "stdout"
        }
      ]
    },
    {
      "cell_type": "code",
      "metadata": {
        "colab": {
          "base_uri": "https://localhost:8080/"
        },
        "id": "p-DP75JuUsNd",
        "outputId": "d664f8e6-5363-43ad-8533-a574a1cf43e8"
      },
      "source": [
        "# Make a back-up of the original XY data...\n",
        "geogTable_orig = geogTable"
      ],
      "execution_count": null,
      "outputs": [
        {
          "output_type": "stream",
          "text": [
            "time: 872 µs (started: 2021-04-28 10:36:53 +00:00)\n"
          ],
          "name": "stdout"
        }
      ]
    },
    {
      "cell_type": "code",
      "metadata": {
        "colab": {
          "base_uri": "https://localhost:8080/",
          "height": 296
        },
        "id": "hlTayypNUw2e",
        "outputId": "b7c9dcee-9f20-44ec-d3cc-7efb93b2c88e"
      },
      "source": [
        "# 2D map of the cities...\n",
        "geogTable.plot.scatter(x='Lon', y='Lat') #x=long,Y=lat here\n",
        "plt.show()"
      ],
      "execution_count": null,
      "outputs": [
        {
          "output_type": "display_data",
          "data": {
            "image/png": "[encoded data removed]",
            "text/plain": [
              "<Figure size 432x288 with 1 Axes>"
            ]
          },
          "metadata": {
            "tags": [],
            "needs_background": "light"
          }
        },
        {
          "output_type": "stream",
          "text": [
            "time: 169 ms (started: 2021-04-28 10:36:56 +00:00)\n"
          ],
          "name": "stdout"
        }
      ]
    },
    {
      "cell_type": "markdown",
      "metadata": {
        "id": "-N0yBeeUVBjE"
      },
      "source": [
        "### Using OR Tools"
      ]
    },
    {
      "cell_type": "markdown",
      "metadata": {
        "id": "kGhhN_1UVK8i"
      },
      "source": [
        "#### Installing OR Tools package"
      ]
    },
    {
      "cell_type": "code",
      "metadata": {
        "colab": {
          "base_uri": "https://localhost:8080/"
        },
        "id": "4jH9J0X1VOoE",
        "outputId": "413eb3c7-bd94-49f6-b31a-7ecf9d7d0685"
      },
      "source": [
        "!pip install ortools"
      ],
      "execution_count": null,
      "outputs": [
        {
          "output_type": "stream",
          "text": [
            "Requirement already satisfied: ortools in /usr/local/lib/python3.7/dist-packages (8.2.8710)\n",
            "Requirement already satisfied: protobuf>=3.14.0 in /usr/local/lib/python3.7/dist-packages (from ortools) (3.15.8)\n",
            "Requirement already satisfied: absl-py>=0.11 in /usr/local/lib/python3.7/dist-packages (from ortools) (0.12.0)\n",
            "Requirement already satisfied: six>=1.9 in /usr/local/lib/python3.7/dist-packages (from protobuf>=3.14.0->ortools) (1.15.0)\n",
            "time: 2.84 s (started: 2021-04-28 10:37:10 +00:00)\n"
          ],
          "name": "stdout"
        }
      ]
    },
    {
      "cell_type": "markdown",
      "metadata": {
        "id": "InBoRcpSVbZH"
      },
      "source": [
        "**Traveling Salesman Problem is a model of simple Vehicle Routing Problem with one Vehicle and no Depot**"
      ]
    },
    {
      "cell_type": "markdown",
      "metadata": {
        "id": "HiFVs3qiVowJ"
      },
      "source": [
        "### Calculating Manhattan Distances"
      ]
    },
    {
      "cell_type": "code",
      "metadata": {
        "colab": {
          "base_uri": "https://localhost:8080/"
        },
        "id": "vWg3jm-nVWgX",
        "outputId": "928adb01-2f1e-42bf-a38d-088ad7329abf"
      },
      "source": [
        "from sklearn.metrics.pairwise import manhattan_distances\n",
        "# got the same result!\n",
        "\n",
        "geogDist1=np.round(manhattan_distances(geogTable[['Lon', 'Lat']])* 6371000/1000)  # multiply by Earth radius to get kilometers\n",
        "# distances are rounded to the nearest integer, since the routing solver does all computations with integers\n",
        "geogDist1"
      ],
      "execution_count": null,
      "outputs": [
        {
          "output_type": "execute_result",
          "data": {
            "text/plain": [
              "array([[   0.,  764.,  940., ..., 6249., 4252., 4039.],\n",
              "       [ 764.,    0.,  176., ..., 6390., 4393., 4181.],\n",
              "       [ 940.,  176.,    0., ..., 6437., 4440., 4228.],\n",
              "       ...,\n",
              "       [6249., 6390., 6437., ...,    0., 1997., 2209.],\n",
              "       [4252., 4393., 4440., ..., 1997.,    0.,  212.],\n",
              "       [4039., 4181., 4228., ..., 2209.,  212.,    0.]])"
            ]
          },
          "metadata": {
            "tags": []
          },
          "execution_count": 151
        },
        {
          "output_type": "stream",
          "text": [
            "time: 11.7 ms (started: 2021-04-28 10:37:16 +00:00)\n"
          ],
          "name": "stdout"
        }
      ]
    },
    {
      "cell_type": "code",
      "metadata": {
        "colab": {
          "base_uri": "https://localhost:8080/"
        },
        "id": "sHYC-C3zX0S3",
        "outputId": "09a0e7af-9591-4e2b-9295-82d19dcdacbf"
      },
      "source": [
        "# geogDistTemp=pd.DataFrame(geogDist1,index=df['Town'],columns=df['Town']) #distance matrix"
      ],
      "execution_count": null,
      "outputs": [
        {
          "output_type": "stream",
          "text": [
            "time: 1.07 ms (started: 2021-04-28 10:37:20 +00:00)\n"
          ],
          "name": "stdout"
        }
      ]
    },
    {
      "cell_type": "code",
      "metadata": {
        "colab": {
          "base_uri": "https://localhost:8080/"
        },
        "id": "V4TVPU3kYCGQ",
        "outputId": "dd9e1ced-fb19-4663-d54d-299d652dac71"
      },
      "source": [
        "# np.fill_diagonal(geogDistTemp.values, 99999)"
      ],
      "execution_count": null,
      "outputs": [
        {
          "output_type": "stream",
          "text": [
            "time: 741 µs (started: 2021-04-28 10:37:22 +00:00)\n"
          ],
          "name": "stdout"
        }
      ]
    },
    {
      "cell_type": "code",
      "metadata": {
        "colab": {
          "base_uri": "https://localhost:8080/"
        },
        "id": "Dat68zevYHoa",
        "outputId": "c0308be0-92d6-46a1-bdee-1e0981a24176"
      },
      "source": [
        "# geogDistTemp #it worked"
      ],
      "execution_count": null,
      "outputs": [
        {
          "output_type": "stream",
          "text": [
            "time: 744 µs (started: 2021-04-28 10:37:24 +00:00)\n"
          ],
          "name": "stdout"
        }
      ]
    },
    {
      "cell_type": "code",
      "metadata": {
        "colab": {
          "base_uri": "https://localhost:8080/"
        },
        "id": "Ct-lg_EjYY67",
        "outputId": "0ea5a70d-35fd-4303-dd90-73f5ca2a6dd8"
      },
      "source": [
        "# now convert back to numpy array\n",
        "# geogDistTemp = np.array(geogDistTemp)\n",
        "# geogDistTemp"
      ],
      "execution_count": null,
      "outputs": [
        {
          "output_type": "stream",
          "text": [
            "time: 1.09 ms (started: 2021-04-28 10:37:28 +00:00)\n"
          ],
          "name": "stdout"
        }
      ]
    },
    {
      "cell_type": "markdown",
      "metadata": {
        "id": "MmzBGvyAWGwm"
      },
      "source": [
        "### Importing Google OR tools solver packages"
      ]
    },
    {
      "cell_type": "code",
      "metadata": {
        "colab": {
          "base_uri": "https://localhost:8080/"
        },
        "id": "OIYcnwosWLSe",
        "outputId": "9d8332a8-e269-429c-ea8b-214acdbae251"
      },
      "source": [
        "# [START import]\n",
        "\n",
        "from ortools.constraint_solver import routing_enums_pb2\n",
        "from ortools.constraint_solver import pywrapcp\n",
        "\n",
        "# [END import]"
      ],
      "execution_count": null,
      "outputs": [
        {
          "output_type": "stream",
          "text": [
            "time: 1.38 ms (started: 2021-04-28 10:37:32 +00:00)\n"
          ],
          "name": "stdout"
        }
      ]
    },
    {
      "cell_type": "markdown",
      "metadata": {
        "id": "EorHCLE-WQfh"
      },
      "source": [
        "### Creating Distance matrix\n",
        "\n",
        "**Depot is the first row in the data model.**"
      ]
    },
    {
      "cell_type": "code",
      "metadata": {
        "colab": {
          "base_uri": "https://localhost:8080/"
        },
        "id": "fRKbSNKdWdT5",
        "outputId": "8ef026d7-0555-4d23-9b87-9304f8880767"
      },
      "source": [
        "# [START data_model]\n",
        "\n",
        "def create_data_model():\n",
        "    \"\"\"Stores the data for the problem.\"\"\"\n",
        "    data = {}\n",
        "    data['distance_matrix'] = geogDist1 # cost matrix with integer values\n",
        "    data['num_vehicles'] = 1 # The number of vehicles is 1 because this is a TSP\n",
        "    data['depot'] = 0 # The start and end location for the route. In this case, the depot is 0, which corresponds to State Capitol.\n",
        "    return data\n",
        "\n",
        "# [END data_model]"
      ],
      "execution_count": null,
      "outputs": [
        {
          "output_type": "stream",
          "text": [
            "time: 3.06 ms (started: 2021-04-28 10:37:36 +00:00)\n"
          ],
          "name": "stdout"
        }
      ]
    },
    {
      "cell_type": "markdown",
      "metadata": {
        "id": "VS4Q4AP0WmNJ"
      },
      "source": [
        "### Print_Solution function"
      ]
    },
    {
      "cell_type": "code",
      "metadata": {
        "colab": {
          "base_uri": "https://localhost:8080/"
        },
        "id": "OMvJOs_5Wp0C",
        "outputId": "d4455bce-7dfd-40c7-e204-8e89ce2327ef"
      },
      "source": [
        "# [START solution_printer]\n",
        "\n",
        "def print_solution(manager, routing, solution):\n",
        "    \"\"\"Prints solution on console.\"\"\"\n",
        "    print('Objective: {} km'.format(solution.ObjectiveValue())) # printing objective function\n",
        "    index = routing.Start(0)\n",
        "    plan_output = 'Route for vehicle 0:\\n'\n",
        "    route_distance = 0\n",
        "    tsp=[] # solution matrix\n",
        "    while not routing.IsEnd(index):\n",
        "        plan_output += ' {} ->'.format(manager.IndexToNode(index))\n",
        "        tsp.append(manager.IndexToNode(index)) # adding solution\n",
        "        previous_index = index\n",
        "        index = solution.Value(routing.NextVar(index))\n",
        "        route_distance += routing.GetArcCostForVehicle(previous_index, index, 0)\n",
        "    plan_output += ' {}\\n'.format(manager.IndexToNode(index))\n",
        "    print(plan_output)\n",
        "    plan_output += 'Route distance: {}km\\n'.format(route_distance)\n",
        "    return tsp\n",
        "\n",
        "# [END solution_printer]"
      ],
      "execution_count": null,
      "outputs": [
        {
          "output_type": "stream",
          "text": [
            "time: 13.5 ms (started: 2021-04-28 10:37:40 +00:00)\n"
          ],
          "name": "stdout"
        }
      ]
    },
    {
      "cell_type": "markdown",
      "metadata": {
        "id": "1cG6Ovn_UtcV"
      },
      "source": [
        "### Creating the data model"
      ]
    },
    {
      "cell_type": "code",
      "metadata": {
        "colab": {
          "base_uri": "https://localhost:8080/"
        },
        "id": "sj31wo8PUyqI",
        "outputId": "9b668264-a90e-498f-8fb0-ff2e18d4f037"
      },
      "source": [
        "# Instantiate the data problem.\n",
        "# [START data]\n",
        "\n",
        "data = create_data_model() # create model\n",
        "\n",
        "# [END data]"
      ],
      "execution_count": null,
      "outputs": [
        {
          "output_type": "stream",
          "text": [
            "time: 1.35 ms (started: 2021-04-28 10:37:44 +00:00)\n"
          ],
          "name": "stdout"
        }
      ]
    },
    {
      "cell_type": "code",
      "metadata": {
        "colab": {
          "base_uri": "https://localhost:8080/"
        },
        "id": "t3BKpMm-U1ua",
        "outputId": "8b195f06-f053-475a-b737-679b793be0e0"
      },
      "source": [
        "# Check your work!\n",
        "data"
      ],
      "execution_count": null,
      "outputs": [
        {
          "output_type": "execute_result",
          "data": {
            "text/plain": [
              "{'depot': 0,\n",
              " 'distance_matrix': array([[   0.,  764.,  940., ..., 6249., 4252., 4039.],\n",
              "        [ 764.,    0.,  176., ..., 6390., 4393., 4181.],\n",
              "        [ 940.,  176.,    0., ..., 6437., 4440., 4228.],\n",
              "        ...,\n",
              "        [6249., 6390., 6437., ...,    0., 1997., 2209.],\n",
              "        [4252., 4393., 4440., ..., 1997.,    0.,  212.],\n",
              "        [4039., 4181., 4228., ..., 2209.,  212.,    0.]]),\n",
              " 'num_vehicles': 1}"
            ]
          },
          "metadata": {
            "tags": []
          },
          "execution_count": 160
        },
        {
          "output_type": "stream",
          "text": [
            "time: 5.18 ms (started: 2021-04-28 10:37:46 +00:00)\n"
          ],
          "name": "stdout"
        }
      ]
    },
    {
      "cell_type": "markdown",
      "metadata": {
        "id": "ZOD6uQYuVZ2J"
      },
      "source": [
        "### Creating the Routing Index Manager and Routing Model."
      ]
    },
    {
      "cell_type": "code",
      "metadata": {
        "colab": {
          "base_uri": "https://localhost:8080/"
        },
        "id": "VN3pKOBsVZDb",
        "outputId": "c55995cc-b9c6-4c0d-cb47-c29dd13c42bf"
      },
      "source": [
        "# Create the routing index manager.\n",
        "# [START index_manager]\n",
        "\n",
        "manager = pywrapcp.RoutingIndexManager(len(data['distance_matrix']),\n",
        "                                       data['num_vehicles'], data['depot'])\n",
        "\n",
        "# [END index_manager]\n",
        "\n",
        "# Create Routing Model.\n",
        "# [START routing_model]\n",
        "\n",
        "routing = pywrapcp.RoutingModel(manager)\n",
        "\n",
        "# [END routing_model]"
      ],
      "execution_count": null,
      "outputs": [
        {
          "output_type": "stream",
          "text": [
            "time: 6.83 ms (started: 2021-04-28 10:37:53 +00:00)\n"
          ],
          "name": "stdout"
        }
      ]
    },
    {
      "cell_type": "markdown",
      "metadata": {
        "id": "J9FH6Io4Vjvh"
      },
      "source": [
        "### Linking nodes with distance and a callback"
      ]
    },
    {
      "cell_type": "code",
      "metadata": {
        "colab": {
          "base_uri": "https://localhost:8080/"
        },
        "id": "-Uvy328IVmTq",
        "outputId": "277a1c4c-f291-4c7f-bf73-e1e84b3dd7e0"
      },
      "source": [
        "# [START transit_callback]\n",
        "\n",
        "def distance_callback(from_index, to_index):\n",
        "    \"\"\"Returns the distance between the two nodes.\"\"\"\n",
        "    # Convert from routing variable Index to distance matrix Node Index.\n",
        "    from_node = manager.IndexToNode(from_index) #link nodes with distance\n",
        "    to_node = manager.IndexToNode(to_index)     #new distance matrix that OR tools understand\n",
        "    return data['distance_matrix'][from_node][to_node]\n",
        "\n",
        "#set a callback to the distance or cost function\n",
        "transit_callback_index = routing.RegisterTransitCallback(distance_callback)\n",
        "# [END transit_callback]"
      ],
      "execution_count": null,
      "outputs": [
        {
          "output_type": "stream",
          "text": [
            "time: 5.35 ms (started: 2021-04-28 10:37:57 +00:00)\n"
          ],
          "name": "stdout"
        }
      ]
    },
    {
      "cell_type": "markdown",
      "metadata": {
        "id": "l3Id-VzAV0o3"
      },
      "source": [
        "### Defining cost of each arc"
      ]
    },
    {
      "cell_type": "code",
      "metadata": {
        "colab": {
          "base_uri": "https://localhost:8080/"
        },
        "id": "JdhCxLN-VzXU",
        "outputId": "a99da1aa-eff7-4fb4-bdae-106f1fdae688"
      },
      "source": [
        "# Define cost of each arc.\n",
        "# [START arc_cost]\n",
        "\n",
        "routing.SetArcCostEvaluatorOfAllVehicles(transit_callback_index) #use that callback to configure the objective heuristic(cost)\n",
        "\n",
        "# [END arc_cost]"
      ],
      "execution_count": null,
      "outputs": [
        {
          "output_type": "stream",
          "text": [
            "time: 2.12 ms (started: 2021-04-28 10:38:02 +00:00)\n"
          ],
          "name": "stdout"
        }
      ]
    },
    {
      "cell_type": "markdown",
      "metadata": {
        "id": "sUeNiO9gWA7N"
      },
      "source": [
        "## Scenario 1: Automatic\n",
        "\n",
        "(just accept all defaults)"
      ]
    },
    {
      "cell_type": "markdown",
      "metadata": {
        "id": "nKgGYBJ1XsKl"
      },
      "source": [
        "**Setting first solution heuristic**\n",
        "\n",
        "**Local search options**"
      ]
    },
    {
      "cell_type": "code",
      "metadata": {
        "colab": {
          "base_uri": "https://localhost:8080/"
        },
        "id": "VdjGQxytWViJ",
        "outputId": "06ca891f-9019-48df-c304-bc7d436b0c1b"
      },
      "source": [
        "search_parameters = pywrapcp.DefaultRoutingSearchParameters() # Setting default parameters for TSP\n",
        "search_parameters.local_search_metaheuristic = (\n",
        "    routing_enums_pb2.LocalSearchMetaheuristic.AUTOMATIC) # \"Automatic\" solution strategy alogrithm used\n",
        "search_parameters.time_limit.seconds = 30\n",
        "search_parameters.log_search = True"
      ],
      "execution_count": null,
      "outputs": [
        {
          "output_type": "stream",
          "text": [
            "time: 2.75 ms (started: 2021-04-28 10:38:13 +00:00)\n"
          ],
          "name": "stdout"
        }
      ]
    },
    {
      "cell_type": "markdown",
      "metadata": {
        "id": "mIT9i4J3WEB_"
      },
      "source": [
        "#### First solution strategy options"
      ]
    },
    {
      "cell_type": "code",
      "metadata": {
        "colab": {
          "base_uri": "https://localhost:8080/"
        },
        "id": "TKoRbGlYY-LM",
        "outputId": "41567026-3054-4bde-e350-34434edded89"
      },
      "source": [
        "# [START parameters]\n",
        "\n",
        "search_parameters = pywrapcp.DefaultRoutingSearchParameters() #setting default parameters for TSP   #more options in VRP\n",
        "search_parameters.first_solution_strategy = (routing_enums_pb2.FirstSolutionStrategy.AUTOMATIC) # set it to AUTOMATIC mode for strategy\n",
        "\n",
        "\n",
        "# [END parameters]\n"
      ],
      "execution_count": null,
      "outputs": [
        {
          "output_type": "stream",
          "text": [
            "time: 2.12 ms (started: 2021-04-28 10:38:17 +00:00)\n"
          ],
          "name": "stdout"
        }
      ]
    },
    {
      "cell_type": "markdown",
      "metadata": {
        "id": "PUFlBqAzZCjH"
      },
      "source": [
        "#### Running the solver"
      ]
    },
    {
      "cell_type": "code",
      "metadata": {
        "colab": {
          "base_uri": "https://localhost:8080/"
        },
        "id": "LASjD7A0ZUA3",
        "outputId": "a3c540d0-8cee-4607-deef-dc435d548eb0"
      },
      "source": [
        "# [START solve]\n",
        "\n",
        "# Solve the problem.\n",
        "solution = routing.SolveWithParameters(search_parameters) #solve with those parameters\n",
        "\n",
        "# [END solve]\n"
      ],
      "execution_count": null,
      "outputs": [
        {
          "output_type": "stream",
          "text": [
            "time: 43.3 ms (started: 2021-04-28 10:38:21 +00:00)\n"
          ],
          "name": "stdout"
        }
      ]
    },
    {
      "cell_type": "markdown",
      "metadata": {
        "id": "eJk4BjAGZWNw"
      },
      "source": [
        "#### Printing the solution"
      ]
    },
    {
      "cell_type": "code",
      "metadata": {
        "colab": {
          "base_uri": "https://localhost:8080/"
        },
        "id": "6eXGyW2gZYjY",
        "outputId": "d5f46e28-fe28-41f9-c00c-041647851b68"
      },
      "source": [
        "# [START print_solution]\n",
        "\n",
        "#use the print function generated before to print the solution & add to tsp array\n",
        "if solution:\n",
        "    tsp1=print_solution(manager, routing, solution)\n",
        "\n",
        "# [END print_solution]"
      ],
      "execution_count": null,
      "outputs": [
        {
          "output_type": "stream",
          "text": [
            "Objective: 31868 km\n",
            "Route for vehicle 0:\n",
            " 0 -> 5 -> 10 -> 6 -> 8 -> 7 -> 9 -> 11 -> 17 -> 3 -> 27 -> 15 -> 25 -> 26 -> 24 -> 28 -> 16 -> 30 -> 12 -> 13 -> 14 -> 23 -> 29 -> 31 -> 20 -> 19 -> 32 -> 33 -> 18 -> 4 -> 22 -> 21 -> 2 -> 1 -> 0\n",
            "\n",
            "time: 4.1 ms (started: 2021-04-28 10:38:25 +00:00)\n"
          ],
          "name": "stdout"
        }
      ]
    },
    {
      "cell_type": "code",
      "metadata": {
        "colab": {
          "base_uri": "https://localhost:8080/"
        },
        "id": "8gJdkv6-ZcBd",
        "outputId": "29330523-0703-450a-a492-ccfe219e0ace"
      },
      "source": [
        "tsp1=np.array(tsp1)\n",
        "tsp1 #solution array"
      ],
      "execution_count": null,
      "outputs": [
        {
          "output_type": "execute_result",
          "data": {
            "text/plain": [
              "array([ 0,  5, 10,  6,  8,  7,  9, 11, 17,  3, 27, 15, 25, 26, 24, 28, 16,\n",
              "       30, 12, 13, 14, 23, 29, 31, 20, 19, 32, 33, 18,  4, 22, 21,  2,  1])"
            ]
          },
          "metadata": {
            "tags": []
          },
          "execution_count": 168
        },
        {
          "output_type": "stream",
          "text": [
            "time: 8.52 ms (started: 2021-04-28 10:38:34 +00:00)\n"
          ],
          "name": "stdout"
        }
      ]
    },
    {
      "cell_type": "code",
      "metadata": {
        "colab": {
          "base_uri": "https://localhost:8080/",
          "height": 1000
        },
        "id": "mldIhy9MZiO4",
        "outputId": "e4604406-da4b-4910-f43c-2b1fcc107d7a"
      },
      "source": [
        "# now reindex the original data\n",
        "geogTable_orig2 = geogTable_orig.reindex(tsp1)\n",
        "\n",
        "# Adding an additional row with the coordinates of State Capitol (Distribution Center), such that\n",
        "# The succeeding visualizations depict the shortest route beginning and ending at the State Capitol\n",
        "geogTable_orig2.loc[len(geogTable_orig2.index)] = geogTable_orig2.iloc[0,:]\n",
        "# geogTable_orig2.loc[23,:]=geogTable_orig2.iloc[0,:]\n",
        "geogTable_orig2"
      ],
      "execution_count": null,
      "outputs": [
        {
          "output_type": "execute_result",
          "data": {
            "text/html": [
              "<div>\n",
              "<style scoped>\n",
              "    .dataframe tbody tr th:only-of-type {\n",
              "        vertical-align: middle;\n",
              "    }\n",
              "\n",
              "    .dataframe tbody tr th {\n",
              "        vertical-align: top;\n",
              "    }\n",
              "\n",
              "    .dataframe thead th {\n",
              "        text-align: right;\n",
              "    }\n",
              "</style>\n",
              "<table border=\"1\" class=\"dataframe\">\n",
              "  <thead>\n",
              "    <tr style=\"text-align: right;\">\n",
              "      <th></th>\n",
              "      <th>Town</th>\n",
              "      <th>Lon</th>\n",
              "      <th>Lat</th>\n",
              "    </tr>\n",
              "  </thead>\n",
              "  <tbody>\n",
              "    <tr>\n",
              "      <th>0</th>\n",
              "      <td>State Capitol</td>\n",
              "      <td>-72.682499</td>\n",
              "      <td>41.764290</td>\n",
              "    </tr>\n",
              "    <tr>\n",
              "      <th>5</th>\n",
              "      <td>West Hartford (1)</td>\n",
              "      <td>-72.716118</td>\n",
              "      <td>41.761075</td>\n",
              "    </tr>\n",
              "    <tr>\n",
              "      <th>10</th>\n",
              "      <td>West Hartford (6)</td>\n",
              "      <td>-72.744077</td>\n",
              "      <td>41.761796</td>\n",
              "    </tr>\n",
              "    <tr>\n",
              "      <th>6</th>\n",
              "      <td>West Hartford (2)</td>\n",
              "      <td>-72.746118</td>\n",
              "      <td>41.785493</td>\n",
              "    </tr>\n",
              "    <tr>\n",
              "      <th>8</th>\n",
              "      <td>West Hartford (4)</td>\n",
              "      <td>-72.747909</td>\n",
              "      <td>41.784085</td>\n",
              "    </tr>\n",
              "    <tr>\n",
              "      <th>7</th>\n",
              "      <td>West Hartford (3)</td>\n",
              "      <td>-72.766498</td>\n",
              "      <td>41.755341</td>\n",
              "    </tr>\n",
              "    <tr>\n",
              "      <th>9</th>\n",
              "      <td>West Hartford (5)</td>\n",
              "      <td>-72.743406</td>\n",
              "      <td>41.752219</td>\n",
              "    </tr>\n",
              "    <tr>\n",
              "      <th>11</th>\n",
              "      <td>West Hartford (7)</td>\n",
              "      <td>-72.730051</td>\n",
              "      <td>41.731846</td>\n",
              "    </tr>\n",
              "    <tr>\n",
              "      <th>17</th>\n",
              "      <td>Berlin (1)</td>\n",
              "      <td>-72.733968</td>\n",
              "      <td>41.641177</td>\n",
              "    </tr>\n",
              "    <tr>\n",
              "      <th>3</th>\n",
              "      <td>Kensington (1)</td>\n",
              "      <td>-72.759555</td>\n",
              "      <td>41.631274</td>\n",
              "    </tr>\n",
              "    <tr>\n",
              "      <th>27</th>\n",
              "      <td>Farmington (1)</td>\n",
              "      <td>-72.844003</td>\n",
              "      <td>41.704819</td>\n",
              "    </tr>\n",
              "    <tr>\n",
              "      <th>15</th>\n",
              "      <td>Canton (1)</td>\n",
              "      <td>-72.885491</td>\n",
              "      <td>41.825007</td>\n",
              "    </tr>\n",
              "    <tr>\n",
              "      <th>25</th>\n",
              "      <td>Bristol (2)</td>\n",
              "      <td>-72.915892</td>\n",
              "      <td>41.693719</td>\n",
              "    </tr>\n",
              "    <tr>\n",
              "      <th>26</th>\n",
              "      <td>Bristol (3)</td>\n",
              "      <td>-72.923107</td>\n",
              "      <td>41.667302</td>\n",
              "    </tr>\n",
              "    <tr>\n",
              "      <th>24</th>\n",
              "      <td>Bristol (1)</td>\n",
              "      <td>-72.946191</td>\n",
              "      <td>41.681782</td>\n",
              "    </tr>\n",
              "    <tr>\n",
              "      <th>28</th>\n",
              "      <td>Prospect (1)</td>\n",
              "      <td>-72.980222</td>\n",
              "      <td>41.507847</td>\n",
              "    </tr>\n",
              "    <tr>\n",
              "      <th>16</th>\n",
              "      <td>Brookfield (1)</td>\n",
              "      <td>-73.415050</td>\n",
              "      <td>41.435008</td>\n",
              "    </tr>\n",
              "    <tr>\n",
              "      <th>30</th>\n",
              "      <td>Ridgefield (2)</td>\n",
              "      <td>-73.499899</td>\n",
              "      <td>41.283030</td>\n",
              "    </tr>\n",
              "    <tr>\n",
              "      <th>12</th>\n",
              "      <td>New Canaan (1)</td>\n",
              "      <td>-73.495169</td>\n",
              "      <td>41.146379</td>\n",
              "    </tr>\n",
              "    <tr>\n",
              "      <th>13</th>\n",
              "      <td>Old Greenwich (1)</td>\n",
              "      <td>-73.567933</td>\n",
              "      <td>41.031103</td>\n",
              "    </tr>\n",
              "    <tr>\n",
              "      <th>14</th>\n",
              "      <td>Darien (1)</td>\n",
              "      <td>-73.470430</td>\n",
              "      <td>41.076428</td>\n",
              "    </tr>\n",
              "    <tr>\n",
              "      <th>23</th>\n",
              "      <td>Wilton (1)</td>\n",
              "      <td>-73.431741</td>\n",
              "      <td>41.194026</td>\n",
              "    </tr>\n",
              "    <tr>\n",
              "      <th>29</th>\n",
              "      <td>Ridgefield (1)</td>\n",
              "      <td>-73.443694</td>\n",
              "      <td>41.267450</td>\n",
              "    </tr>\n",
              "    <tr>\n",
              "      <th>31</th>\n",
              "      <td>Monroe (1)</td>\n",
              "      <td>-73.216338</td>\n",
              "      <td>41.317346</td>\n",
              "    </tr>\n",
              "    <tr>\n",
              "      <th>20</th>\n",
              "      <td>New Haven (3)</td>\n",
              "      <td>-72.968393</td>\n",
              "      <td>41.329220</td>\n",
              "    </tr>\n",
              "    <tr>\n",
              "      <th>19</th>\n",
              "      <td>New Haven (2)</td>\n",
              "      <td>-72.939527</td>\n",
              "      <td>41.316188</td>\n",
              "    </tr>\n",
              "    <tr>\n",
              "      <th>32</th>\n",
              "      <td>Hamden (1)</td>\n",
              "      <td>-72.932979</td>\n",
              "      <td>41.347439</td>\n",
              "    </tr>\n",
              "    <tr>\n",
              "      <th>33</th>\n",
              "      <td>Hamden (2)</td>\n",
              "      <td>-72.919727</td>\n",
              "      <td>41.367527</td>\n",
              "    </tr>\n",
              "    <tr>\n",
              "      <th>18</th>\n",
              "      <td>New Haven (1)</td>\n",
              "      <td>-72.925315</td>\n",
              "      <td>41.306292</td>\n",
              "    </tr>\n",
              "    <tr>\n",
              "      <th>4</th>\n",
              "      <td>Clinton (1)</td>\n",
              "      <td>-72.528462</td>\n",
              "      <td>41.279014</td>\n",
              "    </tr>\n",
              "    <tr>\n",
              "      <th>22</th>\n",
              "      <td>Hebron (1)</td>\n",
              "      <td>-72.355940</td>\n",
              "      <td>41.660280</td>\n",
              "    </tr>\n",
              "    <tr>\n",
              "      <th>21</th>\n",
              "      <td>Rockville (1)</td>\n",
              "      <td>-72.467198</td>\n",
              "      <td>41.868254</td>\n",
              "    </tr>\n",
              "    <tr>\n",
              "      <th>2</th>\n",
              "      <td>Glastonbury (2)</td>\n",
              "      <td>-72.593939</td>\n",
              "      <td>41.705379</td>\n",
              "    </tr>\n",
              "    <tr>\n",
              "      <th>1</th>\n",
              "      <td>Glastonbury (1)</td>\n",
              "      <td>-72.611455</td>\n",
              "      <td>41.715477</td>\n",
              "    </tr>\n",
              "    <tr>\n",
              "      <th>34</th>\n",
              "      <td>State Capitol</td>\n",
              "      <td>-72.682499</td>\n",
              "      <td>41.764290</td>\n",
              "    </tr>\n",
              "  </tbody>\n",
              "</table>\n",
              "</div>"
            ],
            "text/plain": [
              "                 Town        Lon        Lat\n",
              "0       State Capitol -72.682499  41.764290\n",
              "5   West Hartford (1) -72.716118  41.761075\n",
              "10  West Hartford (6) -72.744077  41.761796\n",
              "6   West Hartford (2) -72.746118  41.785493\n",
              "8   West Hartford (4) -72.747909  41.784085\n",
              "7   West Hartford (3) -72.766498  41.755341\n",
              "9   West Hartford (5) -72.743406  41.752219\n",
              "11  West Hartford (7) -72.730051  41.731846\n",
              "17         Berlin (1) -72.733968  41.641177\n",
              "3      Kensington (1) -72.759555  41.631274\n",
              "27     Farmington (1) -72.844003  41.704819\n",
              "15         Canton (1) -72.885491  41.825007\n",
              "25        Bristol (2) -72.915892  41.693719\n",
              "26        Bristol (3) -72.923107  41.667302\n",
              "24        Bristol (1) -72.946191  41.681782\n",
              "28       Prospect (1) -72.980222  41.507847\n",
              "16     Brookfield (1) -73.415050  41.435008\n",
              "30     Ridgefield (2) -73.499899  41.283030\n",
              "12     New Canaan (1) -73.495169  41.146379\n",
              "13  Old Greenwich (1) -73.567933  41.031103\n",
              "14         Darien (1) -73.470430  41.076428\n",
              "23         Wilton (1) -73.431741  41.194026\n",
              "29     Ridgefield (1) -73.443694  41.267450\n",
              "31         Monroe (1) -73.216338  41.317346\n",
              "20      New Haven (3) -72.968393  41.329220\n",
              "19      New Haven (2) -72.939527  41.316188\n",
              "32         Hamden (1) -72.932979  41.347439\n",
              "33         Hamden (2) -72.919727  41.367527\n",
              "18      New Haven (1) -72.925315  41.306292\n",
              "4         Clinton (1) -72.528462  41.279014\n",
              "22         Hebron (1) -72.355940  41.660280\n",
              "21      Rockville (1) -72.467198  41.868254\n",
              "2     Glastonbury (2) -72.593939  41.705379\n",
              "1     Glastonbury (1) -72.611455  41.715477\n",
              "34      State Capitol -72.682499  41.764290"
            ]
          },
          "metadata": {
            "tags": []
          },
          "execution_count": 169
        },
        {
          "output_type": "stream",
          "text": [
            "time: 44 ms (started: 2021-04-28 10:38:37 +00:00)\n"
          ],
          "name": "stdout"
        }
      ]
    },
    {
      "cell_type": "markdown",
      "metadata": {
        "id": "FYkc4MhGaD7N"
      },
      "source": [
        "#### Visualizing the solution"
      ]
    },
    {
      "cell_type": "code",
      "metadata": {
        "colab": {
          "base_uri": "https://localhost:8080/"
        },
        "id": "fVtuQnBtaH0Y",
        "outputId": "058d4b68-c967-401d-ef41-9df7337d162d"
      },
      "source": [
        "mean(geogTable_orig2['Lon']) #for center of Map-mean longitude"
      ],
      "execution_count": null,
      "outputs": [
        {
          "output_type": "execute_result",
          "data": {
            "text/plain": [
              "-72.92373695457144"
            ]
          },
          "metadata": {
            "tags": []
          },
          "execution_count": 170
        },
        {
          "output_type": "stream",
          "text": [
            "time: 7.61 ms (started: 2021-04-28 10:38:55 +00:00)\n"
          ],
          "name": "stdout"
        }
      ]
    },
    {
      "cell_type": "code",
      "metadata": {
        "colab": {
          "base_uri": "https://localhost:8080/"
        },
        "id": "XYBVnGZWaLMw",
        "outputId": "ab808004-7ea2-4657-966d-a416240badfd"
      },
      "source": [
        "mean(geogTable_orig2['Lat']) #for center of Map-mean latitude"
      ],
      "execution_count": null,
      "outputs": [
        {
          "output_type": "execute_result",
          "data": {
            "text/plain": [
              "41.53883435142858"
            ]
          },
          "metadata": {
            "tags": []
          },
          "execution_count": 171
        },
        {
          "output_type": "stream",
          "text": [
            "time: 10.2 ms (started: 2021-04-28 10:38:59 +00:00)\n"
          ],
          "name": "stdout"
        }
      ]
    },
    {
      "cell_type": "code",
      "metadata": {
        "colab": {
          "base_uri": "https://localhost:8080/",
          "height": 559
        },
        "id": "HzoT1YcAaOqI",
        "outputId": "9f276a80-1bcb-4819-af0a-94ed9f14d08f"
      },
      "source": [
        "fig = go.Figure(go.Scattermapbox(\n",
        "    mode = \"markers+lines\",\n",
        "    lon = geogTable_orig2['Lon'],\n",
        "    lat = geogTable_orig2['Lat'],\n",
        "    name=\"Main Route\",\n",
        "    hovertext=geogTable_orig2['Town'],\n",
        "    marker = {'size': 10}))\n",
        "\n",
        "for i in range(len(geogTable_orig2)):\n",
        "  fig.add_trace(go.Scattermapbox(\n",
        "    mode = \"markers+lines\",\n",
        "    lon = [geogTable_orig2.iloc[i,1],geogTable_orig2.iloc[i-1,1]],\n",
        "    lat = [geogTable_orig2.iloc[i,2],geogTable_orig2.iloc[i-1,2]],\n",
        "    name=\"Route\"+str(i),\n",
        "    text=[geogTable_orig2.iloc[i,0]+'-'+str(i),geogTable_orig2.iloc[i-1,0]+'-'+str(i-1)],\n",
        "    textposition='top center',\n",
        "    marker = {'size': 10}))\n",
        "\n",
        "fig.update_layout(mapbox_style=\"carto-darkmatter\", mapbox_zoom=8.25, mapbox_center_lat = 41.26878471063158,mapbox_center_lon = -73.37656607409332,\n",
        "    margin={\"r\":0,\"t\":0,\"l\":0,\"b\":0},title=\"TRAVELING SALESMAN ROUTE\")\n",
        "config = dict({'scrollZoom': False})\n",
        "fig.show(config=config)\n"
      ],
      "execution_count": null,
      "outputs": [
        {
          "output_type": "display_data",
          "data": {
            "text/html": [
              "<html>\n",
              "<head><meta charset=\"utf-8\" /></head>\n",
              "<body>\n",
              "    <div>\n",
              "            <script src=\"https://cdnjs.cloudflare.com/ajax/libs/mathjax/2.7.5/MathJax.js?config=TeX-AMS-MML_SVG\"></script><script type=\"text/javascript\">if (window.MathJax) {MathJax.Hub.Config({SVG: {font: \"STIX-Web\"}});}</script>\n",
              "                <script type=\"text/javascript\">window.PlotlyConfig = {MathJaxConfig: 'local'};</script>\n",
              "        <script src=\"https://cdn.plot.ly/plotly-latest.min.js\"></script>    \n",
              "            <div id=\"c2e46693-6ea6-4c56-a4af-a07e56ac0859\" class=\"plotly-graph-div\" style=\"height:525px; width:100%;\"></div>\n",
              "            <script type=\"text/javascript\">\n",
              "                \n",
              "                    window.PLOTLYENV=window.PLOTLYENV || {};\n",
              "                    \n",
              "                if (document.getElementById(\"c2e46693-6ea6-4c56-a4af-a07e56ac0859\")) {\n",
              "                    Plotly.newPlot(\n",
              "                        'c2e46693-6ea6-4c56-a4af-a07e56ac0859',\n",
              "                        [{\"hovertext\": [\"State Capitol\", \"West Hartford (1)\", \"West Hartford (6)\", \"West Hartford (2)\", \"West Hartford (4)\", \"West Hartford (3)\", \"West Hartford (5)\", \"West Hartford (7)\", \"Berlin (1)\", \"Kensington (1)\", \"Farmington (1)\", \"Canton (1)\", \"Bristol (2)\", \"Bristol (3)\", \"Bristol (1)\", \"Prospect (1)\", \"Brookfield (1)\", \"Ridgefield (2)\", \"New Canaan (1)\", \"Old Greenwich (1)\", \"Darien (1)\", \"Wilton (1)\", \"Ridgefield (1)\", \"Monroe (1)\", \"New Haven (3)\", \"New Haven (2)\", \"Hamden (1)\", \"Hamden (2)\", \"New Haven (1)\", \"Clinton (1)\", \"Hebron (1)\", \"Rockville (1)\", \"Glastonbury (2)\", \"Glastonbury (1)\", \"State Capitol\"], \"lat\": [41.76428989, 41.76107505, 41.76179605, 41.78549258, 41.78408508, 41.75534058, 41.75221948, 41.73184570000001, 41.6411774, 41.63127394, 41.70481927, 41.8250066, 41.69371913, 41.66730216, 41.68178191, 41.50784652, 41.435008399999994, 41.28302995, 41.14637858, 41.0311029, 41.0764284, 41.19402578, 41.26745001, 41.31734643, 41.32921973, 41.31618834, 41.34743906, 41.36752697, 41.3062916, 41.27901446, 41.66027971, 41.86825418, 41.70537939, 41.71547718, 41.76428989], \"lon\": [-72.68249918, -72.7161176, -72.74407669, -72.74611836, -72.74790929, -72.76649752, -72.74340554, -72.73005133, -72.7339675, -72.75955474, -72.84400274, -72.8854906, -72.91589206, -72.92310666, -72.94619109, -72.9802223, -73.41505, -73.49989899, -73.49516904, -73.56793309999999, -73.4704302, -73.43174133, -73.4436939, -73.21633832, -72.96839324, -72.93952687, -72.93297940000001, -72.91972719, -72.92531516, -72.52846212, -72.35594026, -72.46719814, -72.59393854, -72.61145523, -72.68249918], \"marker\": {\"size\": 10}, \"mode\": \"markers+lines\", \"name\": \"Main Route\", \"type\": \"scattermapbox\"}, {\"lat\": [41.76428989, 41.76428989], \"lon\": [-72.68249918, -72.68249918], \"marker\": {\"size\": 10}, \"mode\": \"markers+lines\", \"name\": \"Route0\", \"text\": [\"State Capitol-0\", \"State Capitol--1\"], \"textposition\": \"top center\", \"type\": \"scattermapbox\"}, {\"lat\": [41.76107505, 41.76428989], \"lon\": [-72.7161176, -72.68249918], \"marker\": {\"size\": 10}, \"mode\": \"markers+lines\", \"name\": \"Route1\", \"text\": [\"West Hartford (1)-1\", \"State Capitol-0\"], \"textposition\": \"top center\", \"type\": \"scattermapbox\"}, {\"lat\": [41.76179605, 41.76107505], \"lon\": [-72.74407669, -72.7161176], \"marker\": {\"size\": 10}, \"mode\": \"markers+lines\", \"name\": \"Route2\", \"text\": [\"West Hartford (6)-2\", \"West Hartford (1)-1\"], \"textposition\": \"top center\", \"type\": \"scattermapbox\"}, {\"lat\": [41.78549258, 41.76179605], \"lon\": [-72.74611836, -72.74407669], \"marker\": {\"size\": 10}, \"mode\": \"markers+lines\", \"name\": \"Route3\", \"text\": [\"West Hartford (2)-3\", \"West Hartford (6)-2\"], \"textposition\": \"top center\", \"type\": \"scattermapbox\"}, {\"lat\": [41.78408508, 41.78549258], \"lon\": [-72.74790929, -72.74611836], \"marker\": {\"size\": 10}, \"mode\": \"markers+lines\", \"name\": \"Route4\", \"text\": [\"West Hartford (4)-4\", \"West Hartford (2)-3\"], \"textposition\": \"top center\", \"type\": \"scattermapbox\"}, {\"lat\": [41.75534058, 41.78408508], \"lon\": [-72.76649752, -72.74790929], \"marker\": {\"size\": 10}, \"mode\": \"markers+lines\", \"name\": \"Route5\", \"text\": [\"West Hartford (3)-5\", \"West Hartford (4)-4\"], \"textposition\": \"top center\", \"type\": \"scattermapbox\"}, {\"lat\": [41.75221948, 41.75534058], \"lon\": [-72.74340554, -72.76649752], \"marker\": {\"size\": 10}, \"mode\": \"markers+lines\", \"name\": \"Route6\", \"text\": [\"West Hartford (5)-6\", \"West Hartford (3)-5\"], \"textposition\": \"top center\", \"type\": \"scattermapbox\"}, {\"lat\": [41.73184570000001, 41.75221948], \"lon\": [-72.73005133, -72.74340554], \"marker\": {\"size\": 10}, \"mode\": \"markers+lines\", \"name\": \"Route7\", \"text\": [\"West Hartford (7)-7\", \"West Hartford (5)-6\"], \"textposition\": \"top center\", \"type\": \"scattermapbox\"}, {\"lat\": [41.6411774, 41.73184570000001], \"lon\": [-72.7339675, -72.73005133], \"marker\": {\"size\": 10}, \"mode\": \"markers+lines\", \"name\": \"Route8\", \"text\": [\"Berlin (1)-8\", \"West Hartford (7)-7\"], \"textposition\": \"top center\", \"type\": \"scattermapbox\"}, {\"lat\": [41.63127394, 41.6411774], \"lon\": [-72.75955474, -72.7339675], \"marker\": {\"size\": 10}, \"mode\": \"markers+lines\", \"name\": \"Route9\", \"text\": [\"Kensington (1)-9\", \"Berlin (1)-8\"], \"textposition\": \"top center\", \"type\": \"scattermapbox\"}, {\"lat\": [41.70481927, 41.63127394], \"lon\": [-72.84400274, -72.75955474], \"marker\": {\"size\": 10}, \"mode\": \"markers+lines\", \"name\": \"Route10\", \"text\": [\"Farmington (1)-10\", \"Kensington (1)-9\"], \"textposition\": \"top center\", \"type\": \"scattermapbox\"}, {\"lat\": [41.8250066, 41.70481927], \"lon\": [-72.8854906, -72.84400274], \"marker\": {\"size\": 10}, \"mode\": \"markers+lines\", \"name\": \"Route11\", \"text\": [\"Canton (1)-11\", \"Farmington (1)-10\"], \"textposition\": \"top center\", \"type\": \"scattermapbox\"}, {\"lat\": [41.69371913, 41.8250066], \"lon\": [-72.91589206, -72.8854906], \"marker\": {\"size\": 10}, \"mode\": \"markers+lines\", \"name\": \"Route12\", \"text\": [\"Bristol (2)-12\", \"Canton (1)-11\"], \"textposition\": \"top center\", \"type\": \"scattermapbox\"}, {\"lat\": [41.66730216, 41.69371913], \"lon\": [-72.92310666, -72.91589206], \"marker\": {\"size\": 10}, \"mode\": \"markers+lines\", \"name\": \"Route13\", \"text\": [\"Bristol (3)-13\", \"Bristol (2)-12\"], \"textposition\": \"top center\", \"type\": \"scattermapbox\"}, {\"lat\": [41.68178191, 41.66730216], \"lon\": [-72.94619109, -72.92310666], \"marker\": {\"size\": 10}, \"mode\": \"markers+lines\", \"name\": \"Route14\", \"text\": [\"Bristol (1)-14\", \"Bristol (3)-13\"], \"textposition\": \"top center\", \"type\": \"scattermapbox\"}, {\"lat\": [41.50784652, 41.68178191], \"lon\": [-72.9802223, -72.94619109], \"marker\": {\"size\": 10}, \"mode\": \"markers+lines\", \"name\": \"Route15\", \"text\": [\"Prospect (1)-15\", \"Bristol (1)-14\"], \"textposition\": \"top center\", \"type\": \"scattermapbox\"}, {\"lat\": [41.435008399999994, 41.50784652], \"lon\": [-73.41505, -72.9802223], \"marker\": {\"size\": 10}, \"mode\": \"markers+lines\", \"name\": \"Route16\", \"text\": [\"Brookfield (1)-16\", \"Prospect (1)-15\"], \"textposition\": \"top center\", \"type\": \"scattermapbox\"}, {\"lat\": [41.28302995, 41.435008399999994], \"lon\": [-73.49989899, -73.41505], \"marker\": {\"size\": 10}, \"mode\": \"markers+lines\", \"name\": \"Route17\", \"text\": [\"Ridgefield (2)-17\", \"Brookfield (1)-16\"], \"textposition\": \"top center\", \"type\": \"scattermapbox\"}, {\"lat\": [41.14637858, 41.28302995], \"lon\": [-73.49516904, -73.49989899], \"marker\": {\"size\": 10}, \"mode\": \"markers+lines\", \"name\": \"Route18\", \"text\": [\"New Canaan (1)-18\", \"Ridgefield (2)-17\"], \"textposition\": \"top center\", \"type\": \"scattermapbox\"}, {\"lat\": [41.0311029, 41.14637858], \"lon\": [-73.56793309999999, -73.49516904], \"marker\": {\"size\": 10}, \"mode\": \"markers+lines\", \"name\": \"Route19\", \"text\": [\"Old Greenwich (1)-19\", \"New Canaan (1)-18\"], \"textposition\": \"top center\", \"type\": \"scattermapbox\"}, {\"lat\": [41.0764284, 41.0311029], \"lon\": [-73.4704302, -73.56793309999999], \"marker\": {\"size\": 10}, \"mode\": \"markers+lines\", \"name\": \"Route20\", \"text\": [\"Darien (1)-20\", \"Old Greenwich (1)-19\"], \"textposition\": \"top center\", \"type\": \"scattermapbox\"}, {\"lat\": [41.19402578, 41.0764284], \"lon\": [-73.43174133, -73.4704302], \"marker\": {\"size\": 10}, \"mode\": \"markers+lines\", \"name\": \"Route21\", \"text\": [\"Wilton (1)-21\", \"Darien (1)-20\"], \"textposition\": \"top center\", \"type\": \"scattermapbox\"}, {\"lat\": [41.26745001, 41.19402578], \"lon\": [-73.4436939, -73.43174133], \"marker\": {\"size\": 10}, \"mode\": \"markers+lines\", \"name\": \"Route22\", \"text\": [\"Ridgefield (1)-22\", \"Wilton (1)-21\"], \"textposition\": \"top center\", \"type\": \"scattermapbox\"}, {\"lat\": [41.31734643, 41.26745001], \"lon\": [-73.21633832, -73.4436939], \"marker\": {\"size\": 10}, \"mode\": \"markers+lines\", \"name\": \"Route23\", \"text\": [\"Monroe (1)-23\", \"Ridgefield (1)-22\"], \"textposition\": \"top center\", \"type\": \"scattermapbox\"}, {\"lat\": [41.32921973, 41.31734643], \"lon\": [-72.96839324, -73.21633832], \"marker\": {\"size\": 10}, \"mode\": \"markers+lines\", \"name\": \"Route24\", \"text\": [\"New Haven (3)-24\", \"Monroe (1)-23\"], \"textposition\": \"top center\", \"type\": \"scattermapbox\"}, {\"lat\": [41.31618834, 41.32921973], \"lon\": [-72.93952687, -72.96839324], \"marker\": {\"size\": 10}, \"mode\": \"markers+lines\", \"name\": \"Route25\", \"text\": [\"New Haven (2)-25\", \"New Haven (3)-24\"], \"textposition\": \"top center\", \"type\": \"scattermapbox\"}, {\"lat\": [41.34743906, 41.31618834], \"lon\": [-72.93297940000001, -72.93952687], \"marker\": {\"size\": 10}, \"mode\": \"markers+lines\", \"name\": \"Route26\", \"text\": [\"Hamden (1)-26\", \"New Haven (2)-25\"], \"textposition\": \"top center\", \"type\": \"scattermapbox\"}, {\"lat\": [41.36752697, 41.34743906], \"lon\": [-72.91972719, -72.93297940000001], \"marker\": {\"size\": 10}, \"mode\": \"markers+lines\", \"name\": \"Route27\", \"text\": [\"Hamden (2)-27\", \"Hamden (1)-26\"], \"textposition\": \"top center\", \"type\": \"scattermapbox\"}, {\"lat\": [41.3062916, 41.36752697], \"lon\": [-72.92531516, -72.91972719], \"marker\": {\"size\": 10}, \"mode\": \"markers+lines\", \"name\": \"Route28\", \"text\": [\"New Haven (1)-28\", \"Hamden (2)-27\"], \"textposition\": \"top center\", \"type\": \"scattermapbox\"}, {\"lat\": [41.27901446, 41.3062916], \"lon\": [-72.52846212, -72.92531516], \"marker\": {\"size\": 10}, \"mode\": \"markers+lines\", \"name\": \"Route29\", \"text\": [\"Clinton (1)-29\", \"New Haven (1)-28\"], \"textposition\": \"top center\", \"type\": \"scattermapbox\"}, {\"lat\": [41.66027971, 41.27901446], \"lon\": [-72.35594026, -72.52846212], \"marker\": {\"size\": 10}, \"mode\": \"markers+lines\", \"name\": \"Route30\", \"text\": [\"Hebron (1)-30\", \"Clinton (1)-29\"], \"textposition\": \"top center\", \"type\": \"scattermapbox\"}, {\"lat\": [41.86825418, 41.66027971], \"lon\": [-72.46719814, -72.35594026], \"marker\": {\"size\": 10}, \"mode\": \"markers+lines\", \"name\": \"Route31\", \"text\": [\"Rockville (1)-31\", \"Hebron (1)-30\"], \"textposition\": \"top center\", \"type\": \"scattermapbox\"}, {\"lat\": [41.70537939, 41.86825418], \"lon\": [-72.59393854, -72.46719814], \"marker\": {\"size\": 10}, \"mode\": \"markers+lines\", \"name\": \"Route32\", \"text\": [\"Glastonbury (2)-32\", \"Rockville (1)-31\"], \"textposition\": \"top center\", \"type\": \"scattermapbox\"}, {\"lat\": [41.71547718, 41.70537939], \"lon\": [-72.61145523, -72.59393854], \"marker\": {\"size\": 10}, \"mode\": \"markers+lines\", \"name\": \"Route33\", \"text\": [\"Glastonbury (1)-33\", \"Glastonbury (2)-32\"], \"textposition\": \"top center\", \"type\": \"scattermapbox\"}, {\"lat\": [41.76428989, 41.71547718], \"lon\": [-72.68249918, -72.61145523], \"marker\": {\"size\": 10}, \"mode\": \"markers+lines\", \"name\": \"Route34\", \"text\": [\"State Capitol-34\", \"Glastonbury (1)-33\"], \"textposition\": \"top center\", \"type\": \"scattermapbox\"}],\n",
              "                        {\"mapbox\": {\"center\": {\"lat\": 41.26878471063158, \"lon\": -73.37656607409332}, \"style\": \"carto-darkmatter\", \"zoom\": 8.25}, \"margin\": {\"b\": 0, \"l\": 0, \"r\": 0, \"t\": 0}, \"template\": {\"data\": {\"bar\": [{\"error_x\": {\"color\": \"#2a3f5f\"}, \"error_y\": {\"color\": \"#2a3f5f\"}, \"marker\": {\"line\": {\"color\": \"#E5ECF6\", \"width\": 0.5}}, \"type\": \"bar\"}], \"barpolar\": [{\"marker\": {\"line\": {\"color\": \"#E5ECF6\", \"width\": 0.5}}, \"type\": \"barpolar\"}], \"carpet\": [{\"aaxis\": {\"endlinecolor\": \"#2a3f5f\", \"gridcolor\": \"white\", \"linecolor\": \"white\", \"minorgridcolor\": \"white\", \"startlinecolor\": \"#2a3f5f\"}, \"baxis\": {\"endlinecolor\": \"#2a3f5f\", \"gridcolor\": \"white\", \"linecolor\": \"white\", \"minorgridcolor\": \"white\", \"startlinecolor\": \"#2a3f5f\"}, \"type\": \"carpet\"}], \"choropleth\": [{\"colorbar\": {\"outlinewidth\": 0, \"ticks\": \"\"}, \"type\": \"choropleth\"}], \"contour\": [{\"colorbar\": {\"outlinewidth\": 0, \"ticks\": \"\"}, \"colorscale\": [[0.0, \"#0d0887\"], [0.1111111111111111, \"#46039f\"], [0.2222222222222222, \"#7201a8\"], [0.3333333333333333, \"#9c179e\"], [0.4444444444444444, \"#bd3786\"], [0.5555555555555556, \"#d8576b\"], [0.6666666666666666, \"#ed7953\"], [0.7777777777777778, \"#fb9f3a\"], [0.8888888888888888, \"#fdca26\"], [1.0, \"#f0f921\"]], \"type\": \"contour\"}], \"contourcarpet\": [{\"colorbar\": {\"outlinewidth\": 0, \"ticks\": \"\"}, \"type\": \"contourcarpet\"}], \"heatmap\": [{\"colorbar\": {\"outlinewidth\": 0, \"ticks\": \"\"}, \"colorscale\": [[0.0, \"#0d0887\"], [0.1111111111111111, \"#46039f\"], [0.2222222222222222, \"#7201a8\"], [0.3333333333333333, \"#9c179e\"], [0.4444444444444444, \"#bd3786\"], [0.5555555555555556, \"#d8576b\"], [0.6666666666666666, \"#ed7953\"], [0.7777777777777778, \"#fb9f3a\"], [0.8888888888888888, \"#fdca26\"], [1.0, \"#f0f921\"]], \"type\": \"heatmap\"}], \"heatmapgl\": [{\"colorbar\": {\"outlinewidth\": 0, \"ticks\": \"\"}, \"colorscale\": [[0.0, \"#0d0887\"], [0.1111111111111111, \"#46039f\"], [0.2222222222222222, \"#7201a8\"], [0.3333333333333333, \"#9c179e\"], [0.4444444444444444, \"#bd3786\"], [0.5555555555555556, \"#d8576b\"], [0.6666666666666666, \"#ed7953\"], [0.7777777777777778, \"#fb9f3a\"], [0.8888888888888888, \"#fdca26\"], [1.0, \"#f0f921\"]], \"type\": \"heatmapgl\"}], \"histogram\": [{\"marker\": {\"colorbar\": {\"outlinewidth\": 0, \"ticks\": \"\"}}, \"type\": \"histogram\"}], \"histogram2d\": [{\"colorbar\": {\"outlinewidth\": 0, \"ticks\": \"\"}, \"colorscale\": [[0.0, \"#0d0887\"], [0.1111111111111111, \"#46039f\"], [0.2222222222222222, \"#7201a8\"], [0.3333333333333333, \"#9c179e\"], [0.4444444444444444, \"#bd3786\"], [0.5555555555555556, \"#d8576b\"], [0.6666666666666666, \"#ed7953\"], [0.7777777777777778, \"#fb9f3a\"], [0.8888888888888888, \"#fdca26\"], [1.0, \"#f0f921\"]], \"type\": \"histogram2d\"}], \"histogram2dcontour\": [{\"colorbar\": {\"outlinewidth\": 0, \"ticks\": \"\"}, \"colorscale\": [[0.0, \"#0d0887\"], [0.1111111111111111, \"#46039f\"], [0.2222222222222222, \"#7201a8\"], [0.3333333333333333, \"#9c179e\"], [0.4444444444444444, \"#bd3786\"], [0.5555555555555556, \"#d8576b\"], [0.6666666666666666, \"#ed7953\"], [0.7777777777777778, \"#fb9f3a\"], [0.8888888888888888, \"#fdca26\"], [1.0, \"#f0f921\"]], \"type\": \"histogram2dcontour\"}], \"mesh3d\": [{\"colorbar\": {\"outlinewidth\": 0, \"ticks\": \"\"}, \"type\": \"mesh3d\"}], \"parcoords\": [{\"line\": {\"colorbar\": {\"outlinewidth\": 0, \"ticks\": \"\"}}, \"type\": \"parcoords\"}], \"pie\": [{\"automargin\": true, \"type\": \"pie\"}], \"scatter\": [{\"marker\": {\"colorbar\": {\"outlinewidth\": 0, \"ticks\": \"\"}}, \"type\": \"scatter\"}], \"scatter3d\": [{\"line\": {\"colorbar\": {\"outlinewidth\": 0, \"ticks\": \"\"}}, \"marker\": {\"colorbar\": {\"outlinewidth\": 0, \"ticks\": \"\"}}, \"type\": \"scatter3d\"}], \"scattercarpet\": [{\"marker\": {\"colorbar\": {\"outlinewidth\": 0, \"ticks\": \"\"}}, \"type\": \"scattercarpet\"}], \"scattergeo\": [{\"marker\": {\"colorbar\": {\"outlinewidth\": 0, \"ticks\": \"\"}}, \"type\": \"scattergeo\"}], \"scattergl\": [{\"marker\": {\"colorbar\": {\"outlinewidth\": 0, \"ticks\": \"\"}}, \"type\": \"scattergl\"}], \"scattermapbox\": [{\"marker\": {\"colorbar\": {\"outlinewidth\": 0, \"ticks\": \"\"}}, \"type\": \"scattermapbox\"}], \"scatterpolar\": [{\"marker\": {\"colorbar\": {\"outlinewidth\": 0, \"ticks\": \"\"}}, \"type\": \"scatterpolar\"}], \"scatterpolargl\": [{\"marker\": {\"colorbar\": {\"outlinewidth\": 0, \"ticks\": \"\"}}, \"type\": \"scatterpolargl\"}], \"scatterternary\": [{\"marker\": {\"colorbar\": {\"outlinewidth\": 0, \"ticks\": \"\"}}, \"type\": \"scatterternary\"}], \"surface\": [{\"colorbar\": {\"outlinewidth\": 0, \"ticks\": \"\"}, \"colorscale\": [[0.0, \"#0d0887\"], [0.1111111111111111, \"#46039f\"], [0.2222222222222222, \"#7201a8\"], [0.3333333333333333, \"#9c179e\"], [0.4444444444444444, \"#bd3786\"], [0.5555555555555556, \"#d8576b\"], [0.6666666666666666, \"#ed7953\"], [0.7777777777777778, \"#fb9f3a\"], [0.8888888888888888, \"#fdca26\"], [1.0, \"#f0f921\"]], \"type\": \"surface\"}], \"table\": [{\"cells\": {\"fill\": {\"color\": \"#EBF0F8\"}, \"line\": {\"color\": \"white\"}}, \"header\": {\"fill\": {\"color\": \"#C8D4E3\"}, \"line\": {\"color\": \"white\"}}, \"type\": \"table\"}]}, \"layout\": {\"annotationdefaults\": {\"arrowcolor\": \"#2a3f5f\", \"arrowhead\": 0, \"arrowwidth\": 1}, \"coloraxis\": {\"colorbar\": {\"outlinewidth\": 0, \"ticks\": \"\"}}, \"colorscale\": {\"diverging\": [[0, \"#8e0152\"], [0.1, \"#c51b7d\"], [0.2, \"#de77ae\"], [0.3, \"#f1b6da\"], [0.4, \"#fde0ef\"], [0.5, \"#f7f7f7\"], [0.6, \"#e6f5d0\"], [0.7, \"#b8e186\"], [0.8, \"#7fbc41\"], [0.9, \"#4d9221\"], [1, \"#276419\"]], \"sequential\": [[0.0, \"#0d0887\"], [0.1111111111111111, \"#46039f\"], [0.2222222222222222, \"#7201a8\"], [0.3333333333333333, \"#9c179e\"], [0.4444444444444444, \"#bd3786\"], [0.5555555555555556, \"#d8576b\"], [0.6666666666666666, \"#ed7953\"], [0.7777777777777778, \"#fb9f3a\"], [0.8888888888888888, \"#fdca26\"], [1.0, \"#f0f921\"]], \"sequentialminus\": [[0.0, \"#0d0887\"], [0.1111111111111111, \"#46039f\"], [0.2222222222222222, \"#7201a8\"], [0.3333333333333333, \"#9c179e\"], [0.4444444444444444, \"#bd3786\"], [0.5555555555555556, \"#d8576b\"], [0.6666666666666666, \"#ed7953\"], [0.7777777777777778, \"#fb9f3a\"], [0.8888888888888888, \"#fdca26\"], [1.0, \"#f0f921\"]]}, \"colorway\": [\"#636efa\", \"#EF553B\", \"#00cc96\", \"#ab63fa\", \"#FFA15A\", \"#19d3f3\", \"#FF6692\", \"#B6E880\", \"#FF97FF\", \"#FECB52\"], \"font\": {\"color\": \"#2a3f5f\"}, \"geo\": {\"bgcolor\": \"white\", \"lakecolor\": \"white\", \"landcolor\": \"#E5ECF6\", \"showlakes\": true, \"showland\": true, \"subunitcolor\": \"white\"}, \"hoverlabel\": {\"align\": \"left\"}, \"hovermode\": \"closest\", \"mapbox\": {\"style\": \"light\"}, \"paper_bgcolor\": \"white\", \"plot_bgcolor\": \"#E5ECF6\", \"polar\": {\"angularaxis\": {\"gridcolor\": \"white\", \"linecolor\": \"white\", \"ticks\": \"\"}, \"bgcolor\": \"#E5ECF6\", \"radialaxis\": {\"gridcolor\": \"white\", \"linecolor\": \"white\", \"ticks\": \"\"}}, \"scene\": {\"xaxis\": {\"backgroundcolor\": \"#E5ECF6\", \"gridcolor\": \"white\", \"gridwidth\": 2, \"linecolor\": \"white\", \"showbackground\": true, \"ticks\": \"\", \"zerolinecolor\": \"white\"}, \"yaxis\": {\"backgroundcolor\": \"#E5ECF6\", \"gridcolor\": \"white\", \"gridwidth\": 2, \"linecolor\": \"white\", \"showbackground\": true, \"ticks\": \"\", \"zerolinecolor\": \"white\"}, \"zaxis\": {\"backgroundcolor\": \"#E5ECF6\", \"gridcolor\": \"white\", \"gridwidth\": 2, \"linecolor\": \"white\", \"showbackground\": true, \"ticks\": \"\", \"zerolinecolor\": \"white\"}}, \"shapedefaults\": {\"line\": {\"color\": \"#2a3f5f\"}}, \"ternary\": {\"aaxis\": {\"gridcolor\": \"white\", \"linecolor\": \"white\", \"ticks\": \"\"}, \"baxis\": {\"gridcolor\": \"white\", \"linecolor\": \"white\", \"ticks\": \"\"}, \"bgcolor\": \"#E5ECF6\", \"caxis\": {\"gridcolor\": \"white\", \"linecolor\": \"white\", \"ticks\": \"\"}}, \"title\": {\"x\": 0.05}, \"xaxis\": {\"automargin\": true, \"gridcolor\": \"white\", \"linecolor\": \"white\", \"ticks\": \"\", \"title\": {\"standoff\": 15}, \"zerolinecolor\": \"white\", \"zerolinewidth\": 2}, \"yaxis\": {\"automargin\": true, \"gridcolor\": \"white\", \"linecolor\": \"white\", \"ticks\": \"\", \"title\": {\"standoff\": 15}, \"zerolinecolor\": \"white\", \"zerolinewidth\": 2}}}, \"title\": {\"text\": \"TRAVELING SALESMAN ROUTE\"}},\n",
              "                        {\"scrollZoom\": false, \"responsive\": true}\n",
              "                    ).then(function(){\n",
              "                            \n",
              "var gd = document.getElementById('c2e46693-6ea6-4c56-a4af-a07e56ac0859');\n",
              "var x = new MutationObserver(function (mutations, observer) {{\n",
              "        var display = window.getComputedStyle(gd).display;\n",
              "        if (!display || display === 'none') {{\n",
              "            console.log([gd, 'removed!']);\n",
              "            Plotly.purge(gd);\n",
              "            observer.disconnect();\n",
              "        }}\n",
              "}});\n",
              "\n",
              "// Listen for the removal of the full notebook cells\n",
              "var notebookContainer = gd.closest('#notebook-container');\n",
              "if (notebookContainer) {{\n",
              "    x.observe(notebookContainer, {childList: true});\n",
              "}}\n",
              "\n",
              "// Listen for the clearing of the current output cell\n",
              "var outputEl = gd.closest('.output');\n",
              "if (outputEl) {{\n",
              "    x.observe(outputEl, {childList: true});\n",
              "}}\n",
              "\n",
              "                        })\n",
              "                };\n",
              "                \n",
              "            </script>\n",
              "        </div>\n",
              "</body>\n",
              "</html>"
            ]
          },
          "metadata": {
            "tags": []
          }
        },
        {
          "output_type": "stream",
          "text": [
            "time: 337 ms (started: 2021-04-28 10:39:26 +00:00)\n"
          ],
          "name": "stdout"
        }
      ]
    },
    {
      "cell_type": "markdown",
      "metadata": {
        "id": "dOHDqut-ayrz"
      },
      "source": [
        "#### Animated Solution"
      ]
    },
    {
      "cell_type": "code",
      "metadata": {
        "colab": {
          "base_uri": "https://localhost:8080/",
          "height": 559
        },
        "id": "WDOh2L2ya2tb",
        "outputId": "d8f2f123-e805-4abd-c1b0-12856a0198bd"
      },
      "source": [
        "fig = go.Figure(go.Scattermapbox(\n",
        "    mode = \"markers+lines\",\n",
        "    lon = geogTable_orig2['Lon'], #longitude\n",
        "    lat = geogTable_orig2['Lat'], #latitude\n",
        "    name=\"Traveling Salesman\",\n",
        "    hovertext=geogTable_orig2['Town'], #town name\n",
        "    marker = {'size': 10}),\n",
        "    layout=go.Layout(\n",
        "        hovermode=\"closest\",\n",
        "        updatemenus=[dict(type=\"buttons\",\n",
        "                          buttons=[dict(label=\"Play\",\n",
        "                                        method=\"animate\",\n",
        "                                        args=[None])])]),\n",
        "        frames=[go.Frame(\n",
        "        data=[go.Scattermapbox(\n",
        "            lon=[geogTable_orig2.iloc[k,1]],\n",
        "            lat=[geogTable_orig2.iloc[k,2]],\n",
        "            mode=\"markers\",\n",
        "            marker=dict(color=\"red\", size=10))])\n",
        "\n",
        "        for k in range(len(geogTable_orig2))]\n",
        ")\n",
        "fig.add_trace(go.Scattermapbox(\n",
        "    mode = \"markers+lines\",\n",
        "    lon = geogTable_orig2['Lon'], #longitude\n",
        "    lat = geogTable_orig2['Lat'], #latitude\n",
        "    name=\"Main Route\",\n",
        "    hovertext=geogTable_orig2['Town'], #town name\n",
        "    marker=dict(color=\"blue\", size=5)))\n",
        "\n",
        "\n",
        "fig.update_layout(mapbox_style=\"carto-darkmatter\", mapbox_zoom=8.25, mapbox_center_lat = 41.26878471063158,mapbox_center_lon = -73.37656607409332,\n",
        "    margin={\"r\":0,\"t\":0,\"l\":0,\"b\":0},title=\"TRAVELING SALESMAN ROUTE\")\n",
        "config = dict({'scrollZoom': False})\n",
        "fig.show(config=config)"
      ],
      "execution_count": null,
      "outputs": [
        {
          "output_type": "display_data",
          "data": {
            "text/html": [
              "<html>\n",
              "<head><meta charset=\"utf-8\" /></head>\n",
              "<body>\n",
              "    <div>\n",
              "            <script src=\"https://cdnjs.cloudflare.com/ajax/libs/mathjax/2.7.5/MathJax.js?config=TeX-AMS-MML_SVG\"></script><script type=\"text/javascript\">if (window.MathJax) {MathJax.Hub.Config({SVG: {font: \"STIX-Web\"}});}</script>\n",
              "                <script type=\"text/javascript\">window.PlotlyConfig = {MathJaxConfig: 'local'};</script>\n",
              "        <script src=\"https://cdn.plot.ly/plotly-latest.min.js\"></script>    \n",
              "            <div id=\"abd68cd7-71f2-4326-9f5c-0f74cee91fd0\" class=\"plotly-graph-div\" style=\"height:525px; width:100%;\"></div>\n",
              "            <script type=\"text/javascript\">\n",
              "                \n",
              "                    window.PLOTLYENV=window.PLOTLYENV || {};\n",
              "                    \n",
              "                if (document.getElementById(\"abd68cd7-71f2-4326-9f5c-0f74cee91fd0\")) {\n",
              "                    Plotly.newPlot(\n",
              "                        'abd68cd7-71f2-4326-9f5c-0f74cee91fd0',\n",
              "                        [{\"hovertext\": [\"State Capitol\", \"West Hartford (1)\", \"West Hartford (6)\", \"West Hartford (2)\", \"West Hartford (4)\", \"West Hartford (3)\", \"West Hartford (5)\", \"West Hartford (7)\", \"Berlin (1)\", \"Kensington (1)\", \"Farmington (1)\", \"Canton (1)\", \"Bristol (2)\", \"Bristol (3)\", \"Bristol (1)\", \"Prospect (1)\", \"Brookfield (1)\", \"Ridgefield (2)\", \"New Canaan (1)\", \"Old Greenwich (1)\", \"Darien (1)\", \"Wilton (1)\", \"Ridgefield (1)\", \"Monroe (1)\", \"New Haven (3)\", \"New Haven (2)\", \"Hamden (1)\", \"Hamden (2)\", \"New Haven (1)\", \"Clinton (1)\", \"Hebron (1)\", \"Rockville (1)\", \"Glastonbury (2)\", \"Glastonbury (1)\", \"State Capitol\"], \"lat\": [41.76428989, 41.76107505, 41.76179605, 41.78549258, 41.78408508, 41.75534058, 41.75221948, 41.73184570000001, 41.6411774, 41.63127394, 41.70481927, 41.8250066, 41.69371913, 41.66730216, 41.68178191, 41.50784652, 41.435008399999994, 41.28302995, 41.14637858, 41.0311029, 41.0764284, 41.19402578, 41.26745001, 41.31734643, 41.32921973, 41.31618834, 41.34743906, 41.36752697, 41.3062916, 41.27901446, 41.66027971, 41.86825418, 41.70537939, 41.71547718, 41.76428989], \"lon\": [-72.68249918, -72.7161176, -72.74407669, -72.74611836, -72.74790929, -72.76649752, -72.74340554, -72.73005133, -72.7339675, -72.75955474, -72.84400274, -72.8854906, -72.91589206, -72.92310666, -72.94619109, -72.9802223, -73.41505, -73.49989899, -73.49516904, -73.56793309999999, -73.4704302, -73.43174133, -73.4436939, -73.21633832, -72.96839324, -72.93952687, -72.93297940000001, -72.91972719, -72.92531516, -72.52846212, -72.35594026, -72.46719814, -72.59393854, -72.61145523, -72.68249918], \"marker\": {\"size\": 10}, \"mode\": \"markers+lines\", \"name\": \"Traveling Salesman\", \"type\": \"scattermapbox\"}, {\"hovertext\": [\"State Capitol\", \"West Hartford (1)\", \"West Hartford (6)\", \"West Hartford (2)\", \"West Hartford (4)\", \"West Hartford (3)\", \"West Hartford (5)\", \"West Hartford (7)\", \"Berlin (1)\", \"Kensington (1)\", \"Farmington (1)\", \"Canton (1)\", \"Bristol (2)\", \"Bristol (3)\", \"Bristol (1)\", \"Prospect (1)\", \"Brookfield (1)\", \"Ridgefield (2)\", \"New Canaan (1)\", \"Old Greenwich (1)\", \"Darien (1)\", \"Wilton (1)\", \"Ridgefield (1)\", \"Monroe (1)\", \"New Haven (3)\", \"New Haven (2)\", \"Hamden (1)\", \"Hamden (2)\", \"New Haven (1)\", \"Clinton (1)\", \"Hebron (1)\", \"Rockville (1)\", \"Glastonbury (2)\", \"Glastonbury (1)\", \"State Capitol\"], \"lat\": [41.76428989, 41.76107505, 41.76179605, 41.78549258, 41.78408508, 41.75534058, 41.75221948, 41.73184570000001, 41.6411774, 41.63127394, 41.70481927, 41.8250066, 41.69371913, 41.66730216, 41.68178191, 41.50784652, 41.435008399999994, 41.28302995, 41.14637858, 41.0311029, 41.0764284, 41.19402578, 41.26745001, 41.31734643, 41.32921973, 41.31618834, 41.34743906, 41.36752697, 41.3062916, 41.27901446, 41.66027971, 41.86825418, 41.70537939, 41.71547718, 41.76428989], \"lon\": [-72.68249918, -72.7161176, -72.74407669, -72.74611836, -72.74790929, -72.76649752, -72.74340554, -72.73005133, -72.7339675, -72.75955474, -72.84400274, -72.8854906, -72.91589206, -72.92310666, -72.94619109, -72.9802223, -73.41505, -73.49989899, -73.49516904, -73.56793309999999, -73.4704302, -73.43174133, -73.4436939, -73.21633832, -72.96839324, -72.93952687, -72.93297940000001, -72.91972719, -72.92531516, -72.52846212, -72.35594026, -72.46719814, -72.59393854, -72.61145523, -72.68249918], \"marker\": {\"color\": \"blue\", \"size\": 5}, \"mode\": \"markers+lines\", \"name\": \"Main Route\", \"type\": \"scattermapbox\"}],\n",
              "                        {\"hovermode\": \"closest\", \"mapbox\": {\"center\": {\"lat\": 41.26878471063158, \"lon\": -73.37656607409332}, \"style\": \"carto-darkmatter\", \"zoom\": 8.25}, \"margin\": {\"b\": 0, \"l\": 0, \"r\": 0, \"t\": 0}, \"template\": {\"data\": {\"bar\": [{\"error_x\": {\"color\": \"#2a3f5f\"}, \"error_y\": {\"color\": \"#2a3f5f\"}, \"marker\": {\"line\": {\"color\": \"#E5ECF6\", \"width\": 0.5}}, \"type\": \"bar\"}], \"barpolar\": [{\"marker\": {\"line\": {\"color\": \"#E5ECF6\", \"width\": 0.5}}, \"type\": \"barpolar\"}], \"carpet\": [{\"aaxis\": {\"endlinecolor\": \"#2a3f5f\", \"gridcolor\": \"white\", \"linecolor\": \"white\", \"minorgridcolor\": \"white\", \"startlinecolor\": \"#2a3f5f\"}, \"baxis\": {\"endlinecolor\": \"#2a3f5f\", \"gridcolor\": \"white\", \"linecolor\": \"white\", \"minorgridcolor\": \"white\", \"startlinecolor\": \"#2a3f5f\"}, \"type\": \"carpet\"}], \"choropleth\": [{\"colorbar\": {\"outlinewidth\": 0, \"ticks\": \"\"}, \"type\": \"choropleth\"}], \"contour\": [{\"colorbar\": {\"outlinewidth\": 0, \"ticks\": \"\"}, \"colorscale\": [[0.0, \"#0d0887\"], [0.1111111111111111, \"#46039f\"], [0.2222222222222222, \"#7201a8\"], [0.3333333333333333, \"#9c179e\"], [0.4444444444444444, \"#bd3786\"], [0.5555555555555556, \"#d8576b\"], [0.6666666666666666, \"#ed7953\"], [0.7777777777777778, \"#fb9f3a\"], [0.8888888888888888, \"#fdca26\"], [1.0, \"#f0f921\"]], \"type\": \"contour\"}], \"contourcarpet\": [{\"colorbar\": {\"outlinewidth\": 0, \"ticks\": \"\"}, \"type\": \"contourcarpet\"}], \"heatmap\": [{\"colorbar\": {\"outlinewidth\": 0, \"ticks\": \"\"}, \"colorscale\": [[0.0, \"#0d0887\"], [0.1111111111111111, \"#46039f\"], [0.2222222222222222, \"#7201a8\"], [0.3333333333333333, \"#9c179e\"], [0.4444444444444444, \"#bd3786\"], [0.5555555555555556, \"#d8576b\"], [0.6666666666666666, \"#ed7953\"], [0.7777777777777778, \"#fb9f3a\"], [0.8888888888888888, \"#fdca26\"], [1.0, \"#f0f921\"]], \"type\": \"heatmap\"}], \"heatmapgl\": [{\"colorbar\": {\"outlinewidth\": 0, \"ticks\": \"\"}, \"colorscale\": [[0.0, \"#0d0887\"], [0.1111111111111111, \"#46039f\"], [0.2222222222222222, \"#7201a8\"], [0.3333333333333333, \"#9c179e\"], [0.4444444444444444, \"#bd3786\"], [0.5555555555555556, \"#d8576b\"], [0.6666666666666666, \"#ed7953\"], [0.7777777777777778, \"#fb9f3a\"], [0.8888888888888888, \"#fdca26\"], [1.0, \"#f0f921\"]], \"type\": \"heatmapgl\"}], \"histogram\": [{\"marker\": {\"colorbar\": {\"outlinewidth\": 0, \"ticks\": \"\"}}, \"type\": \"histogram\"}], \"histogram2d\": [{\"colorbar\": {\"outlinewidth\": 0, \"ticks\": \"\"}, \"colorscale\": [[0.0, \"#0d0887\"], [0.1111111111111111, \"#46039f\"], [0.2222222222222222, \"#7201a8\"], [0.3333333333333333, \"#9c179e\"], [0.4444444444444444, \"#bd3786\"], [0.5555555555555556, \"#d8576b\"], [0.6666666666666666, \"#ed7953\"], [0.7777777777777778, \"#fb9f3a\"], [0.8888888888888888, \"#fdca26\"], [1.0, \"#f0f921\"]], \"type\": \"histogram2d\"}], \"histogram2dcontour\": [{\"colorbar\": {\"outlinewidth\": 0, \"ticks\": \"\"}, \"colorscale\": [[0.0, \"#0d0887\"], [0.1111111111111111, \"#46039f\"], [0.2222222222222222, \"#7201a8\"], [0.3333333333333333, \"#9c179e\"], [0.4444444444444444, \"#bd3786\"], [0.5555555555555556, \"#d8576b\"], [0.6666666666666666, \"#ed7953\"], [0.7777777777777778, \"#fb9f3a\"], [0.8888888888888888, \"#fdca26\"], [1.0, \"#f0f921\"]], \"type\": \"histogram2dcontour\"}], \"mesh3d\": [{\"colorbar\": {\"outlinewidth\": 0, \"ticks\": \"\"}, \"type\": \"mesh3d\"}], \"parcoords\": [{\"line\": {\"colorbar\": {\"outlinewidth\": 0, \"ticks\": \"\"}}, \"type\": \"parcoords\"}], \"pie\": [{\"automargin\": true, \"type\": \"pie\"}], \"scatter\": [{\"marker\": {\"colorbar\": {\"outlinewidth\": 0, \"ticks\": \"\"}}, \"type\": \"scatter\"}], \"scatter3d\": [{\"line\": {\"colorbar\": {\"outlinewidth\": 0, \"ticks\": \"\"}}, \"marker\": {\"colorbar\": {\"outlinewidth\": 0, \"ticks\": \"\"}}, \"type\": \"scatter3d\"}], \"scattercarpet\": [{\"marker\": {\"colorbar\": {\"outlinewidth\": 0, \"ticks\": \"\"}}, \"type\": \"scattercarpet\"}], \"scattergeo\": [{\"marker\": {\"colorbar\": {\"outlinewidth\": 0, \"ticks\": \"\"}}, \"type\": \"scattergeo\"}], \"scattergl\": [{\"marker\": {\"colorbar\": {\"outlinewidth\": 0, \"ticks\": \"\"}}, \"type\": \"scattergl\"}], \"scattermapbox\": [{\"marker\": {\"colorbar\": {\"outlinewidth\": 0, \"ticks\": \"\"}}, \"type\": \"scattermapbox\"}], \"scatterpolar\": [{\"marker\": {\"colorbar\": {\"outlinewidth\": 0, \"ticks\": \"\"}}, \"type\": \"scatterpolar\"}], \"scatterpolargl\": [{\"marker\": {\"colorbar\": {\"outlinewidth\": 0, \"ticks\": \"\"}}, \"type\": \"scatterpolargl\"}], \"scatterternary\": [{\"marker\": {\"colorbar\": {\"outlinewidth\": 0, \"ticks\": \"\"}}, \"type\": \"scatterternary\"}], \"surface\": [{\"colorbar\": {\"outlinewidth\": 0, \"ticks\": \"\"}, \"colorscale\": [[0.0, \"#0d0887\"], [0.1111111111111111, \"#46039f\"], [0.2222222222222222, \"#7201a8\"], [0.3333333333333333, \"#9c179e\"], [0.4444444444444444, \"#bd3786\"], [0.5555555555555556, \"#d8576b\"], [0.6666666666666666, \"#ed7953\"], [0.7777777777777778, \"#fb9f3a\"], [0.8888888888888888, \"#fdca26\"], [1.0, \"#f0f921\"]], \"type\": \"surface\"}], \"table\": [{\"cells\": {\"fill\": {\"color\": \"#EBF0F8\"}, \"line\": {\"color\": \"white\"}}, \"header\": {\"fill\": {\"color\": \"#C8D4E3\"}, \"line\": {\"color\": \"white\"}}, \"type\": \"table\"}]}, \"layout\": {\"annotationdefaults\": {\"arrowcolor\": \"#2a3f5f\", \"arrowhead\": 0, \"arrowwidth\": 1}, \"coloraxis\": {\"colorbar\": {\"outlinewidth\": 0, \"ticks\": \"\"}}, \"colorscale\": {\"diverging\": [[0, \"#8e0152\"], [0.1, \"#c51b7d\"], [0.2, \"#de77ae\"], [0.3, \"#f1b6da\"], [0.4, \"#fde0ef\"], [0.5, \"#f7f7f7\"], [0.6, \"#e6f5d0\"], [0.7, \"#b8e186\"], [0.8, \"#7fbc41\"], [0.9, \"#4d9221\"], [1, \"#276419\"]], \"sequential\": [[0.0, \"#0d0887\"], [0.1111111111111111, \"#46039f\"], [0.2222222222222222, \"#7201a8\"], [0.3333333333333333, \"#9c179e\"], [0.4444444444444444, \"#bd3786\"], [0.5555555555555556, \"#d8576b\"], [0.6666666666666666, \"#ed7953\"], [0.7777777777777778, \"#fb9f3a\"], [0.8888888888888888, \"#fdca26\"], [1.0, \"#f0f921\"]], \"sequentialminus\": [[0.0, \"#0d0887\"], [0.1111111111111111, \"#46039f\"], [0.2222222222222222, \"#7201a8\"], [0.3333333333333333, \"#9c179e\"], [0.4444444444444444, \"#bd3786\"], [0.5555555555555556, \"#d8576b\"], [0.6666666666666666, \"#ed7953\"], [0.7777777777777778, \"#fb9f3a\"], [0.8888888888888888, \"#fdca26\"], [1.0, \"#f0f921\"]]}, \"colorway\": [\"#636efa\", \"#EF553B\", \"#00cc96\", \"#ab63fa\", \"#FFA15A\", \"#19d3f3\", \"#FF6692\", \"#B6E880\", \"#FF97FF\", \"#FECB52\"], \"font\": {\"color\": \"#2a3f5f\"}, \"geo\": {\"bgcolor\": \"white\", \"lakecolor\": \"white\", \"landcolor\": \"#E5ECF6\", \"showlakes\": true, \"showland\": true, \"subunitcolor\": \"white\"}, \"hoverlabel\": {\"align\": \"left\"}, \"hovermode\": \"closest\", \"mapbox\": {\"style\": \"light\"}, \"paper_bgcolor\": \"white\", \"plot_bgcolor\": \"#E5ECF6\", \"polar\": {\"angularaxis\": {\"gridcolor\": \"white\", \"linecolor\": \"white\", \"ticks\": \"\"}, \"bgcolor\": \"#E5ECF6\", \"radialaxis\": {\"gridcolor\": \"white\", \"linecolor\": \"white\", \"ticks\": \"\"}}, \"scene\": {\"xaxis\": {\"backgroundcolor\": \"#E5ECF6\", \"gridcolor\": \"white\", \"gridwidth\": 2, \"linecolor\": \"white\", \"showbackground\": true, \"ticks\": \"\", \"zerolinecolor\": \"white\"}, \"yaxis\": {\"backgroundcolor\": \"#E5ECF6\", \"gridcolor\": \"white\", \"gridwidth\": 2, \"linecolor\": \"white\", \"showbackground\": true, \"ticks\": \"\", \"zerolinecolor\": \"white\"}, \"zaxis\": {\"backgroundcolor\": \"#E5ECF6\", \"gridcolor\": \"white\", \"gridwidth\": 2, \"linecolor\": \"white\", \"showbackground\": true, \"ticks\": \"\", \"zerolinecolor\": \"white\"}}, \"shapedefaults\": {\"line\": {\"color\": \"#2a3f5f\"}}, \"ternary\": {\"aaxis\": {\"gridcolor\": \"white\", \"linecolor\": \"white\", \"ticks\": \"\"}, \"baxis\": {\"gridcolor\": \"white\", \"linecolor\": \"white\", \"ticks\": \"\"}, \"bgcolor\": \"#E5ECF6\", \"caxis\": {\"gridcolor\": \"white\", \"linecolor\": \"white\", \"ticks\": \"\"}}, \"title\": {\"x\": 0.05}, \"xaxis\": {\"automargin\": true, \"gridcolor\": \"white\", \"linecolor\": \"white\", \"ticks\": \"\", \"title\": {\"standoff\": 15}, \"zerolinecolor\": \"white\", \"zerolinewidth\": 2}, \"yaxis\": {\"automargin\": true, \"gridcolor\": \"white\", \"linecolor\": \"white\", \"ticks\": \"\", \"title\": {\"standoff\": 15}, \"zerolinecolor\": \"white\", \"zerolinewidth\": 2}}}, \"title\": {\"text\": \"TRAVELING SALESMAN ROUTE\"}, \"updatemenus\": [{\"buttons\": [{\"args\": [null], \"label\": \"Play\", \"method\": \"animate\"}], \"type\": \"buttons\"}]},\n",
              "                        {\"scrollZoom\": false, \"responsive\": true}\n",
              "                    ).then(function(){\n",
              "                            Plotly.addFrames('abd68cd7-71f2-4326-9f5c-0f74cee91fd0', [{\"data\": [{\"lat\": [41.76428989], \"lon\": [-72.68249918], \"marker\": {\"color\": \"red\", \"size\": 10}, \"mode\": \"markers\", \"type\": \"scattermapbox\"}]}, {\"data\": [{\"lat\": [41.76107505], \"lon\": [-72.7161176], \"marker\": {\"color\": \"red\", \"size\": 10}, \"mode\": \"markers\", \"type\": \"scattermapbox\"}]}, {\"data\": [{\"lat\": [41.76179605], \"lon\": [-72.74407669], \"marker\": {\"color\": \"red\", \"size\": 10}, \"mode\": \"markers\", \"type\": \"scattermapbox\"}]}, {\"data\": [{\"lat\": [41.78549258], \"lon\": [-72.74611836], \"marker\": {\"color\": \"red\", \"size\": 10}, \"mode\": \"markers\", \"type\": \"scattermapbox\"}]}, {\"data\": [{\"lat\": [41.78408508], \"lon\": [-72.74790929], \"marker\": {\"color\": \"red\", \"size\": 10}, \"mode\": \"markers\", \"type\": \"scattermapbox\"}]}, {\"data\": [{\"lat\": [41.75534058], \"lon\": [-72.76649752], \"marker\": {\"color\": \"red\", \"size\": 10}, \"mode\": \"markers\", \"type\": \"scattermapbox\"}]}, {\"data\": [{\"lat\": [41.75221948], \"lon\": [-72.74340554], \"marker\": {\"color\": \"red\", \"size\": 10}, \"mode\": \"markers\", \"type\": \"scattermapbox\"}]}, {\"data\": [{\"lat\": [41.73184570000001], \"lon\": [-72.73005133], \"marker\": {\"color\": \"red\", \"size\": 10}, \"mode\": \"markers\", \"type\": \"scattermapbox\"}]}, {\"data\": [{\"lat\": [41.6411774], \"lon\": [-72.7339675], \"marker\": {\"color\": \"red\", \"size\": 10}, \"mode\": \"markers\", \"type\": \"scattermapbox\"}]}, {\"data\": [{\"lat\": [41.63127394], \"lon\": [-72.75955474], \"marker\": {\"color\": \"red\", \"size\": 10}, \"mode\": \"markers\", \"type\": \"scattermapbox\"}]}, {\"data\": [{\"lat\": [41.70481927], \"lon\": [-72.84400274], \"marker\": {\"color\": \"red\", \"size\": 10}, \"mode\": \"markers\", \"type\": \"scattermapbox\"}]}, {\"data\": [{\"lat\": [41.8250066], \"lon\": [-72.8854906], \"marker\": {\"color\": \"red\", \"size\": 10}, \"mode\": \"markers\", \"type\": \"scattermapbox\"}]}, {\"data\": [{\"lat\": [41.69371913], \"lon\": [-72.91589206], \"marker\": {\"color\": \"red\", \"size\": 10}, \"mode\": \"markers\", \"type\": \"scattermapbox\"}]}, {\"data\": [{\"lat\": [41.66730216], \"lon\": [-72.92310666], \"marker\": {\"color\": \"red\", \"size\": 10}, \"mode\": \"markers\", \"type\": \"scattermapbox\"}]}, {\"data\": [{\"lat\": [41.68178191], \"lon\": [-72.94619109], \"marker\": {\"color\": \"red\", \"size\": 10}, \"mode\": \"markers\", \"type\": \"scattermapbox\"}]}, {\"data\": [{\"lat\": [41.50784652], \"lon\": [-72.9802223], \"marker\": {\"color\": \"red\", \"size\": 10}, \"mode\": \"markers\", \"type\": \"scattermapbox\"}]}, {\"data\": [{\"lat\": [41.435008399999994], \"lon\": [-73.41505], \"marker\": {\"color\": \"red\", \"size\": 10}, \"mode\": \"markers\", \"type\": \"scattermapbox\"}]}, {\"data\": [{\"lat\": [41.28302995], \"lon\": [-73.49989899], \"marker\": {\"color\": \"red\", \"size\": 10}, \"mode\": \"markers\", \"type\": \"scattermapbox\"}]}, {\"data\": [{\"lat\": [41.14637858], \"lon\": [-73.49516904], \"marker\": {\"color\": \"red\", \"size\": 10}, \"mode\": \"markers\", \"type\": \"scattermapbox\"}]}, {\"data\": [{\"lat\": [41.0311029], \"lon\": [-73.56793309999999], \"marker\": {\"color\": \"red\", \"size\": 10}, \"mode\": \"markers\", \"type\": \"scattermapbox\"}]}, {\"data\": [{\"lat\": [41.0764284], \"lon\": [-73.4704302], \"marker\": {\"color\": \"red\", \"size\": 10}, \"mode\": \"markers\", \"type\": \"scattermapbox\"}]}, {\"data\": [{\"lat\": [41.19402578], \"lon\": [-73.43174133], \"marker\": {\"color\": \"red\", \"size\": 10}, \"mode\": \"markers\", \"type\": \"scattermapbox\"}]}, {\"data\": [{\"lat\": [41.26745001], \"lon\": [-73.4436939], \"marker\": {\"color\": \"red\", \"size\": 10}, \"mode\": \"markers\", \"type\": \"scattermapbox\"}]}, {\"data\": [{\"lat\": [41.31734643], \"lon\": [-73.21633832], \"marker\": {\"color\": \"red\", \"size\": 10}, \"mode\": \"markers\", \"type\": \"scattermapbox\"}]}, {\"data\": [{\"lat\": [41.32921973], \"lon\": [-72.96839324], \"marker\": {\"color\": \"red\", \"size\": 10}, \"mode\": \"markers\", \"type\": \"scattermapbox\"}]}, {\"data\": [{\"lat\": [41.31618834], \"lon\": [-72.93952687], \"marker\": {\"color\": \"red\", \"size\": 10}, \"mode\": \"markers\", \"type\": \"scattermapbox\"}]}, {\"data\": [{\"lat\": [41.34743906], \"lon\": [-72.93297940000001], \"marker\": {\"color\": \"red\", \"size\": 10}, \"mode\": \"markers\", \"type\": \"scattermapbox\"}]}, {\"data\": [{\"lat\": [41.36752697], \"lon\": [-72.91972719], \"marker\": {\"color\": \"red\", \"size\": 10}, \"mode\": \"markers\", \"type\": \"scattermapbox\"}]}, {\"data\": [{\"lat\": [41.3062916], \"lon\": [-72.92531516], \"marker\": {\"color\": \"red\", \"size\": 10}, \"mode\": \"markers\", \"type\": \"scattermapbox\"}]}, {\"data\": [{\"lat\": [41.27901446], \"lon\": [-72.52846212], \"marker\": {\"color\": \"red\", \"size\": 10}, \"mode\": \"markers\", \"type\": \"scattermapbox\"}]}, {\"data\": [{\"lat\": [41.66027971], \"lon\": [-72.35594026], \"marker\": {\"color\": \"red\", \"size\": 10}, \"mode\": \"markers\", \"type\": \"scattermapbox\"}]}, {\"data\": [{\"lat\": [41.86825418], \"lon\": [-72.46719814], \"marker\": {\"color\": \"red\", \"size\": 10}, \"mode\": \"markers\", \"type\": \"scattermapbox\"}]}, {\"data\": [{\"lat\": [41.70537939], \"lon\": [-72.59393854], \"marker\": {\"color\": \"red\", \"size\": 10}, \"mode\": \"markers\", \"type\": \"scattermapbox\"}]}, {\"data\": [{\"lat\": [41.71547718], \"lon\": [-72.61145523], \"marker\": {\"color\": \"red\", \"size\": 10}, \"mode\": \"markers\", \"type\": \"scattermapbox\"}]}, {\"data\": [{\"lat\": [41.76428989], \"lon\": [-72.68249918], \"marker\": {\"color\": \"red\", \"size\": 10}, \"mode\": \"markers\", \"type\": \"scattermapbox\"}]}]);\n",
              "                        }).then(function(){\n",
              "                            \n",
              "var gd = document.getElementById('abd68cd7-71f2-4326-9f5c-0f74cee91fd0');\n",
              "var x = new MutationObserver(function (mutations, observer) {{\n",
              "        var display = window.getComputedStyle(gd).display;\n",
              "        if (!display || display === 'none') {{\n",
              "            console.log([gd, 'removed!']);\n",
              "            Plotly.purge(gd);\n",
              "            observer.disconnect();\n",
              "        }}\n",
              "}});\n",
              "\n",
              "// Listen for the removal of the full notebook cells\n",
              "var notebookContainer = gd.closest('#notebook-container');\n",
              "if (notebookContainer) {{\n",
              "    x.observe(notebookContainer, {childList: true});\n",
              "}}\n",
              "\n",
              "// Listen for the clearing of the current output cell\n",
              "var outputEl = gd.closest('.output');\n",
              "if (outputEl) {{\n",
              "    x.observe(outputEl, {childList: true});\n",
              "}}\n",
              "\n",
              "                        })\n",
              "                };\n",
              "                \n",
              "            </script>\n",
              "        </div>\n",
              "</body>\n",
              "</html>"
            ]
          },
          "metadata": {
            "tags": []
          }
        },
        {
          "output_type": "stream",
          "text": [
            "time: 2.6 s (started: 2021-04-28 10:39:57 +00:00)\n"
          ],
          "name": "stdout"
        }
      ]
    },
    {
      "cell_type": "code",
      "metadata": {
        "colab": {
          "base_uri": "https://localhost:8080/"
        },
        "id": "uZnDowRoa8nd",
        "outputId": "71c5ae57-9ca9-4ef4-c819-d6469b06dfce"
      },
      "source": [
        "print('Minimum distance: {} km'.format(solution.ObjectiveValue())) #Minimum distance covered (or) Minimum Cost= 31868 Kms"
      ],
      "execution_count": null,
      "outputs": [
        {
          "output_type": "stream",
          "text": [
            "Minimum distance: 31868 km\n",
            "time: 1.24 ms (started: 2021-04-28 10:40:28 +00:00)\n"
          ],
          "name": "stdout"
        }
      ]
    },
    {
      "cell_type": "markdown",
      "metadata": {
        "id": "bnaaVKOJ-QhK"
      },
      "source": [
        "## Scenario 2: Try a different first solution strategy\n",
        "\n",
        "Using PATH_MOST_CONSTRAINED_ARC solution strategy.\n",
        "Similar to PATH_CHEAPEST_ARC, but arcs are evaluated with a comparison-based selector which will favor the most constrained arc first."
      ]
    },
    {
      "cell_type": "markdown",
      "metadata": {
        "id": "jIwrpm58IihU"
      },
      "source": [
        "**Setting first solution heuristic**\n",
        "\n",
        "**Local search options**"
      ]
    },
    {
      "cell_type": "code",
      "metadata": {
        "colab": {
          "base_uri": "https://localhost:8080/"
        },
        "id": "GEzRhnCVIihZ",
        "outputId": "a754efe7-887e-492b-c5d6-bddbffc2ca0f"
      },
      "source": [
        "search_parameters = pywrapcp.DefaultRoutingSearchParameters() # Setting default parameters for TSP\n",
        "search_parameters.local_search_metaheuristic = (\n",
        "    routing_enums_pb2.LocalSearchMetaheuristic.AUTOMATIC) # \"Automatic\" solution strategy alogrithm used\n",
        "search_parameters.time_limit.seconds = 30 # limit the search time while using metaheuristics, else the solver will not terminate\n",
        "search_parameters.log_search = True"
      ],
      "execution_count": null,
      "outputs": [
        {
          "output_type": "stream",
          "text": [
            "time: 3.49 ms (started: 2021-04-28 10:40:40 +00:00)\n"
          ],
          "name": "stdout"
        }
      ]
    },
    {
      "cell_type": "markdown",
      "metadata": {
        "id": "c-CKNpp3Iiha"
      },
      "source": [
        "#### First solution strategy options"
      ]
    },
    {
      "cell_type": "code",
      "metadata": {
        "colab": {
          "base_uri": "https://localhost:8080/"
        },
        "id": "6H3OliOTIihb",
        "outputId": "c63c3113-a115-472f-a499-6e1af1e10396"
      },
      "source": [
        "# [START parameters]\n",
        "\n",
        "search_parameters = pywrapcp.DefaultRoutingSearchParameters() #setting default parameters for TSP   #more options in VRP\n",
        "\n",
        "# Using the PATH_MOST_CONSTRAINED_ARC solution strategy\n",
        "search_parameters.first_solution_strategy = (routing_enums_pb2.FirstSolutionStrategy.PATH_MOST_CONSTRAINED_ARC) # set it to PATH_MOST_CONSTRAINED_ARC mode for strategy\n",
        "\n",
        "# [END parameters]\n"
      ],
      "execution_count": null,
      "outputs": [
        {
          "output_type": "stream",
          "text": [
            "time: 2.79 ms (started: 2021-04-28 10:40:43 +00:00)\n"
          ],
          "name": "stdout"
        }
      ]
    },
    {
      "cell_type": "markdown",
      "metadata": {
        "id": "MA65F3oFIihb"
      },
      "source": [
        "#### Running the solver"
      ]
    },
    {
      "cell_type": "code",
      "metadata": {
        "colab": {
          "base_uri": "https://localhost:8080/"
        },
        "id": "OVSGt18BIihc",
        "outputId": "d391cba7-48f6-451a-e6db-14da51daca15"
      },
      "source": [
        "# [START solve]\n",
        "\n",
        "# Solve the problem.\n",
        "solution = routing.SolveWithParameters(search_parameters) # solve with those parameters\n",
        "\n",
        "# [END solve]\n"
      ],
      "execution_count": null,
      "outputs": [
        {
          "output_type": "stream",
          "text": [
            "time: 31.1 ms (started: 2021-04-28 10:40:47 +00:00)\n"
          ],
          "name": "stdout"
        }
      ]
    },
    {
      "cell_type": "markdown",
      "metadata": {
        "id": "sDVB6HZPIihc"
      },
      "source": [
        "#### Printing the solution"
      ]
    },
    {
      "cell_type": "code",
      "metadata": {
        "colab": {
          "base_uri": "https://localhost:8080/"
        },
        "id": "r8L-A7iFIihc",
        "outputId": "7402c491-017d-469d-9600-3512ac4544b8"
      },
      "source": [
        "# [START print_solution]\n",
        "\n",
        "#use the print function generated before to print the solution & add to tsp array\n",
        "if solution:\n",
        "    tsp2=print_solution(manager, routing, solution)\n",
        "\n",
        "# [END print_solution]"
      ],
      "execution_count": null,
      "outputs": [
        {
          "output_type": "stream",
          "text": [
            "Objective: 31868 km\n",
            "Route for vehicle 0:\n",
            " 0 -> 1 -> 2 -> 21 -> 22 -> 4 -> 18 -> 33 -> 32 -> 19 -> 20 -> 31 -> 29 -> 23 -> 14 -> 13 -> 12 -> 30 -> 16 -> 28 -> 24 -> 26 -> 25 -> 15 -> 27 -> 3 -> 17 -> 11 -> 9 -> 7 -> 8 -> 6 -> 10 -> 5 -> 0\n",
            "\n",
            "time: 5.67 ms (started: 2021-04-28 10:40:51 +00:00)\n"
          ],
          "name": "stdout"
        }
      ]
    },
    {
      "cell_type": "markdown",
      "metadata": {
        "id": "t5vjCUumdGan"
      },
      "source": [
        "**The path reamins effectively the same in comparison with the previous solution. The solution traverses the same path however in the opposite direction.**\n",
        "\n",
        "*Previous Solution*: **0 -> 5 -> 10 -> 6** -> 8 -> 7 -> 9 -> 11 -> 17 -> 3 -> 27 -> 15 -> 25 -> 26 -> 24 -> 28 -> 16 -> 30 -> 12 -> 13 -> 14 -> 23 ->\n",
        "29 -> 31 -> 20 -> 19 -> 32 -> 33 -> 18 -> 4 -> 22 -> 21 -> 2 -> 1 -> 0\n",
        "\n",
        "*Current Solution*: 0 -> 1 -> 2 -> 21 -> 22 -> 4 -> 18 -> 33 -> 32 -> 19 -> 20 -> 31 -> 29 -> 23 -> 14 -> 13 -> 12 -> 30 -> 16 -> 28 -> 24 ->\n",
        "26 -> 25 -> 15 -> 27 -> 3 -> 17 -> 11 -> 9 -> 7 -> 8 **-> 6 -> 10 -> 5 -> 0**\n",
        "\n"
      ]
    },
    {
      "cell_type": "code",
      "metadata": {
        "colab": {
          "base_uri": "https://localhost:8080/"
        },
        "id": "FoDHN4rpIihd",
        "outputId": "19f1793a-2eb9-4928-a369-87c7daba9404"
      },
      "source": [
        "tsp2=np.array(tsp2)\n",
        "tsp2 #solution array"
      ],
      "execution_count": null,
      "outputs": [
        {
          "output_type": "execute_result",
          "data": {
            "text/plain": [
              "array([ 0,  1,  2, 21, 22,  4, 18, 33, 32, 19, 20, 31, 29, 23, 14, 13, 12,\n",
              "       30, 16, 28, 24, 26, 25, 15, 27,  3, 17, 11,  9,  7,  8,  6, 10,  5])"
            ]
          },
          "metadata": {
            "tags": []
          },
          "execution_count": 180
        },
        {
          "output_type": "stream",
          "text": [
            "time: 12 ms (started: 2021-04-28 10:41:00 +00:00)\n"
          ],
          "name": "stdout"
        }
      ]
    },
    {
      "cell_type": "code",
      "metadata": {
        "colab": {
          "base_uri": "https://localhost:8080/",
          "height": 1000
        },
        "id": "5uLzsrHfIihd",
        "outputId": "62e538cb-d63b-447d-f79b-0d3e810dca23"
      },
      "source": [
        "# now reindex the original data\n",
        "geogTable_orig3 = geogTable_orig.reindex(tsp2)\n",
        "\n",
        "# Adding an additional row with the coordinates of State Capitol (Distribution Center), such that\n",
        "# The succeeding visualizations depict the shortest route beginning and ending at the State Capitol\n",
        "geogTable_orig3.loc[len(geogTable_orig3.index)] = geogTable_orig3.iloc[0,:]\n",
        "# geogTable_orig2.loc[23,:]=geogTable_orig2.iloc[0,:]\n",
        "geogTable_orig3"
      ],
      "execution_count": null,
      "outputs": [
        {
          "output_type": "execute_result",
          "data": {
            "text/html": [
              "<div>\n",
              "<style scoped>\n",
              "    .dataframe tbody tr th:only-of-type {\n",
              "        vertical-align: middle;\n",
              "    }\n",
              "\n",
              "    .dataframe tbody tr th {\n",
              "        vertical-align: top;\n",
              "    }\n",
              "\n",
              "    .dataframe thead th {\n",
              "        text-align: right;\n",
              "    }\n",
              "</style>\n",
              "<table border=\"1\" class=\"dataframe\">\n",
              "  <thead>\n",
              "    <tr style=\"text-align: right;\">\n",
              "      <th></th>\n",
              "      <th>Town</th>\n",
              "      <th>Lon</th>\n",
              "      <th>Lat</th>\n",
              "    </tr>\n",
              "  </thead>\n",
              "  <tbody>\n",
              "    <tr>\n",
              "      <th>0</th>\n",
              "      <td>State Capitol</td>\n",
              "      <td>-72.682499</td>\n",
              "      <td>41.764290</td>\n",
              "    </tr>\n",
              "    <tr>\n",
              "      <th>1</th>\n",
              "      <td>Glastonbury (1)</td>\n",
              "      <td>-72.611455</td>\n",
              "      <td>41.715477</td>\n",
              "    </tr>\n",
              "    <tr>\n",
              "      <th>2</th>\n",
              "      <td>Glastonbury (2)</td>\n",
              "      <td>-72.593939</td>\n",
              "      <td>41.705379</td>\n",
              "    </tr>\n",
              "    <tr>\n",
              "      <th>21</th>\n",
              "      <td>Rockville (1)</td>\n",
              "      <td>-72.467198</td>\n",
              "      <td>41.868254</td>\n",
              "    </tr>\n",
              "    <tr>\n",
              "      <th>22</th>\n",
              "      <td>Hebron (1)</td>\n",
              "      <td>-72.355940</td>\n",
              "      <td>41.660280</td>\n",
              "    </tr>\n",
              "    <tr>\n",
              "      <th>4</th>\n",
              "      <td>Clinton (1)</td>\n",
              "      <td>-72.528462</td>\n",
              "      <td>41.279014</td>\n",
              "    </tr>\n",
              "    <tr>\n",
              "      <th>18</th>\n",
              "      <td>New Haven (1)</td>\n",
              "      <td>-72.925315</td>\n",
              "      <td>41.306292</td>\n",
              "    </tr>\n",
              "    <tr>\n",
              "      <th>33</th>\n",
              "      <td>Hamden (2)</td>\n",
              "      <td>-72.919727</td>\n",
              "      <td>41.367527</td>\n",
              "    </tr>\n",
              "    <tr>\n",
              "      <th>32</th>\n",
              "      <td>Hamden (1)</td>\n",
              "      <td>-72.932979</td>\n",
              "      <td>41.347439</td>\n",
              "    </tr>\n",
              "    <tr>\n",
              "      <th>19</th>\n",
              "      <td>New Haven (2)</td>\n",
              "      <td>-72.939527</td>\n",
              "      <td>41.316188</td>\n",
              "    </tr>\n",
              "    <tr>\n",
              "      <th>20</th>\n",
              "      <td>New Haven (3)</td>\n",
              "      <td>-72.968393</td>\n",
              "      <td>41.329220</td>\n",
              "    </tr>\n",
              "    <tr>\n",
              "      <th>31</th>\n",
              "      <td>Monroe (1)</td>\n",
              "      <td>-73.216338</td>\n",
              "      <td>41.317346</td>\n",
              "    </tr>\n",
              "    <tr>\n",
              "      <th>29</th>\n",
              "      <td>Ridgefield (1)</td>\n",
              "      <td>-73.443694</td>\n",
              "      <td>41.267450</td>\n",
              "    </tr>\n",
              "    <tr>\n",
              "      <th>23</th>\n",
              "      <td>Wilton (1)</td>\n",
              "      <td>-73.431741</td>\n",
              "      <td>41.194026</td>\n",
              "    </tr>\n",
              "    <tr>\n",
              "      <th>14</th>\n",
              "      <td>Darien (1)</td>\n",
              "      <td>-73.470430</td>\n",
              "      <td>41.076428</td>\n",
              "    </tr>\n",
              "    <tr>\n",
              "      <th>13</th>\n",
              "      <td>Old Greenwich (1)</td>\n",
              "      <td>-73.567933</td>\n",
              "      <td>41.031103</td>\n",
              "    </tr>\n",
              "    <tr>\n",
              "      <th>12</th>\n",
              "      <td>New Canaan (1)</td>\n",
              "      <td>-73.495169</td>\n",
              "      <td>41.146379</td>\n",
              "    </tr>\n",
              "    <tr>\n",
              "      <th>30</th>\n",
              "      <td>Ridgefield (2)</td>\n",
              "      <td>-73.499899</td>\n",
              "      <td>41.283030</td>\n",
              "    </tr>\n",
              "    <tr>\n",
              "      <th>16</th>\n",
              "      <td>Brookfield (1)</td>\n",
              "      <td>-73.415050</td>\n",
              "      <td>41.435008</td>\n",
              "    </tr>\n",
              "    <tr>\n",
              "      <th>28</th>\n",
              "      <td>Prospect (1)</td>\n",
              "      <td>-72.980222</td>\n",
              "      <td>41.507847</td>\n",
              "    </tr>\n",
              "    <tr>\n",
              "      <th>24</th>\n",
              "      <td>Bristol (1)</td>\n",
              "      <td>-72.946191</td>\n",
              "      <td>41.681782</td>\n",
              "    </tr>\n",
              "    <tr>\n",
              "      <th>26</th>\n",
              "      <td>Bristol (3)</td>\n",
              "      <td>-72.923107</td>\n",
              "      <td>41.667302</td>\n",
              "    </tr>\n",
              "    <tr>\n",
              "      <th>25</th>\n",
              "      <td>Bristol (2)</td>\n",
              "      <td>-72.915892</td>\n",
              "      <td>41.693719</td>\n",
              "    </tr>\n",
              "    <tr>\n",
              "      <th>15</th>\n",
              "      <td>Canton (1)</td>\n",
              "      <td>-72.885491</td>\n",
              "      <td>41.825007</td>\n",
              "    </tr>\n",
              "    <tr>\n",
              "      <th>27</th>\n",
              "      <td>Farmington (1)</td>\n",
              "      <td>-72.844003</td>\n",
              "      <td>41.704819</td>\n",
              "    </tr>\n",
              "    <tr>\n",
              "      <th>3</th>\n",
              "      <td>Kensington (1)</td>\n",
              "      <td>-72.759555</td>\n",
              "      <td>41.631274</td>\n",
              "    </tr>\n",
              "    <tr>\n",
              "      <th>17</th>\n",
              "      <td>Berlin (1)</td>\n",
              "      <td>-72.733968</td>\n",
              "      <td>41.641177</td>\n",
              "    </tr>\n",
              "    <tr>\n",
              "      <th>11</th>\n",
              "      <td>West Hartford (7)</td>\n",
              "      <td>-72.730051</td>\n",
              "      <td>41.731846</td>\n",
              "    </tr>\n",
              "    <tr>\n",
              "      <th>9</th>\n",
              "      <td>West Hartford (5)</td>\n",
              "      <td>-72.743406</td>\n",
              "      <td>41.752219</td>\n",
              "    </tr>\n",
              "    <tr>\n",
              "      <th>7</th>\n",
              "      <td>West Hartford (3)</td>\n",
              "      <td>-72.766498</td>\n",
              "      <td>41.755341</td>\n",
              "    </tr>\n",
              "    <tr>\n",
              "      <th>8</th>\n",
              "      <td>West Hartford (4)</td>\n",
              "      <td>-72.747909</td>\n",
              "      <td>41.784085</td>\n",
              "    </tr>\n",
              "    <tr>\n",
              "      <th>6</th>\n",
              "      <td>West Hartford (2)</td>\n",
              "      <td>-72.746118</td>\n",
              "      <td>41.785493</td>\n",
              "    </tr>\n",
              "    <tr>\n",
              "      <th>10</th>\n",
              "      <td>West Hartford (6)</td>\n",
              "      <td>-72.744077</td>\n",
              "      <td>41.761796</td>\n",
              "    </tr>\n",
              "    <tr>\n",
              "      <th>5</th>\n",
              "      <td>West Hartford (1)</td>\n",
              "      <td>-72.716118</td>\n",
              "      <td>41.761075</td>\n",
              "    </tr>\n",
              "    <tr>\n",
              "      <th>34</th>\n",
              "      <td>State Capitol</td>\n",
              "      <td>-72.682499</td>\n",
              "      <td>41.764290</td>\n",
              "    </tr>\n",
              "  </tbody>\n",
              "</table>\n",
              "</div>"
            ],
            "text/plain": [
              "                 Town        Lon        Lat\n",
              "0       State Capitol -72.682499  41.764290\n",
              "1     Glastonbury (1) -72.611455  41.715477\n",
              "2     Glastonbury (2) -72.593939  41.705379\n",
              "21      Rockville (1) -72.467198  41.868254\n",
              "22         Hebron (1) -72.355940  41.660280\n",
              "4         Clinton (1) -72.528462  41.279014\n",
              "18      New Haven (1) -72.925315  41.306292\n",
              "33         Hamden (2) -72.919727  41.367527\n",
              "32         Hamden (1) -72.932979  41.347439\n",
              "19      New Haven (2) -72.939527  41.316188\n",
              "20      New Haven (3) -72.968393  41.329220\n",
              "31         Monroe (1) -73.216338  41.317346\n",
              "29     Ridgefield (1) -73.443694  41.267450\n",
              "23         Wilton (1) -73.431741  41.194026\n",
              "14         Darien (1) -73.470430  41.076428\n",
              "13  Old Greenwich (1) -73.567933  41.031103\n",
              "12     New Canaan (1) -73.495169  41.146379\n",
              "30     Ridgefield (2) -73.499899  41.283030\n",
              "16     Brookfield (1) -73.415050  41.435008\n",
              "28       Prospect (1) -72.980222  41.507847\n",
              "24        Bristol (1) -72.946191  41.681782\n",
              "26        Bristol (3) -72.923107  41.667302\n",
              "25        Bristol (2) -72.915892  41.693719\n",
              "15         Canton (1) -72.885491  41.825007\n",
              "27     Farmington (1) -72.844003  41.704819\n",
              "3      Kensington (1) -72.759555  41.631274\n",
              "17         Berlin (1) -72.733968  41.641177\n",
              "11  West Hartford (7) -72.730051  41.731846\n",
              "9   West Hartford (5) -72.743406  41.752219\n",
              "7   West Hartford (3) -72.766498  41.755341\n",
              "8   West Hartford (4) -72.747909  41.784085\n",
              "6   West Hartford (2) -72.746118  41.785493\n",
              "10  West Hartford (6) -72.744077  41.761796\n",
              "5   West Hartford (1) -72.716118  41.761075\n",
              "34      State Capitol -72.682499  41.764290"
            ]
          },
          "metadata": {
            "tags": []
          },
          "execution_count": 181
        },
        {
          "output_type": "stream",
          "text": [
            "time: 27.4 ms (started: 2021-04-28 10:41:03 +00:00)\n"
          ],
          "name": "stdout"
        }
      ]
    },
    {
      "cell_type": "markdown",
      "metadata": {
        "id": "Ltw1A-XhJmYS"
      },
      "source": [
        "#### Visualizing the solution"
      ]
    },
    {
      "cell_type": "code",
      "metadata": {
        "colab": {
          "base_uri": "https://localhost:8080/"
        },
        "id": "m7Jnt5RxJmYW",
        "outputId": "102e0a38-2a28-4d5a-8b81-dc599fad6c41"
      },
      "source": [
        "mean(geogTable_orig3['Lon']) #for center of Map-mean longitude"
      ],
      "execution_count": null,
      "outputs": [
        {
          "output_type": "execute_result",
          "data": {
            "text/plain": [
              "-72.9237369545714"
            ]
          },
          "metadata": {
            "tags": []
          },
          "execution_count": 182
        },
        {
          "output_type": "stream",
          "text": [
            "time: 5.51 ms (started: 2021-04-28 10:41:22 +00:00)\n"
          ],
          "name": "stdout"
        }
      ]
    },
    {
      "cell_type": "code",
      "metadata": {
        "colab": {
          "base_uri": "https://localhost:8080/"
        },
        "id": "GVkp5fAZJmYX",
        "outputId": "c3f3587f-54d3-4f9f-e8f2-8d3755fc407b"
      },
      "source": [
        "mean(geogTable_orig3['Lat']) #for center of Map-mean latitude"
      ],
      "execution_count": null,
      "outputs": [
        {
          "output_type": "execute_result",
          "data": {
            "text/plain": [
              "41.53883435142857"
            ]
          },
          "metadata": {
            "tags": []
          },
          "execution_count": 183
        },
        {
          "output_type": "stream",
          "text": [
            "time: 5.2 ms (started: 2021-04-28 10:41:25 +00:00)\n"
          ],
          "name": "stdout"
        }
      ]
    },
    {
      "cell_type": "code",
      "metadata": {
        "colab": {
          "base_uri": "https://localhost:8080/",
          "height": 559
        },
        "id": "3zYMJkYrJmYX",
        "outputId": "72e32450-c31c-4eb1-94d2-ecff6bd7ec21"
      },
      "source": [
        "fig = go.Figure(go.Scattermapbox(\n",
        "    mode = \"markers+lines\",\n",
        "    lon = geogTable_orig3['Lon'],\n",
        "    lat = geogTable_orig3['Lat'],\n",
        "    name=\"Main Route\",\n",
        "    hovertext=geogTable_orig3['Town'],\n",
        "    marker = {'size': 10}))\n",
        "\n",
        "for i in range(len(geogTable_orig3)):\n",
        "  fig.add_trace(go.Scattermapbox(\n",
        "    mode = \"markers+lines\",\n",
        "    lon = [geogTable_orig3.iloc[i,1],geogTable_orig3.iloc[i-1,1]],\n",
        "    lat = [geogTable_orig3.iloc[i,2],geogTable_orig3.iloc[i-1,2]],\n",
        "    name=\"Route\"+str(i),\n",
        "    text=[geogTable_orig3.iloc[i,0]+'-'+str(i),geogTable_orig3.iloc[i-1,0]+'-'+str(i-1)],\n",
        "    textposition='top center',\n",
        "    marker = {'size': 10}))\n",
        "\n",
        "fig.update_layout(mapbox_style=\"carto-darkmatter\", mapbox_zoom=8.25, mapbox_center_lat = 41.26878471063158,mapbox_center_lon = -73.37656607409332,\n",
        "    margin={\"r\":0,\"t\":0,\"l\":0,\"b\":0},title=\"TRAVELING SALESMAN ROUTE\")\n",
        "config = dict({'scrollZoom': False})\n",
        "fig.show(config=config)\n"
      ],
      "execution_count": null,
      "outputs": [
        {
          "output_type": "display_data",
          "data": {
            "text/html": [
              "<html>\n",
              "<head><meta charset=\"utf-8\" /></head>\n",
              "<body>\n",
              "    <div>\n",
              "            <script src=\"https://cdnjs.cloudflare.com/ajax/libs/mathjax/2.7.5/MathJax.js?config=TeX-AMS-MML_SVG\"></script><script type=\"text/javascript\">if (window.MathJax) {MathJax.Hub.Config({SVG: {font: \"STIX-Web\"}});}</script>\n",
              "                <script type=\"text/javascript\">window.PlotlyConfig = {MathJaxConfig: 'local'};</script>\n",
              "        <script src=\"https://cdn.plot.ly/plotly-latest.min.js\"></script>    \n",
              "            <div id=\"2f979332-db15-429d-afa8-019b5b3c02ac\" class=\"plotly-graph-div\" style=\"height:525px; width:100%;\"></div>\n",
              "            <script type=\"text/javascript\">\n",
              "                \n",
              "                    window.PLOTLYENV=window.PLOTLYENV || {};\n",
              "                    \n",
              "                if (document.getElementById(\"2f979332-db15-429d-afa8-019b5b3c02ac\")) {\n",
              "                    Plotly.newPlot(\n",
              "                        '2f979332-db15-429d-afa8-019b5b3c02ac',\n",
              "                        [{\"hovertext\": [\"State Capitol\", \"Glastonbury (1)\", \"Glastonbury (2)\", \"Rockville (1)\", \"Hebron (1)\", \"Clinton (1)\", \"New Haven (1)\", \"Hamden (2)\", \"Hamden (1)\", \"New Haven (2)\", \"New Haven (3)\", \"Monroe (1)\", \"Ridgefield (1)\", \"Wilton (1)\", \"Darien (1)\", \"Old Greenwich (1)\", \"New Canaan (1)\", \"Ridgefield (2)\", \"Brookfield (1)\", \"Prospect (1)\", \"Bristol (1)\", \"Bristol (3)\", \"Bristol (2)\", \"Canton (1)\", \"Farmington (1)\", \"Kensington (1)\", \"Berlin (1)\", \"West Hartford (7)\", \"West Hartford (5)\", \"West Hartford (3)\", \"West Hartford (4)\", \"West Hartford (2)\", \"West Hartford (6)\", \"West Hartford (1)\", \"State Capitol\"], \"lat\": [41.76428989, 41.71547718, 41.70537939, 41.86825418, 41.66027971, 41.27901446, 41.3062916, 41.36752697, 41.34743906, 41.31618834, 41.32921973, 41.31734643, 41.26745001, 41.19402578, 41.0764284, 41.0311029, 41.14637858, 41.28302995, 41.435008399999994, 41.50784652, 41.68178191, 41.66730216, 41.69371913, 41.8250066, 41.70481927, 41.63127394, 41.6411774, 41.73184570000001, 41.75221948, 41.75534058, 41.78408508, 41.78549258, 41.76179605, 41.76107505, 41.76428989], \"lon\": [-72.68249918, -72.61145523, -72.59393854, -72.46719814, -72.35594026, -72.52846212, -72.92531516, -72.91972719, -72.93297940000001, -72.93952687, -72.96839324, -73.21633832, -73.4436939, -73.43174133, -73.4704302, -73.56793309999999, -73.49516904, -73.49989899, -73.41505, -72.9802223, -72.94619109, -72.92310666, -72.91589206, -72.8854906, -72.84400274, -72.75955474, -72.7339675, -72.73005133, -72.74340554, -72.76649752, -72.74790929, -72.74611836, -72.74407669, -72.7161176, -72.68249918], \"marker\": {\"size\": 10}, \"mode\": \"markers+lines\", \"name\": \"Main Route\", \"type\": \"scattermapbox\"}, {\"lat\": [41.76428989, 41.76428989], \"lon\": [-72.68249918, -72.68249918], \"marker\": {\"size\": 10}, \"mode\": \"markers+lines\", \"name\": \"Route0\", \"text\": [\"State Capitol-0\", \"State Capitol--1\"], \"textposition\": \"top center\", \"type\": \"scattermapbox\"}, {\"lat\": [41.71547718, 41.76428989], \"lon\": [-72.61145523, -72.68249918], \"marker\": {\"size\": 10}, \"mode\": \"markers+lines\", \"name\": \"Route1\", \"text\": [\"Glastonbury (1)-1\", \"State Capitol-0\"], \"textposition\": \"top center\", \"type\": \"scattermapbox\"}, {\"lat\": [41.70537939, 41.71547718], \"lon\": [-72.59393854, -72.61145523], \"marker\": {\"size\": 10}, \"mode\": \"markers+lines\", \"name\": \"Route2\", \"text\": [\"Glastonbury (2)-2\", \"Glastonbury (1)-1\"], \"textposition\": \"top center\", \"type\": \"scattermapbox\"}, {\"lat\": [41.86825418, 41.70537939], \"lon\": [-72.46719814, -72.59393854], \"marker\": {\"size\": 10}, \"mode\": \"markers+lines\", \"name\": \"Route3\", \"text\": [\"Rockville (1)-3\", \"Glastonbury (2)-2\"], \"textposition\": \"top center\", \"type\": \"scattermapbox\"}, {\"lat\": [41.66027971, 41.86825418], \"lon\": [-72.35594026, -72.46719814], \"marker\": {\"size\": 10}, \"mode\": \"markers+lines\", \"name\": \"Route4\", \"text\": [\"Hebron (1)-4\", \"Rockville (1)-3\"], \"textposition\": \"top center\", \"type\": \"scattermapbox\"}, {\"lat\": [41.27901446, 41.66027971], \"lon\": [-72.52846212, -72.35594026], \"marker\": {\"size\": 10}, \"mode\": \"markers+lines\", \"name\": \"Route5\", \"text\": [\"Clinton (1)-5\", \"Hebron (1)-4\"], \"textposition\": \"top center\", \"type\": \"scattermapbox\"}, {\"lat\": [41.3062916, 41.27901446], \"lon\": [-72.92531516, -72.52846212], \"marker\": {\"size\": 10}, \"mode\": \"markers+lines\", \"name\": \"Route6\", \"text\": [\"New Haven (1)-6\", \"Clinton (1)-5\"], \"textposition\": \"top center\", \"type\": \"scattermapbox\"}, {\"lat\": [41.36752697, 41.3062916], \"lon\": [-72.91972719, -72.92531516], \"marker\": {\"size\": 10}, \"mode\": \"markers+lines\", \"name\": \"Route7\", \"text\": [\"Hamden (2)-7\", \"New Haven (1)-6\"], \"textposition\": \"top center\", \"type\": \"scattermapbox\"}, {\"lat\": [41.34743906, 41.36752697], \"lon\": [-72.93297940000001, -72.91972719], \"marker\": {\"size\": 10}, \"mode\": \"markers+lines\", \"name\": \"Route8\", \"text\": [\"Hamden (1)-8\", \"Hamden (2)-7\"], \"textposition\": \"top center\", \"type\": \"scattermapbox\"}, {\"lat\": [41.31618834, 41.34743906], \"lon\": [-72.93952687, -72.93297940000001], \"marker\": {\"size\": 10}, \"mode\": \"markers+lines\", \"name\": \"Route9\", \"text\": [\"New Haven (2)-9\", \"Hamden (1)-8\"], \"textposition\": \"top center\", \"type\": \"scattermapbox\"}, {\"lat\": [41.32921973, 41.31618834], \"lon\": [-72.96839324, -72.93952687], \"marker\": {\"size\": 10}, \"mode\": \"markers+lines\", \"name\": \"Route10\", \"text\": [\"New Haven (3)-10\", \"New Haven (2)-9\"], \"textposition\": \"top center\", \"type\": \"scattermapbox\"}, {\"lat\": [41.31734643, 41.32921973], \"lon\": [-73.21633832, -72.96839324], \"marker\": {\"size\": 10}, \"mode\": \"markers+lines\", \"name\": \"Route11\", \"text\": [\"Monroe (1)-11\", \"New Haven (3)-10\"], \"textposition\": \"top center\", \"type\": \"scattermapbox\"}, {\"lat\": [41.26745001, 41.31734643], \"lon\": [-73.4436939, -73.21633832], \"marker\": {\"size\": 10}, \"mode\": \"markers+lines\", \"name\": \"Route12\", \"text\": [\"Ridgefield (1)-12\", \"Monroe (1)-11\"], \"textposition\": \"top center\", \"type\": \"scattermapbox\"}, {\"lat\": [41.19402578, 41.26745001], \"lon\": [-73.43174133, -73.4436939], \"marker\": {\"size\": 10}, \"mode\": \"markers+lines\", \"name\": \"Route13\", \"text\": [\"Wilton (1)-13\", \"Ridgefield (1)-12\"], \"textposition\": \"top center\", \"type\": \"scattermapbox\"}, {\"lat\": [41.0764284, 41.19402578], \"lon\": [-73.4704302, -73.43174133], \"marker\": {\"size\": 10}, \"mode\": \"markers+lines\", \"name\": \"Route14\", \"text\": [\"Darien (1)-14\", \"Wilton (1)-13\"], \"textposition\": \"top center\", \"type\": \"scattermapbox\"}, {\"lat\": [41.0311029, 41.0764284], \"lon\": [-73.56793309999999, -73.4704302], \"marker\": {\"size\": 10}, \"mode\": \"markers+lines\", \"name\": \"Route15\", \"text\": [\"Old Greenwich (1)-15\", \"Darien (1)-14\"], \"textposition\": \"top center\", \"type\": \"scattermapbox\"}, {\"lat\": [41.14637858, 41.0311029], \"lon\": [-73.49516904, -73.56793309999999], \"marker\": {\"size\": 10}, \"mode\": \"markers+lines\", \"name\": \"Route16\", \"text\": [\"New Canaan (1)-16\", \"Old Greenwich (1)-15\"], \"textposition\": \"top center\", \"type\": \"scattermapbox\"}, {\"lat\": [41.28302995, 41.14637858], \"lon\": [-73.49989899, -73.49516904], \"marker\": {\"size\": 10}, \"mode\": \"markers+lines\", \"name\": \"Route17\", \"text\": [\"Ridgefield (2)-17\", \"New Canaan (1)-16\"], \"textposition\": \"top center\", \"type\": \"scattermapbox\"}, {\"lat\": [41.435008399999994, 41.28302995], \"lon\": [-73.41505, -73.49989899], \"marker\": {\"size\": 10}, \"mode\": \"markers+lines\", \"name\": \"Route18\", \"text\": [\"Brookfield (1)-18\", \"Ridgefield (2)-17\"], \"textposition\": \"top center\", \"type\": \"scattermapbox\"}, {\"lat\": [41.50784652, 41.435008399999994], \"lon\": [-72.9802223, -73.41505], \"marker\": {\"size\": 10}, \"mode\": \"markers+lines\", \"name\": \"Route19\", \"text\": [\"Prospect (1)-19\", \"Brookfield (1)-18\"], \"textposition\": \"top center\", \"type\": \"scattermapbox\"}, {\"lat\": [41.68178191, 41.50784652], \"lon\": [-72.94619109, -72.9802223], \"marker\": {\"size\": 10}, \"mode\": \"markers+lines\", \"name\": \"Route20\", \"text\": [\"Bristol (1)-20\", \"Prospect (1)-19\"], \"textposition\": \"top center\", \"type\": \"scattermapbox\"}, {\"lat\": [41.66730216, 41.68178191], \"lon\": [-72.92310666, -72.94619109], \"marker\": {\"size\": 10}, \"mode\": \"markers+lines\", \"name\": \"Route21\", \"text\": [\"Bristol (3)-21\", \"Bristol (1)-20\"], \"textposition\": \"top center\", \"type\": \"scattermapbox\"}, {\"lat\": [41.69371913, 41.66730216], \"lon\": [-72.91589206, -72.92310666], \"marker\": {\"size\": 10}, \"mode\": \"markers+lines\", \"name\": \"Route22\", \"text\": [\"Bristol (2)-22\", \"Bristol (3)-21\"], \"textposition\": \"top center\", \"type\": \"scattermapbox\"}, {\"lat\": [41.8250066, 41.69371913], \"lon\": [-72.8854906, -72.91589206], \"marker\": {\"size\": 10}, \"mode\": \"markers+lines\", \"name\": \"Route23\", \"text\": [\"Canton (1)-23\", \"Bristol (2)-22\"], \"textposition\": \"top center\", \"type\": \"scattermapbox\"}, {\"lat\": [41.70481927, 41.8250066], \"lon\": [-72.84400274, -72.8854906], \"marker\": {\"size\": 10}, \"mode\": \"markers+lines\", \"name\": \"Route24\", \"text\": [\"Farmington (1)-24\", \"Canton (1)-23\"], \"textposition\": \"top center\", \"type\": \"scattermapbox\"}, {\"lat\": [41.63127394, 41.70481927], \"lon\": [-72.75955474, -72.84400274], \"marker\": {\"size\": 10}, \"mode\": \"markers+lines\", \"name\": \"Route25\", \"text\": [\"Kensington (1)-25\", \"Farmington (1)-24\"], \"textposition\": \"top center\", \"type\": \"scattermapbox\"}, {\"lat\": [41.6411774, 41.63127394], \"lon\": [-72.7339675, -72.75955474], \"marker\": {\"size\": 10}, \"mode\": \"markers+lines\", \"name\": \"Route26\", \"text\": [\"Berlin (1)-26\", \"Kensington (1)-25\"], \"textposition\": \"top center\", \"type\": \"scattermapbox\"}, {\"lat\": [41.73184570000001, 41.6411774], \"lon\": [-72.73005133, -72.7339675], \"marker\": {\"size\": 10}, \"mode\": \"markers+lines\", \"name\": \"Route27\", \"text\": [\"West Hartford (7)-27\", \"Berlin (1)-26\"], \"textposition\": \"top center\", \"type\": \"scattermapbox\"}, {\"lat\": [41.75221948, 41.73184570000001], \"lon\": [-72.74340554, -72.73005133], \"marker\": {\"size\": 10}, \"mode\": \"markers+lines\", \"name\": \"Route28\", \"text\": [\"West Hartford (5)-28\", \"West Hartford (7)-27\"], \"textposition\": \"top center\", \"type\": \"scattermapbox\"}, {\"lat\": [41.75534058, 41.75221948], \"lon\": [-72.76649752, -72.74340554], \"marker\": {\"size\": 10}, \"mode\": \"markers+lines\", \"name\": \"Route29\", \"text\": [\"West Hartford (3)-29\", \"West Hartford (5)-28\"], \"textposition\": \"top center\", \"type\": \"scattermapbox\"}, {\"lat\": [41.78408508, 41.75534058], \"lon\": [-72.74790929, -72.76649752], \"marker\": {\"size\": 10}, \"mode\": \"markers+lines\", \"name\": \"Route30\", \"text\": [\"West Hartford (4)-30\", \"West Hartford (3)-29\"], \"textposition\": \"top center\", \"type\": \"scattermapbox\"}, {\"lat\": [41.78549258, 41.78408508], \"lon\": [-72.74611836, -72.74790929], \"marker\": {\"size\": 10}, \"mode\": \"markers+lines\", \"name\": \"Route31\", \"text\": [\"West Hartford (2)-31\", \"West Hartford (4)-30\"], \"textposition\": \"top center\", \"type\": \"scattermapbox\"}, {\"lat\": [41.76179605, 41.78549258], \"lon\": [-72.74407669, -72.74611836], \"marker\": {\"size\": 10}, \"mode\": \"markers+lines\", \"name\": \"Route32\", \"text\": [\"West Hartford (6)-32\", \"West Hartford (2)-31\"], \"textposition\": \"top center\", \"type\": \"scattermapbox\"}, {\"lat\": [41.76107505, 41.76179605], \"lon\": [-72.7161176, -72.74407669], \"marker\": {\"size\": 10}, \"mode\": \"markers+lines\", \"name\": \"Route33\", \"text\": [\"West Hartford (1)-33\", \"West Hartford (6)-32\"], \"textposition\": \"top center\", \"type\": \"scattermapbox\"}, {\"lat\": [41.76428989, 41.76107505], \"lon\": [-72.68249918, -72.7161176], \"marker\": {\"size\": 10}, \"mode\": \"markers+lines\", \"name\": \"Route34\", \"text\": [\"State Capitol-34\", \"West Hartford (1)-33\"], \"textposition\": \"top center\", \"type\": \"scattermapbox\"}],\n",
              "                        {\"mapbox\": {\"center\": {\"lat\": 41.26878471063158, \"lon\": -73.37656607409332}, \"style\": \"carto-darkmatter\", \"zoom\": 8.25}, \"margin\": {\"b\": 0, \"l\": 0, \"r\": 0, \"t\": 0}, \"template\": {\"data\": {\"bar\": [{\"error_x\": {\"color\": \"#2a3f5f\"}, \"error_y\": {\"color\": \"#2a3f5f\"}, \"marker\": {\"line\": {\"color\": \"#E5ECF6\", \"width\": 0.5}}, \"type\": \"bar\"}], \"barpolar\": [{\"marker\": {\"line\": {\"color\": \"#E5ECF6\", \"width\": 0.5}}, \"type\": \"barpolar\"}], \"carpet\": [{\"aaxis\": {\"endlinecolor\": \"#2a3f5f\", \"gridcolor\": \"white\", \"linecolor\": \"white\", \"minorgridcolor\": \"white\", \"startlinecolor\": \"#2a3f5f\"}, \"baxis\": {\"endlinecolor\": \"#2a3f5f\", \"gridcolor\": \"white\", \"linecolor\": \"white\", \"minorgridcolor\": \"white\", \"startlinecolor\": \"#2a3f5f\"}, \"type\": \"carpet\"}], \"choropleth\": [{\"colorbar\": {\"outlinewidth\": 0, \"ticks\": \"\"}, \"type\": \"choropleth\"}], \"contour\": [{\"colorbar\": {\"outlinewidth\": 0, \"ticks\": \"\"}, \"colorscale\": [[0.0, \"#0d0887\"], [0.1111111111111111, \"#46039f\"], [0.2222222222222222, \"#7201a8\"], [0.3333333333333333, \"#9c179e\"], [0.4444444444444444, \"#bd3786\"], [0.5555555555555556, \"#d8576b\"], [0.6666666666666666, \"#ed7953\"], [0.7777777777777778, \"#fb9f3a\"], [0.8888888888888888, \"#fdca26\"], [1.0, \"#f0f921\"]], \"type\": \"contour\"}], \"contourcarpet\": [{\"colorbar\": {\"outlinewidth\": 0, \"ticks\": \"\"}, \"type\": \"contourcarpet\"}], \"heatmap\": [{\"colorbar\": {\"outlinewidth\": 0, \"ticks\": \"\"}, \"colorscale\": [[0.0, \"#0d0887\"], [0.1111111111111111, \"#46039f\"], [0.2222222222222222, \"#7201a8\"], [0.3333333333333333, \"#9c179e\"], [0.4444444444444444, \"#bd3786\"], [0.5555555555555556, \"#d8576b\"], [0.6666666666666666, \"#ed7953\"], [0.7777777777777778, \"#fb9f3a\"], [0.8888888888888888, \"#fdca26\"], [1.0, \"#f0f921\"]], \"type\": \"heatmap\"}], \"heatmapgl\": [{\"colorbar\": {\"outlinewidth\": 0, \"ticks\": \"\"}, \"colorscale\": [[0.0, \"#0d0887\"], [0.1111111111111111, \"#46039f\"], [0.2222222222222222, \"#7201a8\"], [0.3333333333333333, \"#9c179e\"], [0.4444444444444444, \"#bd3786\"], [0.5555555555555556, \"#d8576b\"], [0.6666666666666666, \"#ed7953\"], [0.7777777777777778, \"#fb9f3a\"], [0.8888888888888888, \"#fdca26\"], [1.0, \"#f0f921\"]], \"type\": \"heatmapgl\"}], \"histogram\": [{\"marker\": {\"colorbar\": {\"outlinewidth\": 0, \"ticks\": \"\"}}, \"type\": \"histogram\"}], \"histogram2d\": [{\"colorbar\": {\"outlinewidth\": 0, \"ticks\": \"\"}, \"colorscale\": [[0.0, \"#0d0887\"], [0.1111111111111111, \"#46039f\"], [0.2222222222222222, \"#7201a8\"], [0.3333333333333333, \"#9c179e\"], [0.4444444444444444, \"#bd3786\"], [0.5555555555555556, \"#d8576b\"], [0.6666666666666666, \"#ed7953\"], [0.7777777777777778, \"#fb9f3a\"], [0.8888888888888888, \"#fdca26\"], [1.0, \"#f0f921\"]], \"type\": \"histogram2d\"}], \"histogram2dcontour\": [{\"colorbar\": {\"outlinewidth\": 0, \"ticks\": \"\"}, \"colorscale\": [[0.0, \"#0d0887\"], [0.1111111111111111, \"#46039f\"], [0.2222222222222222, \"#7201a8\"], [0.3333333333333333, \"#9c179e\"], [0.4444444444444444, \"#bd3786\"], [0.5555555555555556, \"#d8576b\"], [0.6666666666666666, \"#ed7953\"], [0.7777777777777778, \"#fb9f3a\"], [0.8888888888888888, \"#fdca26\"], [1.0, \"#f0f921\"]], \"type\": \"histogram2dcontour\"}], \"mesh3d\": [{\"colorbar\": {\"outlinewidth\": 0, \"ticks\": \"\"}, \"type\": \"mesh3d\"}], \"parcoords\": [{\"line\": {\"colorbar\": {\"outlinewidth\": 0, \"ticks\": \"\"}}, \"type\": \"parcoords\"}], \"pie\": [{\"automargin\": true, \"type\": \"pie\"}], \"scatter\": [{\"marker\": {\"colorbar\": {\"outlinewidth\": 0, \"ticks\": \"\"}}, \"type\": \"scatter\"}], \"scatter3d\": [{\"line\": {\"colorbar\": {\"outlinewidth\": 0, \"ticks\": \"\"}}, \"marker\": {\"colorbar\": {\"outlinewidth\": 0, \"ticks\": \"\"}}, \"type\": \"scatter3d\"}], \"scattercarpet\": [{\"marker\": {\"colorbar\": {\"outlinewidth\": 0, \"ticks\": \"\"}}, \"type\": \"scattercarpet\"}], \"scattergeo\": [{\"marker\": {\"colorbar\": {\"outlinewidth\": 0, \"ticks\": \"\"}}, \"type\": \"scattergeo\"}], \"scattergl\": [{\"marker\": {\"colorbar\": {\"outlinewidth\": 0, \"ticks\": \"\"}}, \"type\": \"scattergl\"}], \"scattermapbox\": [{\"marker\": {\"colorbar\": {\"outlinewidth\": 0, \"ticks\": \"\"}}, \"type\": \"scattermapbox\"}], \"scatterpolar\": [{\"marker\": {\"colorbar\": {\"outlinewidth\": 0, \"ticks\": \"\"}}, \"type\": \"scatterpolar\"}], \"scatterpolargl\": [{\"marker\": {\"colorbar\": {\"outlinewidth\": 0, \"ticks\": \"\"}}, \"type\": \"scatterpolargl\"}], \"scatterternary\": [{\"marker\": {\"colorbar\": {\"outlinewidth\": 0, \"ticks\": \"\"}}, \"type\": \"scatterternary\"}], \"surface\": [{\"colorbar\": {\"outlinewidth\": 0, \"ticks\": \"\"}, \"colorscale\": [[0.0, \"#0d0887\"], [0.1111111111111111, \"#46039f\"], [0.2222222222222222, \"#7201a8\"], [0.3333333333333333, \"#9c179e\"], [0.4444444444444444, \"#bd3786\"], [0.5555555555555556, \"#d8576b\"], [0.6666666666666666, \"#ed7953\"], [0.7777777777777778, \"#fb9f3a\"], [0.8888888888888888, \"#fdca26\"], [1.0, \"#f0f921\"]], \"type\": \"surface\"}], \"table\": [{\"cells\": {\"fill\": {\"color\": \"#EBF0F8\"}, \"line\": {\"color\": \"white\"}}, \"header\": {\"fill\": {\"color\": \"#C8D4E3\"}, \"line\": {\"color\": \"white\"}}, \"type\": \"table\"}]}, \"layout\": {\"annotationdefaults\": {\"arrowcolor\": \"#2a3f5f\", \"arrowhead\": 0, \"arrowwidth\": 1}, \"coloraxis\": {\"colorbar\": {\"outlinewidth\": 0, \"ticks\": \"\"}}, \"colorscale\": {\"diverging\": [[0, \"#8e0152\"], [0.1, \"#c51b7d\"], [0.2, \"#de77ae\"], [0.3, \"#f1b6da\"], [0.4, \"#fde0ef\"], [0.5, \"#f7f7f7\"], [0.6, \"#e6f5d0\"], [0.7, \"#b8e186\"], [0.8, \"#7fbc41\"], [0.9, \"#4d9221\"], [1, \"#276419\"]], \"sequential\": [[0.0, \"#0d0887\"], [0.1111111111111111, \"#46039f\"], [0.2222222222222222, \"#7201a8\"], [0.3333333333333333, \"#9c179e\"], [0.4444444444444444, \"#bd3786\"], [0.5555555555555556, \"#d8576b\"], [0.6666666666666666, \"#ed7953\"], [0.7777777777777778, \"#fb9f3a\"], [0.8888888888888888, \"#fdca26\"], [1.0, \"#f0f921\"]], \"sequentialminus\": [[0.0, \"#0d0887\"], [0.1111111111111111, \"#46039f\"], [0.2222222222222222, \"#7201a8\"], [0.3333333333333333, \"#9c179e\"], [0.4444444444444444, \"#bd3786\"], [0.5555555555555556, \"#d8576b\"], [0.6666666666666666, \"#ed7953\"], [0.7777777777777778, \"#fb9f3a\"], [0.8888888888888888, \"#fdca26\"], [1.0, \"#f0f921\"]]}, \"colorway\": [\"#636efa\", \"#EF553B\", \"#00cc96\", \"#ab63fa\", \"#FFA15A\", \"#19d3f3\", \"#FF6692\", \"#B6E880\", \"#FF97FF\", \"#FECB52\"], \"font\": {\"color\": \"#2a3f5f\"}, \"geo\": {\"bgcolor\": \"white\", \"lakecolor\": \"white\", \"landcolor\": \"#E5ECF6\", \"showlakes\": true, \"showland\": true, \"subunitcolor\": \"white\"}, \"hoverlabel\": {\"align\": \"left\"}, \"hovermode\": \"closest\", \"mapbox\": {\"style\": \"light\"}, \"paper_bgcolor\": \"white\", \"plot_bgcolor\": \"#E5ECF6\", \"polar\": {\"angularaxis\": {\"gridcolor\": \"white\", \"linecolor\": \"white\", \"ticks\": \"\"}, \"bgcolor\": \"#E5ECF6\", \"radialaxis\": {\"gridcolor\": \"white\", \"linecolor\": \"white\", \"ticks\": \"\"}}, \"scene\": {\"xaxis\": {\"backgroundcolor\": \"#E5ECF6\", \"gridcolor\": \"white\", \"gridwidth\": 2, \"linecolor\": \"white\", \"showbackground\": true, \"ticks\": \"\", \"zerolinecolor\": \"white\"}, \"yaxis\": {\"backgroundcolor\": \"#E5ECF6\", \"gridcolor\": \"white\", \"gridwidth\": 2, \"linecolor\": \"white\", \"showbackground\": true, \"ticks\": \"\", \"zerolinecolor\": \"white\"}, \"zaxis\": {\"backgroundcolor\": \"#E5ECF6\", \"gridcolor\": \"white\", \"gridwidth\": 2, \"linecolor\": \"white\", \"showbackground\": true, \"ticks\": \"\", \"zerolinecolor\": \"white\"}}, \"shapedefaults\": {\"line\": {\"color\": \"#2a3f5f\"}}, \"ternary\": {\"aaxis\": {\"gridcolor\": \"white\", \"linecolor\": \"white\", \"ticks\": \"\"}, \"baxis\": {\"gridcolor\": \"white\", \"linecolor\": \"white\", \"ticks\": \"\"}, \"bgcolor\": \"#E5ECF6\", \"caxis\": {\"gridcolor\": \"white\", \"linecolor\": \"white\", \"ticks\": \"\"}}, \"title\": {\"x\": 0.05}, \"xaxis\": {\"automargin\": true, \"gridcolor\": \"white\", \"linecolor\": \"white\", \"ticks\": \"\", \"title\": {\"standoff\": 15}, \"zerolinecolor\": \"white\", \"zerolinewidth\": 2}, \"yaxis\": {\"automargin\": true, \"gridcolor\": \"white\", \"linecolor\": \"white\", \"ticks\": \"\", \"title\": {\"standoff\": 15}, \"zerolinecolor\": \"white\", \"zerolinewidth\": 2}}}, \"title\": {\"text\": \"TRAVELING SALESMAN ROUTE\"}},\n",
              "                        {\"scrollZoom\": false, \"responsive\": true}\n",
              "                    ).then(function(){\n",
              "                            \n",
              "var gd = document.getElementById('2f979332-db15-429d-afa8-019b5b3c02ac');\n",
              "var x = new MutationObserver(function (mutations, observer) {{\n",
              "        var display = window.getComputedStyle(gd).display;\n",
              "        if (!display || display === 'none') {{\n",
              "            console.log([gd, 'removed!']);\n",
              "            Plotly.purge(gd);\n",
              "            observer.disconnect();\n",
              "        }}\n",
              "}});\n",
              "\n",
              "// Listen for the removal of the full notebook cells\n",
              "var notebookContainer = gd.closest('#notebook-container');\n",
              "if (notebookContainer) {{\n",
              "    x.observe(notebookContainer, {childList: true});\n",
              "}}\n",
              "\n",
              "// Listen for the clearing of the current output cell\n",
              "var outputEl = gd.closest('.output');\n",
              "if (outputEl) {{\n",
              "    x.observe(outputEl, {childList: true});\n",
              "}}\n",
              "\n",
              "                        })\n",
              "                };\n",
              "                \n",
              "            </script>\n",
              "        </div>\n",
              "</body>\n",
              "</html>"
            ]
          },
          "metadata": {
            "tags": []
          }
        },
        {
          "output_type": "stream",
          "text": [
            "time: 341 ms (started: 2021-04-28 10:41:27 +00:00)\n"
          ],
          "name": "stdout"
        }
      ]
    },
    {
      "cell_type": "markdown",
      "metadata": {
        "id": "_uO97w8mJmYY"
      },
      "source": [
        "#### Animated Solution"
      ]
    },
    {
      "cell_type": "code",
      "metadata": {
        "colab": {
          "base_uri": "https://localhost:8080/",
          "height": 559
        },
        "id": "MDSlC1xcJmYY",
        "outputId": "8ee022fd-2aac-4ca2-d046-4aaa19b6df73"
      },
      "source": [
        "fig = go.Figure(go.Scattermapbox(\n",
        "    mode = \"markers+lines\",\n",
        "    lon = geogTable_orig3['Lon'], #longitude\n",
        "    lat = geogTable_orig3['Lat'], #latitude\n",
        "    name=\"Traveling Salesman\",\n",
        "    hovertext=geogTable_orig3['Town'], #town name\n",
        "    marker = {'size': 10}),\n",
        "    layout=go.Layout(\n",
        "        hovermode=\"closest\",\n",
        "        updatemenus=[dict(type=\"buttons\",\n",
        "                          buttons=[dict(label=\"Play\",\n",
        "                                        method=\"animate\",\n",
        "                                        args=[None])])]),\n",
        "        frames=[go.Frame(\n",
        "        data=[go.Scattermapbox(\n",
        "            lon=[geogTable_orig3.iloc[k,1]],\n",
        "            lat=[geogTable_orig3.iloc[k,2]],\n",
        "            mode=\"markers\",\n",
        "            marker=dict(color=\"red\", size=10))])\n",
        "\n",
        "        for k in range(len(geogTable_orig3))]\n",
        ")\n",
        "fig.add_trace(go.Scattermapbox(\n",
        "    mode = \"markers+lines\",\n",
        "    lon = geogTable_orig3['Lon'], #longitude\n",
        "    lat = geogTable_orig3['Lat'], #latitude\n",
        "    name=\"Main Route\",\n",
        "    hovertext=geogTable_orig3['Town'], #town name\n",
        "    marker=dict(color=\"blue\", size=5)))\n",
        "\n",
        "\n",
        "fig.update_layout(mapbox_style=\"carto-darkmatter\", mapbox_zoom=8.25, mapbox_center_lat = 41.26878471063158,mapbox_center_lon = -73.37656607409332,\n",
        "    margin={\"r\":0,\"t\":0,\"l\":0,\"b\":0},title=\"TRAVELING SALESMAN ROUTE\")\n",
        "config = dict({'scrollZoom': False})\n",
        "fig.show(config=config)"
      ],
      "execution_count": null,
      "outputs": [
        {
          "output_type": "display_data",
          "data": {
            "text/html": [
              "<html>\n",
              "<head><meta charset=\"utf-8\" /></head>\n",
              "<body>\n",
              "    <div>\n",
              "            <script src=\"https://cdnjs.cloudflare.com/ajax/libs/mathjax/2.7.5/MathJax.js?config=TeX-AMS-MML_SVG\"></script><script type=\"text/javascript\">if (window.MathJax) {MathJax.Hub.Config({SVG: {font: \"STIX-Web\"}});}</script>\n",
              "                <script type=\"text/javascript\">window.PlotlyConfig = {MathJaxConfig: 'local'};</script>\n",
              "        <script src=\"https://cdn.plot.ly/plotly-latest.min.js\"></script>    \n",
              "            <div id=\"0b8279fe-3914-453b-8b4e-c46af059abd8\" class=\"plotly-graph-div\" style=\"height:525px; width:100%;\"></div>\n",
              "            <script type=\"text/javascript\">\n",
              "                \n",
              "                    window.PLOTLYENV=window.PLOTLYENV || {};\n",
              "                    \n",
              "                if (document.getElementById(\"0b8279fe-3914-453b-8b4e-c46af059abd8\")) {\n",
              "                    Plotly.newPlot(\n",
              "                        '0b8279fe-3914-453b-8b4e-c46af059abd8',\n",
              "                        [{\"hovertext\": [\"State Capitol\", \"Glastonbury (1)\", \"Glastonbury (2)\", \"Rockville (1)\", \"Hebron (1)\", \"Clinton (1)\", \"New Haven (1)\", \"Hamden (2)\", \"Hamden (1)\", \"New Haven (2)\", \"New Haven (3)\", \"Monroe (1)\", \"Ridgefield (1)\", \"Wilton (1)\", \"Darien (1)\", \"Old Greenwich (1)\", \"New Canaan (1)\", \"Ridgefield (2)\", \"Brookfield (1)\", \"Prospect (1)\", \"Bristol (1)\", \"Bristol (3)\", \"Bristol (2)\", \"Canton (1)\", \"Farmington (1)\", \"Kensington (1)\", \"Berlin (1)\", \"West Hartford (7)\", \"West Hartford (5)\", \"West Hartford (3)\", \"West Hartford (4)\", \"West Hartford (2)\", \"West Hartford (6)\", \"West Hartford (1)\", \"State Capitol\"], \"lat\": [41.76428989, 41.71547718, 41.70537939, 41.86825418, 41.66027971, 41.27901446, 41.3062916, 41.36752697, 41.34743906, 41.31618834, 41.32921973, 41.31734643, 41.26745001, 41.19402578, 41.0764284, 41.0311029, 41.14637858, 41.28302995, 41.435008399999994, 41.50784652, 41.68178191, 41.66730216, 41.69371913, 41.8250066, 41.70481927, 41.63127394, 41.6411774, 41.73184570000001, 41.75221948, 41.75534058, 41.78408508, 41.78549258, 41.76179605, 41.76107505, 41.76428989], \"lon\": [-72.68249918, -72.61145523, -72.59393854, -72.46719814, -72.35594026, -72.52846212, -72.92531516, -72.91972719, -72.93297940000001, -72.93952687, -72.96839324, -73.21633832, -73.4436939, -73.43174133, -73.4704302, -73.56793309999999, -73.49516904, -73.49989899, -73.41505, -72.9802223, -72.94619109, -72.92310666, -72.91589206, -72.8854906, -72.84400274, -72.75955474, -72.7339675, -72.73005133, -72.74340554, -72.76649752, -72.74790929, -72.74611836, -72.74407669, -72.7161176, -72.68249918], \"marker\": {\"size\": 10}, \"mode\": \"markers+lines\", \"name\": \"Traveling Salesman\", \"type\": \"scattermapbox\"}, {\"hovertext\": [\"State Capitol\", \"Glastonbury (1)\", \"Glastonbury (2)\", \"Rockville (1)\", \"Hebron (1)\", \"Clinton (1)\", \"New Haven (1)\", \"Hamden (2)\", \"Hamden (1)\", \"New Haven (2)\", \"New Haven (3)\", \"Monroe (1)\", \"Ridgefield (1)\", \"Wilton (1)\", \"Darien (1)\", \"Old Greenwich (1)\", \"New Canaan (1)\", \"Ridgefield (2)\", \"Brookfield (1)\", \"Prospect (1)\", \"Bristol (1)\", \"Bristol (3)\", \"Bristol (2)\", \"Canton (1)\", \"Farmington (1)\", \"Kensington (1)\", \"Berlin (1)\", \"West Hartford (7)\", \"West Hartford (5)\", \"West Hartford (3)\", \"West Hartford (4)\", \"West Hartford (2)\", \"West Hartford (6)\", \"West Hartford (1)\", \"State Capitol\"], \"lat\": [41.76428989, 41.71547718, 41.70537939, 41.86825418, 41.66027971, 41.27901446, 41.3062916, 41.36752697, 41.34743906, 41.31618834, 41.32921973, 41.31734643, 41.26745001, 41.19402578, 41.0764284, 41.0311029, 41.14637858, 41.28302995, 41.435008399999994, 41.50784652, 41.68178191, 41.66730216, 41.69371913, 41.8250066, 41.70481927, 41.63127394, 41.6411774, 41.73184570000001, 41.75221948, 41.75534058, 41.78408508, 41.78549258, 41.76179605, 41.76107505, 41.76428989], \"lon\": [-72.68249918, -72.61145523, -72.59393854, -72.46719814, -72.35594026, -72.52846212, -72.92531516, -72.91972719, -72.93297940000001, -72.93952687, -72.96839324, -73.21633832, -73.4436939, -73.43174133, -73.4704302, -73.56793309999999, -73.49516904, -73.49989899, -73.41505, -72.9802223, -72.94619109, -72.92310666, -72.91589206, -72.8854906, -72.84400274, -72.75955474, -72.7339675, -72.73005133, -72.74340554, -72.76649752, -72.74790929, -72.74611836, -72.74407669, -72.7161176, -72.68249918], \"marker\": {\"color\": \"blue\", \"size\": 5}, \"mode\": \"markers+lines\", \"name\": \"Main Route\", \"type\": \"scattermapbox\"}],\n",
              "                        {\"hovermode\": \"closest\", \"mapbox\": {\"center\": {\"lat\": 41.26878471063158, \"lon\": -73.37656607409332}, \"style\": \"carto-darkmatter\", \"zoom\": 8.25}, \"margin\": {\"b\": 0, \"l\": 0, \"r\": 0, \"t\": 0}, \"template\": {\"data\": {\"bar\": [{\"error_x\": {\"color\": \"#2a3f5f\"}, \"error_y\": {\"color\": \"#2a3f5f\"}, \"marker\": {\"line\": {\"color\": \"#E5ECF6\", \"width\": 0.5}}, \"type\": \"bar\"}], \"barpolar\": [{\"marker\": {\"line\": {\"color\": \"#E5ECF6\", \"width\": 0.5}}, \"type\": \"barpolar\"}], \"carpet\": [{\"aaxis\": {\"endlinecolor\": \"#2a3f5f\", \"gridcolor\": \"white\", \"linecolor\": \"white\", \"minorgridcolor\": \"white\", \"startlinecolor\": \"#2a3f5f\"}, \"baxis\": {\"endlinecolor\": \"#2a3f5f\", \"gridcolor\": \"white\", \"linecolor\": \"white\", \"minorgridcolor\": \"white\", \"startlinecolor\": \"#2a3f5f\"}, \"type\": \"carpet\"}], \"choropleth\": [{\"colorbar\": {\"outlinewidth\": 0, \"ticks\": \"\"}, \"type\": \"choropleth\"}], \"contour\": [{\"colorbar\": {\"outlinewidth\": 0, \"ticks\": \"\"}, \"colorscale\": [[0.0, \"#0d0887\"], [0.1111111111111111, \"#46039f\"], [0.2222222222222222, \"#7201a8\"], [0.3333333333333333, \"#9c179e\"], [0.4444444444444444, \"#bd3786\"], [0.5555555555555556, \"#d8576b\"], [0.6666666666666666, \"#ed7953\"], [0.7777777777777778, \"#fb9f3a\"], [0.8888888888888888, \"#fdca26\"], [1.0, \"#f0f921\"]], \"type\": \"contour\"}], \"contourcarpet\": [{\"colorbar\": {\"outlinewidth\": 0, \"ticks\": \"\"}, \"type\": \"contourcarpet\"}], \"heatmap\": [{\"colorbar\": {\"outlinewidth\": 0, \"ticks\": \"\"}, \"colorscale\": [[0.0, \"#0d0887\"], [0.1111111111111111, \"#46039f\"], [0.2222222222222222, \"#7201a8\"], [0.3333333333333333, \"#9c179e\"], [0.4444444444444444, \"#bd3786\"], [0.5555555555555556, \"#d8576b\"], [0.6666666666666666, \"#ed7953\"], [0.7777777777777778, \"#fb9f3a\"], [0.8888888888888888, \"#fdca26\"], [1.0, \"#f0f921\"]], \"type\": \"heatmap\"}], \"heatmapgl\": [{\"colorbar\": {\"outlinewidth\": 0, \"ticks\": \"\"}, \"colorscale\": [[0.0, \"#0d0887\"], [0.1111111111111111, \"#46039f\"], [0.2222222222222222, \"#7201a8\"], [0.3333333333333333, \"#9c179e\"], [0.4444444444444444, \"#bd3786\"], [0.5555555555555556, \"#d8576b\"], [0.6666666666666666, \"#ed7953\"], [0.7777777777777778, \"#fb9f3a\"], [0.8888888888888888, \"#fdca26\"], [1.0, \"#f0f921\"]], \"type\": \"heatmapgl\"}], \"histogram\": [{\"marker\": {\"colorbar\": {\"outlinewidth\": 0, \"ticks\": \"\"}}, \"type\": \"histogram\"}], \"histogram2d\": [{\"colorbar\": {\"outlinewidth\": 0, \"ticks\": \"\"}, \"colorscale\": [[0.0, \"#0d0887\"], [0.1111111111111111, \"#46039f\"], [0.2222222222222222, \"#7201a8\"], [0.3333333333333333, \"#9c179e\"], [0.4444444444444444, \"#bd3786\"], [0.5555555555555556, \"#d8576b\"], [0.6666666666666666, \"#ed7953\"], [0.7777777777777778, \"#fb9f3a\"], [0.8888888888888888, \"#fdca26\"], [1.0, \"#f0f921\"]], \"type\": \"histogram2d\"}], \"histogram2dcontour\": [{\"colorbar\": {\"outlinewidth\": 0, \"ticks\": \"\"}, \"colorscale\": [[0.0, \"#0d0887\"], [0.1111111111111111, \"#46039f\"], [0.2222222222222222, \"#7201a8\"], [0.3333333333333333, \"#9c179e\"], [0.4444444444444444, \"#bd3786\"], [0.5555555555555556, \"#d8576b\"], [0.6666666666666666, \"#ed7953\"], [0.7777777777777778, \"#fb9f3a\"], [0.8888888888888888, \"#fdca26\"], [1.0, \"#f0f921\"]], \"type\": \"histogram2dcontour\"}], \"mesh3d\": [{\"colorbar\": {\"outlinewidth\": 0, \"ticks\": \"\"}, \"type\": \"mesh3d\"}], \"parcoords\": [{\"line\": {\"colorbar\": {\"outlinewidth\": 0, \"ticks\": \"\"}}, \"type\": \"parcoords\"}], \"pie\": [{\"automargin\": true, \"type\": \"pie\"}], \"scatter\": [{\"marker\": {\"colorbar\": {\"outlinewidth\": 0, \"ticks\": \"\"}}, \"type\": \"scatter\"}], \"scatter3d\": [{\"line\": {\"colorbar\": {\"outlinewidth\": 0, \"ticks\": \"\"}}, \"marker\": {\"colorbar\": {\"outlinewidth\": 0, \"ticks\": \"\"}}, \"type\": \"scatter3d\"}], \"scattercarpet\": [{\"marker\": {\"colorbar\": {\"outlinewidth\": 0, \"ticks\": \"\"}}, \"type\": \"scattercarpet\"}], \"scattergeo\": [{\"marker\": {\"colorbar\": {\"outlinewidth\": 0, \"ticks\": \"\"}}, \"type\": \"scattergeo\"}], \"scattergl\": [{\"marker\": {\"colorbar\": {\"outlinewidth\": 0, \"ticks\": \"\"}}, \"type\": \"scattergl\"}], \"scattermapbox\": [{\"marker\": {\"colorbar\": {\"outlinewidth\": 0, \"ticks\": \"\"}}, \"type\": \"scattermapbox\"}], \"scatterpolar\": [{\"marker\": {\"colorbar\": {\"outlinewidth\": 0, \"ticks\": \"\"}}, \"type\": \"scatterpolar\"}], \"scatterpolargl\": [{\"marker\": {\"colorbar\": {\"outlinewidth\": 0, \"ticks\": \"\"}}, \"type\": \"scatterpolargl\"}], \"scatterternary\": [{\"marker\": {\"colorbar\": {\"outlinewidth\": 0, \"ticks\": \"\"}}, \"type\": \"scatterternary\"}], \"surface\": [{\"colorbar\": {\"outlinewidth\": 0, \"ticks\": \"\"}, \"colorscale\": [[0.0, \"#0d0887\"], [0.1111111111111111, \"#46039f\"], [0.2222222222222222, \"#7201a8\"], [0.3333333333333333, \"#9c179e\"], [0.4444444444444444, \"#bd3786\"], [0.5555555555555556, \"#d8576b\"], [0.6666666666666666, \"#ed7953\"], [0.7777777777777778, \"#fb9f3a\"], [0.8888888888888888, \"#fdca26\"], [1.0, \"#f0f921\"]], \"type\": \"surface\"}], \"table\": [{\"cells\": {\"fill\": {\"color\": \"#EBF0F8\"}, \"line\": {\"color\": \"white\"}}, \"header\": {\"fill\": {\"color\": \"#C8D4E3\"}, \"line\": {\"color\": \"white\"}}, \"type\": \"table\"}]}, \"layout\": {\"annotationdefaults\": {\"arrowcolor\": \"#2a3f5f\", \"arrowhead\": 0, \"arrowwidth\": 1}, \"coloraxis\": {\"colorbar\": {\"outlinewidth\": 0, \"ticks\": \"\"}}, \"colorscale\": {\"diverging\": [[0, \"#8e0152\"], [0.1, \"#c51b7d\"], [0.2, \"#de77ae\"], [0.3, \"#f1b6da\"], [0.4, \"#fde0ef\"], [0.5, \"#f7f7f7\"], [0.6, \"#e6f5d0\"], [0.7, \"#b8e186\"], [0.8, \"#7fbc41\"], [0.9, \"#4d9221\"], [1, \"#276419\"]], \"sequential\": [[0.0, \"#0d0887\"], [0.1111111111111111, \"#46039f\"], [0.2222222222222222, \"#7201a8\"], [0.3333333333333333, \"#9c179e\"], [0.4444444444444444, \"#bd3786\"], [0.5555555555555556, \"#d8576b\"], [0.6666666666666666, \"#ed7953\"], [0.7777777777777778, \"#fb9f3a\"], [0.8888888888888888, \"#fdca26\"], [1.0, \"#f0f921\"]], \"sequentialminus\": [[0.0, \"#0d0887\"], [0.1111111111111111, \"#46039f\"], [0.2222222222222222, \"#7201a8\"], [0.3333333333333333, \"#9c179e\"], [0.4444444444444444, \"#bd3786\"], [0.5555555555555556, \"#d8576b\"], [0.6666666666666666, \"#ed7953\"], [0.7777777777777778, \"#fb9f3a\"], [0.8888888888888888, \"#fdca26\"], [1.0, \"#f0f921\"]]}, \"colorway\": [\"#636efa\", \"#EF553B\", \"#00cc96\", \"#ab63fa\", \"#FFA15A\", \"#19d3f3\", \"#FF6692\", \"#B6E880\", \"#FF97FF\", \"#FECB52\"], \"font\": {\"color\": \"#2a3f5f\"}, \"geo\": {\"bgcolor\": \"white\", \"lakecolor\": \"white\", \"landcolor\": \"#E5ECF6\", \"showlakes\": true, \"showland\": true, \"subunitcolor\": \"white\"}, \"hoverlabel\": {\"align\": \"left\"}, \"hovermode\": \"closest\", \"mapbox\": {\"style\": \"light\"}, \"paper_bgcolor\": \"white\", \"plot_bgcolor\": \"#E5ECF6\", \"polar\": {\"angularaxis\": {\"gridcolor\": \"white\", \"linecolor\": \"white\", \"ticks\": \"\"}, \"bgcolor\": \"#E5ECF6\", \"radialaxis\": {\"gridcolor\": \"white\", \"linecolor\": \"white\", \"ticks\": \"\"}}, \"scene\": {\"xaxis\": {\"backgroundcolor\": \"#E5ECF6\", \"gridcolor\": \"white\", \"gridwidth\": 2, \"linecolor\": \"white\", \"showbackground\": true, \"ticks\": \"\", \"zerolinecolor\": \"white\"}, \"yaxis\": {\"backgroundcolor\": \"#E5ECF6\", \"gridcolor\": \"white\", \"gridwidth\": 2, \"linecolor\": \"white\", \"showbackground\": true, \"ticks\": \"\", \"zerolinecolor\": \"white\"}, \"zaxis\": {\"backgroundcolor\": \"#E5ECF6\", \"gridcolor\": \"white\", \"gridwidth\": 2, \"linecolor\": \"white\", \"showbackground\": true, \"ticks\": \"\", \"zerolinecolor\": \"white\"}}, \"shapedefaults\": {\"line\": {\"color\": \"#2a3f5f\"}}, \"ternary\": {\"aaxis\": {\"gridcolor\": \"white\", \"linecolor\": \"white\", \"ticks\": \"\"}, \"baxis\": {\"gridcolor\": \"white\", \"linecolor\": \"white\", \"ticks\": \"\"}, \"bgcolor\": \"#E5ECF6\", \"caxis\": {\"gridcolor\": \"white\", \"linecolor\": \"white\", \"ticks\": \"\"}}, \"title\": {\"x\": 0.05}, \"xaxis\": {\"automargin\": true, \"gridcolor\": \"white\", \"linecolor\": \"white\", \"ticks\": \"\", \"title\": {\"standoff\": 15}, \"zerolinecolor\": \"white\", \"zerolinewidth\": 2}, \"yaxis\": {\"automargin\": true, \"gridcolor\": \"white\", \"linecolor\": \"white\", \"ticks\": \"\", \"title\": {\"standoff\": 15}, \"zerolinecolor\": \"white\", \"zerolinewidth\": 2}}}, \"title\": {\"text\": \"TRAVELING SALESMAN ROUTE\"}, \"updatemenus\": [{\"buttons\": [{\"args\": [null], \"label\": \"Play\", \"method\": \"animate\"}], \"type\": \"buttons\"}]},\n",
              "                        {\"scrollZoom\": false, \"responsive\": true}\n",
              "                    ).then(function(){\n",
              "                            Plotly.addFrames('0b8279fe-3914-453b-8b4e-c46af059abd8', [{\"data\": [{\"lat\": [41.76428989], \"lon\": [-72.68249918], \"marker\": {\"color\": \"red\", \"size\": 10}, \"mode\": \"markers\", \"type\": \"scattermapbox\"}]}, {\"data\": [{\"lat\": [41.71547718], \"lon\": [-72.61145523], \"marker\": {\"color\": \"red\", \"size\": 10}, \"mode\": \"markers\", \"type\": \"scattermapbox\"}]}, {\"data\": [{\"lat\": [41.70537939], \"lon\": [-72.59393854], \"marker\": {\"color\": \"red\", \"size\": 10}, \"mode\": \"markers\", \"type\": \"scattermapbox\"}]}, {\"data\": [{\"lat\": [41.86825418], \"lon\": [-72.46719814], \"marker\": {\"color\": \"red\", \"size\": 10}, \"mode\": \"markers\", \"type\": \"scattermapbox\"}]}, {\"data\": [{\"lat\": [41.66027971], \"lon\": [-72.35594026], \"marker\": {\"color\": \"red\", \"size\": 10}, \"mode\": \"markers\", \"type\": \"scattermapbox\"}]}, {\"data\": [{\"lat\": [41.27901446], \"lon\": [-72.52846212], \"marker\": {\"color\": \"red\", \"size\": 10}, \"mode\": \"markers\", \"type\": \"scattermapbox\"}]}, {\"data\": [{\"lat\": [41.3062916], \"lon\": [-72.92531516], \"marker\": {\"color\": \"red\", \"size\": 10}, \"mode\": \"markers\", \"type\": \"scattermapbox\"}]}, {\"data\": [{\"lat\": [41.36752697], \"lon\": [-72.91972719], \"marker\": {\"color\": \"red\", \"size\": 10}, \"mode\": \"markers\", \"type\": \"scattermapbox\"}]}, {\"data\": [{\"lat\": [41.34743906], \"lon\": [-72.93297940000001], \"marker\": {\"color\": \"red\", \"size\": 10}, \"mode\": \"markers\", \"type\": \"scattermapbox\"}]}, {\"data\": [{\"lat\": [41.31618834], \"lon\": [-72.93952687], \"marker\": {\"color\": \"red\", \"size\": 10}, \"mode\": \"markers\", \"type\": \"scattermapbox\"}]}, {\"data\": [{\"lat\": [41.32921973], \"lon\": [-72.96839324], \"marker\": {\"color\": \"red\", \"size\": 10}, \"mode\": \"markers\", \"type\": \"scattermapbox\"}]}, {\"data\": [{\"lat\": [41.31734643], \"lon\": [-73.21633832], \"marker\": {\"color\": \"red\", \"size\": 10}, \"mode\": \"markers\", \"type\": \"scattermapbox\"}]}, {\"data\": [{\"lat\": [41.26745001], \"lon\": [-73.4436939], \"marker\": {\"color\": \"red\", \"size\": 10}, \"mode\": \"markers\", \"type\": \"scattermapbox\"}]}, {\"data\": [{\"lat\": [41.19402578], \"lon\": [-73.43174133], \"marker\": {\"color\": \"red\", \"size\": 10}, \"mode\": \"markers\", \"type\": \"scattermapbox\"}]}, {\"data\": [{\"lat\": [41.0764284], \"lon\": [-73.4704302], \"marker\": {\"color\": \"red\", \"size\": 10}, \"mode\": \"markers\", \"type\": \"scattermapbox\"}]}, {\"data\": [{\"lat\": [41.0311029], \"lon\": [-73.56793309999999], \"marker\": {\"color\": \"red\", \"size\": 10}, \"mode\": \"markers\", \"type\": \"scattermapbox\"}]}, {\"data\": [{\"lat\": [41.14637858], \"lon\": [-73.49516904], \"marker\": {\"color\": \"red\", \"size\": 10}, \"mode\": \"markers\", \"type\": \"scattermapbox\"}]}, {\"data\": [{\"lat\": [41.28302995], \"lon\": [-73.49989899], \"marker\": {\"color\": \"red\", \"size\": 10}, \"mode\": \"markers\", \"type\": \"scattermapbox\"}]}, {\"data\": [{\"lat\": [41.435008399999994], \"lon\": [-73.41505], \"marker\": {\"color\": \"red\", \"size\": 10}, \"mode\": \"markers\", \"type\": \"scattermapbox\"}]}, {\"data\": [{\"lat\": [41.50784652], \"lon\": [-72.9802223], \"marker\": {\"color\": \"red\", \"size\": 10}, \"mode\": \"markers\", \"type\": \"scattermapbox\"}]}, {\"data\": [{\"lat\": [41.68178191], \"lon\": [-72.94619109], \"marker\": {\"color\": \"red\", \"size\": 10}, \"mode\": \"markers\", \"type\": \"scattermapbox\"}]}, {\"data\": [{\"lat\": [41.66730216], \"lon\": [-72.92310666], \"marker\": {\"color\": \"red\", \"size\": 10}, \"mode\": \"markers\", \"type\": \"scattermapbox\"}]}, {\"data\": [{\"lat\": [41.69371913], \"lon\": [-72.91589206], \"marker\": {\"color\": \"red\", \"size\": 10}, \"mode\": \"markers\", \"type\": \"scattermapbox\"}]}, {\"data\": [{\"lat\": [41.8250066], \"lon\": [-72.8854906], \"marker\": {\"color\": \"red\", \"size\": 10}, \"mode\": \"markers\", \"type\": \"scattermapbox\"}]}, {\"data\": [{\"lat\": [41.70481927], \"lon\": [-72.84400274], \"marker\": {\"color\": \"red\", \"size\": 10}, \"mode\": \"markers\", \"type\": \"scattermapbox\"}]}, {\"data\": [{\"lat\": [41.63127394], \"lon\": [-72.75955474], \"marker\": {\"color\": \"red\", \"size\": 10}, \"mode\": \"markers\", \"type\": \"scattermapbox\"}]}, {\"data\": [{\"lat\": [41.6411774], \"lon\": [-72.7339675], \"marker\": {\"color\": \"red\", \"size\": 10}, \"mode\": \"markers\", \"type\": \"scattermapbox\"}]}, {\"data\": [{\"lat\": [41.73184570000001], \"lon\": [-72.73005133], \"marker\": {\"color\": \"red\", \"size\": 10}, \"mode\": \"markers\", \"type\": \"scattermapbox\"}]}, {\"data\": [{\"lat\": [41.75221948], \"lon\": [-72.74340554], \"marker\": {\"color\": \"red\", \"size\": 10}, \"mode\": \"markers\", \"type\": \"scattermapbox\"}]}, {\"data\": [{\"lat\": [41.75534058], \"lon\": [-72.76649752], \"marker\": {\"color\": \"red\", \"size\": 10}, \"mode\": \"markers\", \"type\": \"scattermapbox\"}]}, {\"data\": [{\"lat\": [41.78408508], \"lon\": [-72.74790929], \"marker\": {\"color\": \"red\", \"size\": 10}, \"mode\": \"markers\", \"type\": \"scattermapbox\"}]}, {\"data\": [{\"lat\": [41.78549258], \"lon\": [-72.74611836], \"marker\": {\"color\": \"red\", \"size\": 10}, \"mode\": \"markers\", \"type\": \"scattermapbox\"}]}, {\"data\": [{\"lat\": [41.76179605], \"lon\": [-72.74407669], \"marker\": {\"color\": \"red\", \"size\": 10}, \"mode\": \"markers\", \"type\": \"scattermapbox\"}]}, {\"data\": [{\"lat\": [41.76107505], \"lon\": [-72.7161176], \"marker\": {\"color\": \"red\", \"size\": 10}, \"mode\": \"markers\", \"type\": \"scattermapbox\"}]}, {\"data\": [{\"lat\": [41.76428989], \"lon\": [-72.68249918], \"marker\": {\"color\": \"red\", \"size\": 10}, \"mode\": \"markers\", \"type\": \"scattermapbox\"}]}]);\n",
              "                        }).then(function(){\n",
              "                            \n",
              "var gd = document.getElementById('0b8279fe-3914-453b-8b4e-c46af059abd8');\n",
              "var x = new MutationObserver(function (mutations, observer) {{\n",
              "        var display = window.getComputedStyle(gd).display;\n",
              "        if (!display || display === 'none') {{\n",
              "            console.log([gd, 'removed!']);\n",
              "            Plotly.purge(gd);\n",
              "            observer.disconnect();\n",
              "        }}\n",
              "}});\n",
              "\n",
              "// Listen for the removal of the full notebook cells\n",
              "var notebookContainer = gd.closest('#notebook-container');\n",
              "if (notebookContainer) {{\n",
              "    x.observe(notebookContainer, {childList: true});\n",
              "}}\n",
              "\n",
              "// Listen for the clearing of the current output cell\n",
              "var outputEl = gd.closest('.output');\n",
              "if (outputEl) {{\n",
              "    x.observe(outputEl, {childList: true});\n",
              "}}\n",
              "\n",
              "                        })\n",
              "                };\n",
              "                \n",
              "            </script>\n",
              "        </div>\n",
              "</body>\n",
              "</html>"
            ]
          },
          "metadata": {
            "tags": []
          }
        },
        {
          "output_type": "stream",
          "text": [
            "time: 2.85 s (started: 2021-04-28 10:41:49 +00:00)\n"
          ],
          "name": "stdout"
        }
      ]
    },
    {
      "cell_type": "code",
      "metadata": {
        "colab": {
          "base_uri": "https://localhost:8080/"
        },
        "id": "E3_FUYmJJmYZ",
        "outputId": "ec0fd7a7-3cc8-4e84-c9dc-f7943706caf7"
      },
      "source": [
        "# Since the path is still the same, the minimum distance remains unchanged.\n",
        "print('Minimum distance: {} km'.format(solution.ObjectiveValue())) #Minimum distance covered (or) Minimum Cost= 31868 Kms"
      ],
      "execution_count": null,
      "outputs": [
        {
          "output_type": "stream",
          "text": [
            "Minimum distance: 31868 km\n",
            "time: 1.16 ms (started: 2021-04-28 10:42:17 +00:00)\n"
          ],
          "name": "stdout"
        }
      ]
    },
    {
      "cell_type": "markdown",
      "metadata": {
        "id": "bpNuHaArMxVD"
      },
      "source": [
        "The path effectively remains the same however the order of towns and their corresponding CVS stores visited has changed.\n",
        "For instance, the very first CVS store visited from the distribution center in the first scenario (with default or automatic values) was the at West Hartford (Store 1). The first CVS center to be visited in the path generated by the second approach is at Glastonbury (Store 1).\n",
        "This strategy essentially traverses the same path although in the opposite direction."
      ]
    },
    {
      "cell_type": "markdown",
      "metadata": {
        "id": "wK_UHZE7N2qU"
      },
      "source": [
        "## Scenario 3: Try a different local serach option\n",
        "\n",
        "Using GREEDY_DESCENT search startegy.\n",
        "Accepts improving (cost-reducing) local search neighbors until a local minimum is reached."
      ]
    },
    {
      "cell_type": "markdown",
      "metadata": {
        "id": "hC-rGpOdN2qe"
      },
      "source": [
        "**Setting first solution heuristic**\n",
        "\n",
        "**Local search options**"
      ]
    },
    {
      "cell_type": "code",
      "metadata": {
        "colab": {
          "base_uri": "https://localhost:8080/"
        },
        "id": "bFLtxxcxN2qe",
        "outputId": "5ddbed65-b7b5-469b-9139-0c4086b98306"
      },
      "source": [
        "search_parameters = pywrapcp.DefaultRoutingSearchParameters() # Setting default parameters for TSP\n",
        "search_parameters.local_search_metaheuristic = (\n",
        "    routing_enums_pb2.LocalSearchMetaheuristic.GREEDY_DESCENT) # \"Greedy Descent\" local search startegy used\n",
        "search_parameters.time_limit.seconds = 30 # limit the search time while using metaheuristics, else the solver will not terminate\n",
        "search_parameters.log_search = True"
      ],
      "execution_count": null,
      "outputs": [
        {
          "output_type": "stream",
          "text": [
            "time: 3.69 ms (started: 2021-04-28 10:42:32 +00:00)\n"
          ],
          "name": "stdout"
        }
      ]
    },
    {
      "cell_type": "markdown",
      "metadata": {
        "id": "hG9EL4hCN2qf"
      },
      "source": [
        "#### First solution strategy options"
      ]
    },
    {
      "cell_type": "code",
      "metadata": {
        "colab": {
          "base_uri": "https://localhost:8080/"
        },
        "id": "uQ6FYmUzN2qf",
        "outputId": "74648f88-49d1-4cde-8c8c-fab4b418aeb7"
      },
      "source": [
        "# [START parameters]\n",
        "\n",
        "search_parameters = pywrapcp.DefaultRoutingSearchParameters() #setting default parameters for TSP   #more options in VRP\n",
        "# search_parameters.first_solution_strategy = (routing_enums_pb2.FirstSolutionStrategy.AUTOMATIC) # set it to AUTOMATIC mode for strategy\n",
        "# Using the PATH_MOST_CONSTRAINED_ARC solution strategy\n",
        "search_parameters.first_solution_strategy = (routing_enums_pb2.FirstSolutionStrategy.PATH_MOST_CONSTRAINED_ARC) # set it to PATH_MOST_CONSTRAINED_ARC mode for strategy\n",
        "# [END parameters]\n"
      ],
      "execution_count": null,
      "outputs": [
        {
          "output_type": "stream",
          "text": [
            "time: 4.76 ms (started: 2021-04-28 10:42:40 +00:00)\n"
          ],
          "name": "stdout"
        }
      ]
    },
    {
      "cell_type": "markdown",
      "metadata": {
        "id": "fHqK2_fCN2qg"
      },
      "source": [
        "#### Running the solver"
      ]
    },
    {
      "cell_type": "code",
      "metadata": {
        "colab": {
          "base_uri": "https://localhost:8080/"
        },
        "id": "7ACdoKTdN2qg",
        "outputId": "e2cd20c6-0760-4338-dad2-b19a537c0681"
      },
      "source": [
        "# [START solve]\n",
        "\n",
        "# Solve the problem.\n",
        "solution = routing.SolveWithParameters(search_parameters) # solve with those parameters\n",
        "\n",
        "# [END solve]\n"
      ],
      "execution_count": null,
      "outputs": [
        {
          "output_type": "stream",
          "text": [
            "time: 56.9 ms (started: 2021-04-28 10:42:44 +00:00)\n"
          ],
          "name": "stdout"
        }
      ]
    },
    {
      "cell_type": "markdown",
      "metadata": {
        "id": "MYDOJQCON2qg"
      },
      "source": [
        "#### Printing the solution"
      ]
    },
    {
      "cell_type": "code",
      "metadata": {
        "colab": {
          "base_uri": "https://localhost:8080/"
        },
        "id": "klI7gp5QN2qg",
        "outputId": "2cbeeab7-6163-426d-e85f-aad117087184"
      },
      "source": [
        "# [START print_solution]\n",
        "\n",
        "#use the print function generated before to print the solution & add to tsp array\n",
        "if solution:\n",
        "    tsp3=print_solution(manager, routing, solution)\n",
        "\n",
        "# [END print_solution]"
      ],
      "execution_count": null,
      "outputs": [
        {
          "output_type": "stream",
          "text": [
            "Objective: 31972 km\n",
            "Route for vehicle 0:\n",
            " 0 -> 1 -> 2 -> 21 -> 22 -> 4 -> 18 -> 33 -> 32 -> 19 -> 20 -> 31 -> 29 -> 23 -> 14 -> 13 -> 12 -> 30 -> 16 -> 28 -> 24 -> 26 -> 25 -> 27 -> 15 -> 8 -> 6 -> 10 -> 9 -> 7 -> 3 -> 17 -> 11 -> 5 -> 0\n",
            "\n",
            "time: 4.64 ms (started: 2021-04-28 10:42:47 +00:00)\n"
          ],
          "name": "stdout"
        }
      ]
    },
    {
      "cell_type": "markdown",
      "metadata": {
        "id": "tv2JXtApWucI"
      },
      "source": [
        "**The path changes in comparison with the previous solutions.**\n",
        "\n",
        "*Previous Solution*: 0 -> 1 -> 2 -> 21 -> 22 -> 4 -> 18 -> 33 -> 32 -> 19 -> 20 -> 31 -> 29 -> 23 -> 14 -> 13 -> 12 -> 30 -> 16 -> 28 -> 24 ->\n",
        "26 -> 25 **-> 15 -> 27 -> 3 -> 17 -> 11 -> 9 -> 7 -> 8 -> 6 -> 10 -> 5 ->** 0\n",
        "\n",
        "*Current Solution*: 0 -> 1 -> 2 -> 21 -> 22 -> 4 -> 18 -> 33 -> 32 -> 19 -> 20 -> 31 -> 29 -> 23 -> 14 -> 13 -> 12 -> 30 -> 16 -> 28 -> 24 ->\n",
        "26 -> 25 **-> 27 -> 15 -> 8 -> 6 -> 10 -> 9 -> 7 -> 3 -> 17 -> 11 -> 5 ->** 0\n",
        "\n",
        "The order of the nodes beyond node 25 (Bristol (2)) has changed.\n"
      ]
    },
    {
      "cell_type": "code",
      "metadata": {
        "colab": {
          "base_uri": "https://localhost:8080/"
        },
        "id": "cluXjYG9N2qh",
        "outputId": "b4a11c6d-ee6b-40c6-fcf3-e7cccf3e0945"
      },
      "source": [
        "tsp3=np.array(tsp3)\n",
        "tsp3 #solution array"
      ],
      "execution_count": null,
      "outputs": [
        {
          "output_type": "execute_result",
          "data": {
            "text/plain": [
              "array([ 0,  1,  2, 21, 22,  4, 18, 33, 32, 19, 20, 31, 29, 23, 14, 13, 12,\n",
              "       30, 16, 28, 24, 26, 25, 27, 15,  8,  6, 10,  9,  7,  3, 17, 11,  5])"
            ]
          },
          "metadata": {
            "tags": []
          },
          "execution_count": 191
        },
        {
          "output_type": "stream",
          "text": [
            "time: 9.72 ms (started: 2021-04-28 10:42:56 +00:00)\n"
          ],
          "name": "stdout"
        }
      ]
    },
    {
      "cell_type": "code",
      "metadata": {
        "colab": {
          "base_uri": "https://localhost:8080/",
          "height": 1000
        },
        "id": "TSos8EBbN2qh",
        "outputId": "d6291efd-c005-41de-fbe3-befb6ee63aba"
      },
      "source": [
        "# now reindex the original data\n",
        "geogTable_orig4 = geogTable_orig.reindex(tsp3)\n",
        "\n",
        "# Adding an additional row with the coordinates of State Capitol (Distribution Center), such that\n",
        "# The succeeding visualizations depict the shortest route beginning and ending at the State Capitol\n",
        "geogTable_orig4.loc[len(geogTable_orig4.index)] = geogTable_orig4.iloc[0,:]\n",
        "# geogTable_orig2.loc[23,:]=geogTable_orig2.iloc[0,:]\n",
        "geogTable_orig4"
      ],
      "execution_count": null,
      "outputs": [
        {
          "output_type": "execute_result",
          "data": {
            "text/html": [
              "<div>\n",
              "<style scoped>\n",
              "    .dataframe tbody tr th:only-of-type {\n",
              "        vertical-align: middle;\n",
              "    }\n",
              "\n",
              "    .dataframe tbody tr th {\n",
              "        vertical-align: top;\n",
              "    }\n",
              "\n",
              "    .dataframe thead th {\n",
              "        text-align: right;\n",
              "    }\n",
              "</style>\n",
              "<table border=\"1\" class=\"dataframe\">\n",
              "  <thead>\n",
              "    <tr style=\"text-align: right;\">\n",
              "      <th></th>\n",
              "      <th>Town</th>\n",
              "      <th>Lon</th>\n",
              "      <th>Lat</th>\n",
              "    </tr>\n",
              "  </thead>\n",
              "  <tbody>\n",
              "    <tr>\n",
              "      <th>0</th>\n",
              "      <td>State Capitol</td>\n",
              "      <td>-72.682499</td>\n",
              "      <td>41.764290</td>\n",
              "    </tr>\n",
              "    <tr>\n",
              "      <th>1</th>\n",
              "      <td>Glastonbury (1)</td>\n",
              "      <td>-72.611455</td>\n",
              "      <td>41.715477</td>\n",
              "    </tr>\n",
              "    <tr>\n",
              "      <th>2</th>\n",
              "      <td>Glastonbury (2)</td>\n",
              "      <td>-72.593939</td>\n",
              "      <td>41.705379</td>\n",
              "    </tr>\n",
              "    <tr>\n",
              "      <th>21</th>\n",
              "      <td>Rockville (1)</td>\n",
              "      <td>-72.467198</td>\n",
              "      <td>41.868254</td>\n",
              "    </tr>\n",
              "    <tr>\n",
              "      <th>22</th>\n",
              "      <td>Hebron (1)</td>\n",
              "      <td>-72.355940</td>\n",
              "      <td>41.660280</td>\n",
              "    </tr>\n",
              "    <tr>\n",
              "      <th>4</th>\n",
              "      <td>Clinton (1)</td>\n",
              "      <td>-72.528462</td>\n",
              "      <td>41.279014</td>\n",
              "    </tr>\n",
              "    <tr>\n",
              "      <th>18</th>\n",
              "      <td>New Haven (1)</td>\n",
              "      <td>-72.925315</td>\n",
              "      <td>41.306292</td>\n",
              "    </tr>\n",
              "    <tr>\n",
              "      <th>33</th>\n",
              "      <td>Hamden (2)</td>\n",
              "      <td>-72.919727</td>\n",
              "      <td>41.367527</td>\n",
              "    </tr>\n",
              "    <tr>\n",
              "      <th>32</th>\n",
              "      <td>Hamden (1)</td>\n",
              "      <td>-72.932979</td>\n",
              "      <td>41.347439</td>\n",
              "    </tr>\n",
              "    <tr>\n",
              "      <th>19</th>\n",
              "      <td>New Haven (2)</td>\n",
              "      <td>-72.939527</td>\n",
              "      <td>41.316188</td>\n",
              "    </tr>\n",
              "    <tr>\n",
              "      <th>20</th>\n",
              "      <td>New Haven (3)</td>\n",
              "      <td>-72.968393</td>\n",
              "      <td>41.329220</td>\n",
              "    </tr>\n",
              "    <tr>\n",
              "      <th>31</th>\n",
              "      <td>Monroe (1)</td>\n",
              "      <td>-73.216338</td>\n",
              "      <td>41.317346</td>\n",
              "    </tr>\n",
              "    <tr>\n",
              "      <th>29</th>\n",
              "      <td>Ridgefield (1)</td>\n",
              "      <td>-73.443694</td>\n",
              "      <td>41.267450</td>\n",
              "    </tr>\n",
              "    <tr>\n",
              "      <th>23</th>\n",
              "      <td>Wilton (1)</td>\n",
              "      <td>-73.431741</td>\n",
              "      <td>41.194026</td>\n",
              "    </tr>\n",
              "    <tr>\n",
              "      <th>14</th>\n",
              "      <td>Darien (1)</td>\n",
              "      <td>-73.470430</td>\n",
              "      <td>41.076428</td>\n",
              "    </tr>\n",
              "    <tr>\n",
              "      <th>13</th>\n",
              "      <td>Old Greenwich (1)</td>\n",
              "      <td>-73.567933</td>\n",
              "      <td>41.031103</td>\n",
              "    </tr>\n",
              "    <tr>\n",
              "      <th>12</th>\n",
              "      <td>New Canaan (1)</td>\n",
              "      <td>-73.495169</td>\n",
              "      <td>41.146379</td>\n",
              "    </tr>\n",
              "    <tr>\n",
              "      <th>30</th>\n",
              "      <td>Ridgefield (2)</td>\n",
              "      <td>-73.499899</td>\n",
              "      <td>41.283030</td>\n",
              "    </tr>\n",
              "    <tr>\n",
              "      <th>16</th>\n",
              "      <td>Brookfield (1)</td>\n",
              "      <td>-73.415050</td>\n",
              "      <td>41.435008</td>\n",
              "    </tr>\n",
              "    <tr>\n",
              "      <th>28</th>\n",
              "      <td>Prospect (1)</td>\n",
              "      <td>-72.980222</td>\n",
              "      <td>41.507847</td>\n",
              "    </tr>\n",
              "    <tr>\n",
              "      <th>24</th>\n",
              "      <td>Bristol (1)</td>\n",
              "      <td>-72.946191</td>\n",
              "      <td>41.681782</td>\n",
              "    </tr>\n",
              "    <tr>\n",
              "      <th>26</th>\n",
              "      <td>Bristol (3)</td>\n",
              "      <td>-72.923107</td>\n",
              "      <td>41.667302</td>\n",
              "    </tr>\n",
              "    <tr>\n",
              "      <th>25</th>\n",
              "      <td>Bristol (2)</td>\n",
              "      <td>-72.915892</td>\n",
              "      <td>41.693719</td>\n",
              "    </tr>\n",
              "    <tr>\n",
              "      <th>27</th>\n",
              "      <td>Farmington (1)</td>\n",
              "      <td>-72.844003</td>\n",
              "      <td>41.704819</td>\n",
              "    </tr>\n",
              "    <tr>\n",
              "      <th>15</th>\n",
              "      <td>Canton (1)</td>\n",
              "      <td>-72.885491</td>\n",
              "      <td>41.825007</td>\n",
              "    </tr>\n",
              "    <tr>\n",
              "      <th>8</th>\n",
              "      <td>West Hartford (4)</td>\n",
              "      <td>-72.747909</td>\n",
              "      <td>41.784085</td>\n",
              "    </tr>\n",
              "    <tr>\n",
              "      <th>6</th>\n",
              "      <td>West Hartford (2)</td>\n",
              "      <td>-72.746118</td>\n",
              "      <td>41.785493</td>\n",
              "    </tr>\n",
              "    <tr>\n",
              "      <th>10</th>\n",
              "      <td>West Hartford (6)</td>\n",
              "      <td>-72.744077</td>\n",
              "      <td>41.761796</td>\n",
              "    </tr>\n",
              "    <tr>\n",
              "      <th>9</th>\n",
              "      <td>West Hartford (5)</td>\n",
              "      <td>-72.743406</td>\n",
              "      <td>41.752219</td>\n",
              "    </tr>\n",
              "    <tr>\n",
              "      <th>7</th>\n",
              "      <td>West Hartford (3)</td>\n",
              "      <td>-72.766498</td>\n",
              "      <td>41.755341</td>\n",
              "    </tr>\n",
              "    <tr>\n",
              "      <th>3</th>\n",
              "      <td>Kensington (1)</td>\n",
              "      <td>-72.759555</td>\n",
              "      <td>41.631274</td>\n",
              "    </tr>\n",
              "    <tr>\n",
              "      <th>17</th>\n",
              "      <td>Berlin (1)</td>\n",
              "      <td>-72.733968</td>\n",
              "      <td>41.641177</td>\n",
              "    </tr>\n",
              "    <tr>\n",
              "      <th>11</th>\n",
              "      <td>West Hartford (7)</td>\n",
              "      <td>-72.730051</td>\n",
              "      <td>41.731846</td>\n",
              "    </tr>\n",
              "    <tr>\n",
              "      <th>5</th>\n",
              "      <td>West Hartford (1)</td>\n",
              "      <td>-72.716118</td>\n",
              "      <td>41.761075</td>\n",
              "    </tr>\n",
              "    <tr>\n",
              "      <th>34</th>\n",
              "      <td>State Capitol</td>\n",
              "      <td>-72.682499</td>\n",
              "      <td>41.764290</td>\n",
              "    </tr>\n",
              "  </tbody>\n",
              "</table>\n",
              "</div>"
            ],
            "text/plain": [
              "                 Town        Lon        Lat\n",
              "0       State Capitol -72.682499  41.764290\n",
              "1     Glastonbury (1) -72.611455  41.715477\n",
              "2     Glastonbury (2) -72.593939  41.705379\n",
              "21      Rockville (1) -72.467198  41.868254\n",
              "22         Hebron (1) -72.355940  41.660280\n",
              "4         Clinton (1) -72.528462  41.279014\n",
              "18      New Haven (1) -72.925315  41.306292\n",
              "33         Hamden (2) -72.919727  41.367527\n",
              "32         Hamden (1) -72.932979  41.347439\n",
              "19      New Haven (2) -72.939527  41.316188\n",
              "20      New Haven (3) -72.968393  41.329220\n",
              "31         Monroe (1) -73.216338  41.317346\n",
              "29     Ridgefield (1) -73.443694  41.267450\n",
              "23         Wilton (1) -73.431741  41.194026\n",
              "14         Darien (1) -73.470430  41.076428\n",
              "13  Old Greenwich (1) -73.567933  41.031103\n",
              "12     New Canaan (1) -73.495169  41.146379\n",
              "30     Ridgefield (2) -73.499899  41.283030\n",
              "16     Brookfield (1) -73.415050  41.435008\n",
              "28       Prospect (1) -72.980222  41.507847\n",
              "24        Bristol (1) -72.946191  41.681782\n",
              "26        Bristol (3) -72.923107  41.667302\n",
              "25        Bristol (2) -72.915892  41.693719\n",
              "27     Farmington (1) -72.844003  41.704819\n",
              "15         Canton (1) -72.885491  41.825007\n",
              "8   West Hartford (4) -72.747909  41.784085\n",
              "6   West Hartford (2) -72.746118  41.785493\n",
              "10  West Hartford (6) -72.744077  41.761796\n",
              "9   West Hartford (5) -72.743406  41.752219\n",
              "7   West Hartford (3) -72.766498  41.755341\n",
              "3      Kensington (1) -72.759555  41.631274\n",
              "17         Berlin (1) -72.733968  41.641177\n",
              "11  West Hartford (7) -72.730051  41.731846\n",
              "5   West Hartford (1) -72.716118  41.761075\n",
              "34      State Capitol -72.682499  41.764290"
            ]
          },
          "metadata": {
            "tags": []
          },
          "execution_count": 192
        },
        {
          "output_type": "stream",
          "text": [
            "time: 29.2 ms (started: 2021-04-28 10:43:00 +00:00)\n"
          ],
          "name": "stdout"
        }
      ]
    },
    {
      "cell_type": "markdown",
      "metadata": {
        "id": "a2jj6eIGN2qh"
      },
      "source": [
        "#### Visualizing the solution"
      ]
    },
    {
      "cell_type": "code",
      "metadata": {
        "colab": {
          "base_uri": "https://localhost:8080/"
        },
        "id": "3n7BwIuQN2qi",
        "outputId": "f7671072-d687-4ec0-8cd1-a13ca6f27a8d"
      },
      "source": [
        "mean(geogTable_orig4['Lon']) #for center of Map-mean longitude"
      ],
      "execution_count": null,
      "outputs": [
        {
          "output_type": "execute_result",
          "data": {
            "text/plain": [
              "-72.92373695457142"
            ]
          },
          "metadata": {
            "tags": []
          },
          "execution_count": 193
        },
        {
          "output_type": "stream",
          "text": [
            "time: 4.64 ms (started: 2021-04-28 10:43:17 +00:00)\n"
          ],
          "name": "stdout"
        }
      ]
    },
    {
      "cell_type": "code",
      "metadata": {
        "colab": {
          "base_uri": "https://localhost:8080/"
        },
        "id": "UAqDienQN2qk",
        "outputId": "8dbacf4b-9974-4909-f1cb-38e6f24282f4"
      },
      "source": [
        "mean(geogTable_orig4['Lat']) #for center of Map-mean latitude"
      ],
      "execution_count": null,
      "outputs": [
        {
          "output_type": "execute_result",
          "data": {
            "text/plain": [
              "41.53883435142858"
            ]
          },
          "metadata": {
            "tags": []
          },
          "execution_count": 194
        },
        {
          "output_type": "stream",
          "text": [
            "time: 3.91 ms (started: 2021-04-28 10:43:20 +00:00)\n"
          ],
          "name": "stdout"
        }
      ]
    },
    {
      "cell_type": "code",
      "metadata": {
        "colab": {
          "base_uri": "https://localhost:8080/",
          "height": 559
        },
        "id": "YbtVqevxN2qk",
        "outputId": "207f3108-d2b5-4a43-a4cb-565e44fc8776"
      },
      "source": [
        "fig = go.Figure(go.Scattermapbox(\n",
        "    mode = \"markers+lines\",\n",
        "    lon = geogTable_orig4['Lon'],\n",
        "    lat = geogTable_orig4['Lat'],\n",
        "    name=\"Main Route\",\n",
        "    hovertext=geogTable_orig4['Town'],\n",
        "    marker = {'size': 10}))\n",
        "\n",
        "for i in range(len(geogTable_orig4)):\n",
        "  fig.add_trace(go.Scattermapbox(\n",
        "    mode = \"markers+lines\",\n",
        "    lon = [geogTable_orig4.iloc[i,1],geogTable_orig4.iloc[i-1,1]],\n",
        "    lat = [geogTable_orig4.iloc[i,2],geogTable_orig4.iloc[i-1,2]],\n",
        "    name=\"Route\"+str(i),\n",
        "    text=[geogTable_orig4.iloc[i,0]+'-'+str(i),geogTable_orig4.iloc[i-1,0]+'-'+str(i-1)],\n",
        "    textposition='top center',\n",
        "    marker = {'size': 10}))\n",
        "\n",
        "fig.update_layout(mapbox_style=\"carto-darkmatter\", mapbox_zoom=8.25, mapbox_center_lat = 41.26878471063158,mapbox_center_lon = -73.37656607409332,\n",
        "    margin={\"r\":0,\"t\":0,\"l\":0,\"b\":0},title=\"TRAVELING SALESMAN ROUTE\")\n",
        "config = dict({'scrollZoom': False})\n",
        "fig.show(config=config)\n"
      ],
      "execution_count": null,
      "outputs": [
        {
          "output_type": "display_data",
          "data": {
            "text/html": [
              "<html>\n",
              "<head><meta charset=\"utf-8\" /></head>\n",
              "<body>\n",
              "    <div>\n",
              "            <script src=\"https://cdnjs.cloudflare.com/ajax/libs/mathjax/2.7.5/MathJax.js?config=TeX-AMS-MML_SVG\"></script><script type=\"text/javascript\">if (window.MathJax) {MathJax.Hub.Config({SVG: {font: \"STIX-Web\"}});}</script>\n",
              "                <script type=\"text/javascript\">window.PlotlyConfig = {MathJaxConfig: 'local'};</script>\n",
              "        <script src=\"https://cdn.plot.ly/plotly-latest.min.js\"></script>    \n",
              "            <div id=\"9ddd97dc-a408-4317-b684-8cebf79aa362\" class=\"plotly-graph-div\" style=\"height:525px; width:100%;\"></div>\n",
              "            <script type=\"text/javascript\">\n",
              "                \n",
              "                    window.PLOTLYENV=window.PLOTLYENV || {};\n",
              "                    \n",
              "                if (document.getElementById(\"9ddd97dc-a408-4317-b684-8cebf79aa362\")) {\n",
              "                    Plotly.newPlot(\n",
              "                        '9ddd97dc-a408-4317-b684-8cebf79aa362',\n",
              "                        [{\"hovertext\": [\"State Capitol\", \"Glastonbury (1)\", \"Glastonbury (2)\", \"Rockville (1)\", \"Hebron (1)\", \"Clinton (1)\", \"New Haven (1)\", \"Hamden (2)\", \"Hamden (1)\", \"New Haven (2)\", \"New Haven (3)\", \"Monroe (1)\", \"Ridgefield (1)\", \"Wilton (1)\", \"Darien (1)\", \"Old Greenwich (1)\", \"New Canaan (1)\", \"Ridgefield (2)\", \"Brookfield (1)\", \"Prospect (1)\", \"Bristol (1)\", \"Bristol (3)\", \"Bristol (2)\", \"Farmington (1)\", \"Canton (1)\", \"West Hartford (4)\", \"West Hartford (2)\", \"West Hartford (6)\", \"West Hartford (5)\", \"West Hartford (3)\", \"Kensington (1)\", \"Berlin (1)\", \"West Hartford (7)\", \"West Hartford (1)\", \"State Capitol\"], \"lat\": [41.76428989, 41.71547718, 41.70537939, 41.86825418, 41.66027971, 41.27901446, 41.3062916, 41.36752697, 41.34743906, 41.31618834, 41.32921973, 41.31734643, 41.26745001, 41.19402578, 41.0764284, 41.0311029, 41.14637858, 41.28302995, 41.435008399999994, 41.50784652, 41.68178191, 41.66730216, 41.69371913, 41.70481927, 41.8250066, 41.78408508, 41.78549258, 41.76179605, 41.75221948, 41.75534058, 41.63127394, 41.6411774, 41.73184570000001, 41.76107505, 41.76428989], \"lon\": [-72.68249918, -72.61145523, -72.59393854, -72.46719814, -72.35594026, -72.52846212, -72.92531516, -72.91972719, -72.93297940000001, -72.93952687, -72.96839324, -73.21633832, -73.4436939, -73.43174133, -73.4704302, -73.56793309999999, -73.49516904, -73.49989899, -73.41505, -72.9802223, -72.94619109, -72.92310666, -72.91589206, -72.84400274, -72.8854906, -72.74790929, -72.74611836, -72.74407669, -72.74340554, -72.76649752, -72.75955474, -72.7339675, -72.73005133, -72.7161176, -72.68249918], \"marker\": {\"size\": 10}, \"mode\": \"markers+lines\", \"name\": \"Main Route\", \"type\": \"scattermapbox\"}, {\"lat\": [41.76428989, 41.76428989], \"lon\": [-72.68249918, -72.68249918], \"marker\": {\"size\": 10}, \"mode\": \"markers+lines\", \"name\": \"Route0\", \"text\": [\"State Capitol-0\", \"State Capitol--1\"], \"textposition\": \"top center\", \"type\": \"scattermapbox\"}, {\"lat\": [41.71547718, 41.76428989], \"lon\": [-72.61145523, -72.68249918], \"marker\": {\"size\": 10}, \"mode\": \"markers+lines\", \"name\": \"Route1\", \"text\": [\"Glastonbury (1)-1\", \"State Capitol-0\"], \"textposition\": \"top center\", \"type\": \"scattermapbox\"}, {\"lat\": [41.70537939, 41.71547718], \"lon\": [-72.59393854, -72.61145523], \"marker\": {\"size\": 10}, \"mode\": \"markers+lines\", \"name\": \"Route2\", \"text\": [\"Glastonbury (2)-2\", \"Glastonbury (1)-1\"], \"textposition\": \"top center\", \"type\": \"scattermapbox\"}, {\"lat\": [41.86825418, 41.70537939], \"lon\": [-72.46719814, -72.59393854], \"marker\": {\"size\": 10}, \"mode\": \"markers+lines\", \"name\": \"Route3\", \"text\": [\"Rockville (1)-3\", \"Glastonbury (2)-2\"], \"textposition\": \"top center\", \"type\": \"scattermapbox\"}, {\"lat\": [41.66027971, 41.86825418], \"lon\": [-72.35594026, -72.46719814], \"marker\": {\"size\": 10}, \"mode\": \"markers+lines\", \"name\": \"Route4\", \"text\": [\"Hebron (1)-4\", \"Rockville (1)-3\"], \"textposition\": \"top center\", \"type\": \"scattermapbox\"}, {\"lat\": [41.27901446, 41.66027971], \"lon\": [-72.52846212, -72.35594026], \"marker\": {\"size\": 10}, \"mode\": \"markers+lines\", \"name\": \"Route5\", \"text\": [\"Clinton (1)-5\", \"Hebron (1)-4\"], \"textposition\": \"top center\", \"type\": \"scattermapbox\"}, {\"lat\": [41.3062916, 41.27901446], \"lon\": [-72.92531516, -72.52846212], \"marker\": {\"size\": 10}, \"mode\": \"markers+lines\", \"name\": \"Route6\", \"text\": [\"New Haven (1)-6\", \"Clinton (1)-5\"], \"textposition\": \"top center\", \"type\": \"scattermapbox\"}, {\"lat\": [41.36752697, 41.3062916], \"lon\": [-72.91972719, -72.92531516], \"marker\": {\"size\": 10}, \"mode\": \"markers+lines\", \"name\": \"Route7\", \"text\": [\"Hamden (2)-7\", \"New Haven (1)-6\"], \"textposition\": \"top center\", \"type\": \"scattermapbox\"}, {\"lat\": [41.34743906, 41.36752697], \"lon\": [-72.93297940000001, -72.91972719], \"marker\": {\"size\": 10}, \"mode\": \"markers+lines\", \"name\": \"Route8\", \"text\": [\"Hamden (1)-8\", \"Hamden (2)-7\"], \"textposition\": \"top center\", \"type\": \"scattermapbox\"}, {\"lat\": [41.31618834, 41.34743906], \"lon\": [-72.93952687, -72.93297940000001], \"marker\": {\"size\": 10}, \"mode\": \"markers+lines\", \"name\": \"Route9\", \"text\": [\"New Haven (2)-9\", \"Hamden (1)-8\"], \"textposition\": \"top center\", \"type\": \"scattermapbox\"}, {\"lat\": [41.32921973, 41.31618834], \"lon\": [-72.96839324, -72.93952687], \"marker\": {\"size\": 10}, \"mode\": \"markers+lines\", \"name\": \"Route10\", \"text\": [\"New Haven (3)-10\", \"New Haven (2)-9\"], \"textposition\": \"top center\", \"type\": \"scattermapbox\"}, {\"lat\": [41.31734643, 41.32921973], \"lon\": [-73.21633832, -72.96839324], \"marker\": {\"size\": 10}, \"mode\": \"markers+lines\", \"name\": \"Route11\", \"text\": [\"Monroe (1)-11\", \"New Haven (3)-10\"], \"textposition\": \"top center\", \"type\": \"scattermapbox\"}, {\"lat\": [41.26745001, 41.31734643], \"lon\": [-73.4436939, -73.21633832], \"marker\": {\"size\": 10}, \"mode\": \"markers+lines\", \"name\": \"Route12\", \"text\": [\"Ridgefield (1)-12\", \"Monroe (1)-11\"], \"textposition\": \"top center\", \"type\": \"scattermapbox\"}, {\"lat\": [41.19402578, 41.26745001], \"lon\": [-73.43174133, -73.4436939], \"marker\": {\"size\": 10}, \"mode\": \"markers+lines\", \"name\": \"Route13\", \"text\": [\"Wilton (1)-13\", \"Ridgefield (1)-12\"], \"textposition\": \"top center\", \"type\": \"scattermapbox\"}, {\"lat\": [41.0764284, 41.19402578], \"lon\": [-73.4704302, -73.43174133], \"marker\": {\"size\": 10}, \"mode\": \"markers+lines\", \"name\": \"Route14\", \"text\": [\"Darien (1)-14\", \"Wilton (1)-13\"], \"textposition\": \"top center\", \"type\": \"scattermapbox\"}, {\"lat\": [41.0311029, 41.0764284], \"lon\": [-73.56793309999999, -73.4704302], \"marker\": {\"size\": 10}, \"mode\": \"markers+lines\", \"name\": \"Route15\", \"text\": [\"Old Greenwich (1)-15\", \"Darien (1)-14\"], \"textposition\": \"top center\", \"type\": \"scattermapbox\"}, {\"lat\": [41.14637858, 41.0311029], \"lon\": [-73.49516904, -73.56793309999999], \"marker\": {\"size\": 10}, \"mode\": \"markers+lines\", \"name\": \"Route16\", \"text\": [\"New Canaan (1)-16\", \"Old Greenwich (1)-15\"], \"textposition\": \"top center\", \"type\": \"scattermapbox\"}, {\"lat\": [41.28302995, 41.14637858], \"lon\": [-73.49989899, -73.49516904], \"marker\": {\"size\": 10}, \"mode\": \"markers+lines\", \"name\": \"Route17\", \"text\": [\"Ridgefield (2)-17\", \"New Canaan (1)-16\"], \"textposition\": \"top center\", \"type\": \"scattermapbox\"}, {\"lat\": [41.435008399999994, 41.28302995], \"lon\": [-73.41505, -73.49989899], \"marker\": {\"size\": 10}, \"mode\": \"markers+lines\", \"name\": \"Route18\", \"text\": [\"Brookfield (1)-18\", \"Ridgefield (2)-17\"], \"textposition\": \"top center\", \"type\": \"scattermapbox\"}, {\"lat\": [41.50784652, 41.435008399999994], \"lon\": [-72.9802223, -73.41505], \"marker\": {\"size\": 10}, \"mode\": \"markers+lines\", \"name\": \"Route19\", \"text\": [\"Prospect (1)-19\", \"Brookfield (1)-18\"], \"textposition\": \"top center\", \"type\": \"scattermapbox\"}, {\"lat\": [41.68178191, 41.50784652], \"lon\": [-72.94619109, -72.9802223], \"marker\": {\"size\": 10}, \"mode\": \"markers+lines\", \"name\": \"Route20\", \"text\": [\"Bristol (1)-20\", \"Prospect (1)-19\"], \"textposition\": \"top center\", \"type\": \"scattermapbox\"}, {\"lat\": [41.66730216, 41.68178191], \"lon\": [-72.92310666, -72.94619109], \"marker\": {\"size\": 10}, \"mode\": \"markers+lines\", \"name\": \"Route21\", \"text\": [\"Bristol (3)-21\", \"Bristol (1)-20\"], \"textposition\": \"top center\", \"type\": \"scattermapbox\"}, {\"lat\": [41.69371913, 41.66730216], \"lon\": [-72.91589206, -72.92310666], \"marker\": {\"size\": 10}, \"mode\": \"markers+lines\", \"name\": \"Route22\", \"text\": [\"Bristol (2)-22\", \"Bristol (3)-21\"], \"textposition\": \"top center\", \"type\": \"scattermapbox\"}, {\"lat\": [41.70481927, 41.69371913], \"lon\": [-72.84400274, -72.91589206], \"marker\": {\"size\": 10}, \"mode\": \"markers+lines\", \"name\": \"Route23\", \"text\": [\"Farmington (1)-23\", \"Bristol (2)-22\"], \"textposition\": \"top center\", \"type\": \"scattermapbox\"}, {\"lat\": [41.8250066, 41.70481927], \"lon\": [-72.8854906, -72.84400274], \"marker\": {\"size\": 10}, \"mode\": \"markers+lines\", \"name\": \"Route24\", \"text\": [\"Canton (1)-24\", \"Farmington (1)-23\"], \"textposition\": \"top center\", \"type\": \"scattermapbox\"}, {\"lat\": [41.78408508, 41.8250066], \"lon\": [-72.74790929, -72.8854906], \"marker\": {\"size\": 10}, \"mode\": \"markers+lines\", \"name\": \"Route25\", \"text\": [\"West Hartford (4)-25\", \"Canton (1)-24\"], \"textposition\": \"top center\", \"type\": \"scattermapbox\"}, {\"lat\": [41.78549258, 41.78408508], \"lon\": [-72.74611836, -72.74790929], \"marker\": {\"size\": 10}, \"mode\": \"markers+lines\", \"name\": \"Route26\", \"text\": [\"West Hartford (2)-26\", \"West Hartford (4)-25\"], \"textposition\": \"top center\", \"type\": \"scattermapbox\"}, {\"lat\": [41.76179605, 41.78549258], \"lon\": [-72.74407669, -72.74611836], \"marker\": {\"size\": 10}, \"mode\": \"markers+lines\", \"name\": \"Route27\", \"text\": [\"West Hartford (6)-27\", \"West Hartford (2)-26\"], \"textposition\": \"top center\", \"type\": \"scattermapbox\"}, {\"lat\": [41.75221948, 41.76179605], \"lon\": [-72.74340554, -72.74407669], \"marker\": {\"size\": 10}, \"mode\": \"markers+lines\", \"name\": \"Route28\", \"text\": [\"West Hartford (5)-28\", \"West Hartford (6)-27\"], \"textposition\": \"top center\", \"type\": \"scattermapbox\"}, {\"lat\": [41.75534058, 41.75221948], \"lon\": [-72.76649752, -72.74340554], \"marker\": {\"size\": 10}, \"mode\": \"markers+lines\", \"name\": \"Route29\", \"text\": [\"West Hartford (3)-29\", \"West Hartford (5)-28\"], \"textposition\": \"top center\", \"type\": \"scattermapbox\"}, {\"lat\": [41.63127394, 41.75534058], \"lon\": [-72.75955474, -72.76649752], \"marker\": {\"size\": 10}, \"mode\": \"markers+lines\", \"name\": \"Route30\", \"text\": [\"Kensington (1)-30\", \"West Hartford (3)-29\"], \"textposition\": \"top center\", \"type\": \"scattermapbox\"}, {\"lat\": [41.6411774, 41.63127394], \"lon\": [-72.7339675, -72.75955474], \"marker\": {\"size\": 10}, \"mode\": \"markers+lines\", \"name\": \"Route31\", \"text\": [\"Berlin (1)-31\", \"Kensington (1)-30\"], \"textposition\": \"top center\", \"type\": \"scattermapbox\"}, {\"lat\": [41.73184570000001, 41.6411774], \"lon\": [-72.73005133, -72.7339675], \"marker\": {\"size\": 10}, \"mode\": \"markers+lines\", \"name\": \"Route32\", \"text\": [\"West Hartford (7)-32\", \"Berlin (1)-31\"], \"textposition\": \"top center\", \"type\": \"scattermapbox\"}, {\"lat\": [41.76107505, 41.73184570000001], \"lon\": [-72.7161176, -72.73005133], \"marker\": {\"size\": 10}, \"mode\": \"markers+lines\", \"name\": \"Route33\", \"text\": [\"West Hartford (1)-33\", \"West Hartford (7)-32\"], \"textposition\": \"top center\", \"type\": \"scattermapbox\"}, {\"lat\": [41.76428989, 41.76107505], \"lon\": [-72.68249918, -72.7161176], \"marker\": {\"size\": 10}, \"mode\": \"markers+lines\", \"name\": \"Route34\", \"text\": [\"State Capitol-34\", \"West Hartford (1)-33\"], \"textposition\": \"top center\", \"type\": \"scattermapbox\"}],\n",
              "                        {\"mapbox\": {\"center\": {\"lat\": 41.26878471063158, \"lon\": -73.37656607409332}, \"style\": \"carto-darkmatter\", \"zoom\": 8.25}, \"margin\": {\"b\": 0, \"l\": 0, \"r\": 0, \"t\": 0}, \"template\": {\"data\": {\"bar\": [{\"error_x\": {\"color\": \"#2a3f5f\"}, \"error_y\": {\"color\": \"#2a3f5f\"}, \"marker\": {\"line\": {\"color\": \"#E5ECF6\", \"width\": 0.5}}, \"type\": \"bar\"}], \"barpolar\": [{\"marker\": {\"line\": {\"color\": \"#E5ECF6\", \"width\": 0.5}}, \"type\": \"barpolar\"}], \"carpet\": [{\"aaxis\": {\"endlinecolor\": \"#2a3f5f\", \"gridcolor\": \"white\", \"linecolor\": \"white\", \"minorgridcolor\": \"white\", \"startlinecolor\": \"#2a3f5f\"}, \"baxis\": {\"endlinecolor\": \"#2a3f5f\", \"gridcolor\": \"white\", \"linecolor\": \"white\", \"minorgridcolor\": \"white\", \"startlinecolor\": \"#2a3f5f\"}, \"type\": \"carpet\"}], \"choropleth\": [{\"colorbar\": {\"outlinewidth\": 0, \"ticks\": \"\"}, \"type\": \"choropleth\"}], \"contour\": [{\"colorbar\": {\"outlinewidth\": 0, \"ticks\": \"\"}, \"colorscale\": [[0.0, \"#0d0887\"], [0.1111111111111111, \"#46039f\"], [0.2222222222222222, \"#7201a8\"], [0.3333333333333333, \"#9c179e\"], [0.4444444444444444, \"#bd3786\"], [0.5555555555555556, \"#d8576b\"], [0.6666666666666666, \"#ed7953\"], [0.7777777777777778, \"#fb9f3a\"], [0.8888888888888888, \"#fdca26\"], [1.0, \"#f0f921\"]], \"type\": \"contour\"}], \"contourcarpet\": [{\"colorbar\": {\"outlinewidth\": 0, \"ticks\": \"\"}, \"type\": \"contourcarpet\"}], \"heatmap\": [{\"colorbar\": {\"outlinewidth\": 0, \"ticks\": \"\"}, \"colorscale\": [[0.0, \"#0d0887\"], [0.1111111111111111, \"#46039f\"], [0.2222222222222222, \"#7201a8\"], [0.3333333333333333, \"#9c179e\"], [0.4444444444444444, \"#bd3786\"], [0.5555555555555556, \"#d8576b\"], [0.6666666666666666, \"#ed7953\"], [0.7777777777777778, \"#fb9f3a\"], [0.8888888888888888, \"#fdca26\"], [1.0, \"#f0f921\"]], \"type\": \"heatmap\"}], \"heatmapgl\": [{\"colorbar\": {\"outlinewidth\": 0, \"ticks\": \"\"}, \"colorscale\": [[0.0, \"#0d0887\"], [0.1111111111111111, \"#46039f\"], [0.2222222222222222, \"#7201a8\"], [0.3333333333333333, \"#9c179e\"], [0.4444444444444444, \"#bd3786\"], [0.5555555555555556, \"#d8576b\"], [0.6666666666666666, \"#ed7953\"], [0.7777777777777778, \"#fb9f3a\"], [0.8888888888888888, \"#fdca26\"], [1.0, \"#f0f921\"]], \"type\": \"heatmapgl\"}], \"histogram\": [{\"marker\": {\"colorbar\": {\"outlinewidth\": 0, \"ticks\": \"\"}}, \"type\": \"histogram\"}], \"histogram2d\": [{\"colorbar\": {\"outlinewidth\": 0, \"ticks\": \"\"}, \"colorscale\": [[0.0, \"#0d0887\"], [0.1111111111111111, \"#46039f\"], [0.2222222222222222, \"#7201a8\"], [0.3333333333333333, \"#9c179e\"], [0.4444444444444444, \"#bd3786\"], [0.5555555555555556, \"#d8576b\"], [0.6666666666666666, \"#ed7953\"], [0.7777777777777778, \"#fb9f3a\"], [0.8888888888888888, \"#fdca26\"], [1.0, \"#f0f921\"]], \"type\": \"histogram2d\"}], \"histogram2dcontour\": [{\"colorbar\": {\"outlinewidth\": 0, \"ticks\": \"\"}, \"colorscale\": [[0.0, \"#0d0887\"], [0.1111111111111111, \"#46039f\"], [0.2222222222222222, \"#7201a8\"], [0.3333333333333333, \"#9c179e\"], [0.4444444444444444, \"#bd3786\"], [0.5555555555555556, \"#d8576b\"], [0.6666666666666666, \"#ed7953\"], [0.7777777777777778, \"#fb9f3a\"], [0.8888888888888888, \"#fdca26\"], [1.0, \"#f0f921\"]], \"type\": \"histogram2dcontour\"}], \"mesh3d\": [{\"colorbar\": {\"outlinewidth\": 0, \"ticks\": \"\"}, \"type\": \"mesh3d\"}], \"parcoords\": [{\"line\": {\"colorbar\": {\"outlinewidth\": 0, \"ticks\": \"\"}}, \"type\": \"parcoords\"}], \"pie\": [{\"automargin\": true, \"type\": \"pie\"}], \"scatter\": [{\"marker\": {\"colorbar\": {\"outlinewidth\": 0, \"ticks\": \"\"}}, \"type\": \"scatter\"}], \"scatter3d\": [{\"line\": {\"colorbar\": {\"outlinewidth\": 0, \"ticks\": \"\"}}, \"marker\": {\"colorbar\": {\"outlinewidth\": 0, \"ticks\": \"\"}}, \"type\": \"scatter3d\"}], \"scattercarpet\": [{\"marker\": {\"colorbar\": {\"outlinewidth\": 0, \"ticks\": \"\"}}, \"type\": \"scattercarpet\"}], \"scattergeo\": [{\"marker\": {\"colorbar\": {\"outlinewidth\": 0, \"ticks\": \"\"}}, \"type\": \"scattergeo\"}], \"scattergl\": [{\"marker\": {\"colorbar\": {\"outlinewidth\": 0, \"ticks\": \"\"}}, \"type\": \"scattergl\"}], \"scattermapbox\": [{\"marker\": {\"colorbar\": {\"outlinewidth\": 0, \"ticks\": \"\"}}, \"type\": \"scattermapbox\"}], \"scatterpolar\": [{\"marker\": {\"colorbar\": {\"outlinewidth\": 0, \"ticks\": \"\"}}, \"type\": \"scatterpolar\"}], \"scatterpolargl\": [{\"marker\": {\"colorbar\": {\"outlinewidth\": 0, \"ticks\": \"\"}}, \"type\": \"scatterpolargl\"}], \"scatterternary\": [{\"marker\": {\"colorbar\": {\"outlinewidth\": 0, \"ticks\": \"\"}}, \"type\": \"scatterternary\"}], \"surface\": [{\"colorbar\": {\"outlinewidth\": 0, \"ticks\": \"\"}, \"colorscale\": [[0.0, \"#0d0887\"], [0.1111111111111111, \"#46039f\"], [0.2222222222222222, \"#7201a8\"], [0.3333333333333333, \"#9c179e\"], [0.4444444444444444, \"#bd3786\"], [0.5555555555555556, \"#d8576b\"], [0.6666666666666666, \"#ed7953\"], [0.7777777777777778, \"#fb9f3a\"], [0.8888888888888888, \"#fdca26\"], [1.0, \"#f0f921\"]], \"type\": \"surface\"}], \"table\": [{\"cells\": {\"fill\": {\"color\": \"#EBF0F8\"}, \"line\": {\"color\": \"white\"}}, \"header\": {\"fill\": {\"color\": \"#C8D4E3\"}, \"line\": {\"color\": \"white\"}}, \"type\": \"table\"}]}, \"layout\": {\"annotationdefaults\": {\"arrowcolor\": \"#2a3f5f\", \"arrowhead\": 0, \"arrowwidth\": 1}, \"coloraxis\": {\"colorbar\": {\"outlinewidth\": 0, \"ticks\": \"\"}}, \"colorscale\": {\"diverging\": [[0, \"#8e0152\"], [0.1, \"#c51b7d\"], [0.2, \"#de77ae\"], [0.3, \"#f1b6da\"], [0.4, \"#fde0ef\"], [0.5, \"#f7f7f7\"], [0.6, \"#e6f5d0\"], [0.7, \"#b8e186\"], [0.8, \"#7fbc41\"], [0.9, \"#4d9221\"], [1, \"#276419\"]], \"sequential\": [[0.0, \"#0d0887\"], [0.1111111111111111, \"#46039f\"], [0.2222222222222222, \"#7201a8\"], [0.3333333333333333, \"#9c179e\"], [0.4444444444444444, \"#bd3786\"], [0.5555555555555556, \"#d8576b\"], [0.6666666666666666, \"#ed7953\"], [0.7777777777777778, \"#fb9f3a\"], [0.8888888888888888, \"#fdca26\"], [1.0, \"#f0f921\"]], \"sequentialminus\": [[0.0, \"#0d0887\"], [0.1111111111111111, \"#46039f\"], [0.2222222222222222, \"#7201a8\"], [0.3333333333333333, \"#9c179e\"], [0.4444444444444444, \"#bd3786\"], [0.5555555555555556, \"#d8576b\"], [0.6666666666666666, \"#ed7953\"], [0.7777777777777778, \"#fb9f3a\"], [0.8888888888888888, \"#fdca26\"], [1.0, \"#f0f921\"]]}, \"colorway\": [\"#636efa\", \"#EF553B\", \"#00cc96\", \"#ab63fa\", \"#FFA15A\", \"#19d3f3\", \"#FF6692\", \"#B6E880\", \"#FF97FF\", \"#FECB52\"], \"font\": {\"color\": \"#2a3f5f\"}, \"geo\": {\"bgcolor\": \"white\", \"lakecolor\": \"white\", \"landcolor\": \"#E5ECF6\", \"showlakes\": true, \"showland\": true, \"subunitcolor\": \"white\"}, \"hoverlabel\": {\"align\": \"left\"}, \"hovermode\": \"closest\", \"mapbox\": {\"style\": \"light\"}, \"paper_bgcolor\": \"white\", \"plot_bgcolor\": \"#E5ECF6\", \"polar\": {\"angularaxis\": {\"gridcolor\": \"white\", \"linecolor\": \"white\", \"ticks\": \"\"}, \"bgcolor\": \"#E5ECF6\", \"radialaxis\": {\"gridcolor\": \"white\", \"linecolor\": \"white\", \"ticks\": \"\"}}, \"scene\": {\"xaxis\": {\"backgroundcolor\": \"#E5ECF6\", \"gridcolor\": \"white\", \"gridwidth\": 2, \"linecolor\": \"white\", \"showbackground\": true, \"ticks\": \"\", \"zerolinecolor\": \"white\"}, \"yaxis\": {\"backgroundcolor\": \"#E5ECF6\", \"gridcolor\": \"white\", \"gridwidth\": 2, \"linecolor\": \"white\", \"showbackground\": true, \"ticks\": \"\", \"zerolinecolor\": \"white\"}, \"zaxis\": {\"backgroundcolor\": \"#E5ECF6\", \"gridcolor\": \"white\", \"gridwidth\": 2, \"linecolor\": \"white\", \"showbackground\": true, \"ticks\": \"\", \"zerolinecolor\": \"white\"}}, \"shapedefaults\": {\"line\": {\"color\": \"#2a3f5f\"}}, \"ternary\": {\"aaxis\": {\"gridcolor\": \"white\", \"linecolor\": \"white\", \"ticks\": \"\"}, \"baxis\": {\"gridcolor\": \"white\", \"linecolor\": \"white\", \"ticks\": \"\"}, \"bgcolor\": \"#E5ECF6\", \"caxis\": {\"gridcolor\": \"white\", \"linecolor\": \"white\", \"ticks\": \"\"}}, \"title\": {\"x\": 0.05}, \"xaxis\": {\"automargin\": true, \"gridcolor\": \"white\", \"linecolor\": \"white\", \"ticks\": \"\", \"title\": {\"standoff\": 15}, \"zerolinecolor\": \"white\", \"zerolinewidth\": 2}, \"yaxis\": {\"automargin\": true, \"gridcolor\": \"white\", \"linecolor\": \"white\", \"ticks\": \"\", \"title\": {\"standoff\": 15}, \"zerolinecolor\": \"white\", \"zerolinewidth\": 2}}}, \"title\": {\"text\": \"TRAVELING SALESMAN ROUTE\"}},\n",
              "                        {\"scrollZoom\": false, \"responsive\": true}\n",
              "                    ).then(function(){\n",
              "                            \n",
              "var gd = document.getElementById('9ddd97dc-a408-4317-b684-8cebf79aa362');\n",
              "var x = new MutationObserver(function (mutations, observer) {{\n",
              "        var display = window.getComputedStyle(gd).display;\n",
              "        if (!display || display === 'none') {{\n",
              "            console.log([gd, 'removed!']);\n",
              "            Plotly.purge(gd);\n",
              "            observer.disconnect();\n",
              "        }}\n",
              "}});\n",
              "\n",
              "// Listen for the removal of the full notebook cells\n",
              "var notebookContainer = gd.closest('#notebook-container');\n",
              "if (notebookContainer) {{\n",
              "    x.observe(notebookContainer, {childList: true});\n",
              "}}\n",
              "\n",
              "// Listen for the clearing of the current output cell\n",
              "var outputEl = gd.closest('.output');\n",
              "if (outputEl) {{\n",
              "    x.observe(outputEl, {childList: true});\n",
              "}}\n",
              "\n",
              "                        })\n",
              "                };\n",
              "                \n",
              "            </script>\n",
              "        </div>\n",
              "</body>\n",
              "</html>"
            ]
          },
          "metadata": {
            "tags": []
          }
        },
        {
          "output_type": "stream",
          "text": [
            "time: 337 ms (started: 2021-04-28 10:43:23 +00:00)\n"
          ],
          "name": "stdout"
        }
      ]
    },
    {
      "cell_type": "markdown",
      "metadata": {
        "id": "OpFeXY38N2ql"
      },
      "source": [
        "#### Animated Solution"
      ]
    },
    {
      "cell_type": "code",
      "metadata": {
        "colab": {
          "base_uri": "https://localhost:8080/",
          "height": 559
        },
        "id": "ar_ZbJ_AN2ql",
        "outputId": "29e1c6fd-ffaa-48d0-a1fe-65dbedd24efa"
      },
      "source": [
        "fig = go.Figure(go.Scattermapbox(\n",
        "    mode = \"markers+lines\",\n",
        "    lon = geogTable_orig4['Lon'], #longitude\n",
        "    lat = geogTable_orig4['Lat'], #latitude\n",
        "    name=\"Traveling Salesman\",\n",
        "    hovertext=geogTable_orig4['Town'], #town name\n",
        "    marker = {'size': 10}),\n",
        "    layout=go.Layout(\n",
        "        hovermode=\"closest\",\n",
        "        updatemenus=[dict(type=\"buttons\",\n",
        "                          buttons=[dict(label=\"Play\",\n",
        "                                        method=\"animate\",\n",
        "                                        args=[None])])]),\n",
        "        frames=[go.Frame(\n",
        "        data=[go.Scattermapbox(\n",
        "            lon=[geogTable_orig4.iloc[k,1]],\n",
        "            lat=[geogTable_orig4.iloc[k,2]],\n",
        "            mode=\"markers\",\n",
        "            marker=dict(color=\"red\", size=10))])\n",
        "\n",
        "        for k in range(len(geogTable_orig4))]\n",
        ")\n",
        "fig.add_trace(go.Scattermapbox(\n",
        "    mode = \"markers+lines\",\n",
        "    lon = geogTable_orig4['Lon'], #longitude\n",
        "    lat = geogTable_orig4['Lat'], #latitude\n",
        "    name=\"Main Route\",\n",
        "    hovertext=geogTable_orig4['Town'], #town name\n",
        "    marker=dict(color=\"blue\", size=5)))\n",
        "\n",
        "\n",
        "fig.update_layout(mapbox_style=\"carto-darkmatter\", mapbox_zoom=8.25, mapbox_center_lat = 41.26878471063158,mapbox_center_lon = -73.37656607409332,\n",
        "    margin={\"r\":0,\"t\":0,\"l\":0,\"b\":0},title=\"TRAVELING SALESMAN ROUTE\")\n",
        "config = dict({'scrollZoom': False})\n",
        "fig.show(config=config)"
      ],
      "execution_count": null,
      "outputs": [
        {
          "output_type": "display_data",
          "data": {
            "text/html": [
              "<html>\n",
              "<head><meta charset=\"utf-8\" /></head>\n",
              "<body>\n",
              "    <div>\n",
              "            <script src=\"https://cdnjs.cloudflare.com/ajax/libs/mathjax/2.7.5/MathJax.js?config=TeX-AMS-MML_SVG\"></script><script type=\"text/javascript\">if (window.MathJax) {MathJax.Hub.Config({SVG: {font: \"STIX-Web\"}});}</script>\n",
              "                <script type=\"text/javascript\">window.PlotlyConfig = {MathJaxConfig: 'local'};</script>\n",
              "        <script src=\"https://cdn.plot.ly/plotly-latest.min.js\"></script>    \n",
              "            <div id=\"2ea6a974-3134-4942-a83c-a89d3741bd30\" class=\"plotly-graph-div\" style=\"height:525px; width:100%;\"></div>\n",
              "            <script type=\"text/javascript\">\n",
              "                \n",
              "                    window.PLOTLYENV=window.PLOTLYENV || {};\n",
              "                    \n",
              "                if (document.getElementById(\"2ea6a974-3134-4942-a83c-a89d3741bd30\")) {\n",
              "                    Plotly.newPlot(\n",
              "                        '2ea6a974-3134-4942-a83c-a89d3741bd30',\n",
              "                        [{\"hovertext\": [\"State Capitol\", \"Glastonbury (1)\", \"Glastonbury (2)\", \"Rockville (1)\", \"Hebron (1)\", \"Clinton (1)\", \"New Haven (1)\", \"Hamden (2)\", \"Hamden (1)\", \"New Haven (2)\", \"New Haven (3)\", \"Monroe (1)\", \"Ridgefield (1)\", \"Wilton (1)\", \"Darien (1)\", \"Old Greenwich (1)\", \"New Canaan (1)\", \"Ridgefield (2)\", \"Brookfield (1)\", \"Prospect (1)\", \"Bristol (1)\", \"Bristol (3)\", \"Bristol (2)\", \"Farmington (1)\", \"Canton (1)\", \"West Hartford (4)\", \"West Hartford (2)\", \"West Hartford (6)\", \"West Hartford (5)\", \"West Hartford (3)\", \"Kensington (1)\", \"Berlin (1)\", \"West Hartford (7)\", \"West Hartford (1)\", \"State Capitol\"], \"lat\": [41.76428989, 41.71547718, 41.70537939, 41.86825418, 41.66027971, 41.27901446, 41.3062916, 41.36752697, 41.34743906, 41.31618834, 41.32921973, 41.31734643, 41.26745001, 41.19402578, 41.0764284, 41.0311029, 41.14637858, 41.28302995, 41.435008399999994, 41.50784652, 41.68178191, 41.66730216, 41.69371913, 41.70481927, 41.8250066, 41.78408508, 41.78549258, 41.76179605, 41.75221948, 41.75534058, 41.63127394, 41.6411774, 41.73184570000001, 41.76107505, 41.76428989], \"lon\": [-72.68249918, -72.61145523, -72.59393854, -72.46719814, -72.35594026, -72.52846212, -72.92531516, -72.91972719, -72.93297940000001, -72.93952687, -72.96839324, -73.21633832, -73.4436939, -73.43174133, -73.4704302, -73.56793309999999, -73.49516904, -73.49989899, -73.41505, -72.9802223, -72.94619109, -72.92310666, -72.91589206, -72.84400274, -72.8854906, -72.74790929, -72.74611836, -72.74407669, -72.74340554, -72.76649752, -72.75955474, -72.7339675, -72.73005133, -72.7161176, -72.68249918], \"marker\": {\"size\": 10}, \"mode\": \"markers+lines\", \"name\": \"Traveling Salesman\", \"type\": \"scattermapbox\"}, {\"hovertext\": [\"State Capitol\", \"Glastonbury (1)\", \"Glastonbury (2)\", \"Rockville (1)\", \"Hebron (1)\", \"Clinton (1)\", \"New Haven (1)\", \"Hamden (2)\", \"Hamden (1)\", \"New Haven (2)\", \"New Haven (3)\", \"Monroe (1)\", \"Ridgefield (1)\", \"Wilton (1)\", \"Darien (1)\", \"Old Greenwich (1)\", \"New Canaan (1)\", \"Ridgefield (2)\", \"Brookfield (1)\", \"Prospect (1)\", \"Bristol (1)\", \"Bristol (3)\", \"Bristol (2)\", \"Farmington (1)\", \"Canton (1)\", \"West Hartford (4)\", \"West Hartford (2)\", \"West Hartford (6)\", \"West Hartford (5)\", \"West Hartford (3)\", \"Kensington (1)\", \"Berlin (1)\", \"West Hartford (7)\", \"West Hartford (1)\", \"State Capitol\"], \"lat\": [41.76428989, 41.71547718, 41.70537939, 41.86825418, 41.66027971, 41.27901446, 41.3062916, 41.36752697, 41.34743906, 41.31618834, 41.32921973, 41.31734643, 41.26745001, 41.19402578, 41.0764284, 41.0311029, 41.14637858, 41.28302995, 41.435008399999994, 41.50784652, 41.68178191, 41.66730216, 41.69371913, 41.70481927, 41.8250066, 41.78408508, 41.78549258, 41.76179605, 41.75221948, 41.75534058, 41.63127394, 41.6411774, 41.73184570000001, 41.76107505, 41.76428989], \"lon\": [-72.68249918, -72.61145523, -72.59393854, -72.46719814, -72.35594026, -72.52846212, -72.92531516, -72.91972719, -72.93297940000001, -72.93952687, -72.96839324, -73.21633832, -73.4436939, -73.43174133, -73.4704302, -73.56793309999999, -73.49516904, -73.49989899, -73.41505, -72.9802223, -72.94619109, -72.92310666, -72.91589206, -72.84400274, -72.8854906, -72.74790929, -72.74611836, -72.74407669, -72.74340554, -72.76649752, -72.75955474, -72.7339675, -72.73005133, -72.7161176, -72.68249918], \"marker\": {\"color\": \"blue\", \"size\": 5}, \"mode\": \"markers+lines\", \"name\": \"Main Route\", \"type\": \"scattermapbox\"}],\n",
              "                        {\"hovermode\": \"closest\", \"mapbox\": {\"center\": {\"lat\": 41.26878471063158, \"lon\": -73.37656607409332}, \"style\": \"carto-darkmatter\", \"zoom\": 8.25}, \"margin\": {\"b\": 0, \"l\": 0, \"r\": 0, \"t\": 0}, \"template\": {\"data\": {\"bar\": [{\"error_x\": {\"color\": \"#2a3f5f\"}, \"error_y\": {\"color\": \"#2a3f5f\"}, \"marker\": {\"line\": {\"color\": \"#E5ECF6\", \"width\": 0.5}}, \"type\": \"bar\"}], \"barpolar\": [{\"marker\": {\"line\": {\"color\": \"#E5ECF6\", \"width\": 0.5}}, \"type\": \"barpolar\"}], \"carpet\": [{\"aaxis\": {\"endlinecolor\": \"#2a3f5f\", \"gridcolor\": \"white\", \"linecolor\": \"white\", \"minorgridcolor\": \"white\", \"startlinecolor\": \"#2a3f5f\"}, \"baxis\": {\"endlinecolor\": \"#2a3f5f\", \"gridcolor\": \"white\", \"linecolor\": \"white\", \"minorgridcolor\": \"white\", \"startlinecolor\": \"#2a3f5f\"}, \"type\": \"carpet\"}], \"choropleth\": [{\"colorbar\": {\"outlinewidth\": 0, \"ticks\": \"\"}, \"type\": \"choropleth\"}], \"contour\": [{\"colorbar\": {\"outlinewidth\": 0, \"ticks\": \"\"}, \"colorscale\": [[0.0, \"#0d0887\"], [0.1111111111111111, \"#46039f\"], [0.2222222222222222, \"#7201a8\"], [0.3333333333333333, \"#9c179e\"], [0.4444444444444444, \"#bd3786\"], [0.5555555555555556, \"#d8576b\"], [0.6666666666666666, \"#ed7953\"], [0.7777777777777778, \"#fb9f3a\"], [0.8888888888888888, \"#fdca26\"], [1.0, \"#f0f921\"]], \"type\": \"contour\"}], \"contourcarpet\": [{\"colorbar\": {\"outlinewidth\": 0, \"ticks\": \"\"}, \"type\": \"contourcarpet\"}], \"heatmap\": [{\"colorbar\": {\"outlinewidth\": 0, \"ticks\": \"\"}, \"colorscale\": [[0.0, \"#0d0887\"], [0.1111111111111111, \"#46039f\"], [0.2222222222222222, \"#7201a8\"], [0.3333333333333333, \"#9c179e\"], [0.4444444444444444, \"#bd3786\"], [0.5555555555555556, \"#d8576b\"], [0.6666666666666666, \"#ed7953\"], [0.7777777777777778, \"#fb9f3a\"], [0.8888888888888888, \"#fdca26\"], [1.0, \"#f0f921\"]], \"type\": \"heatmap\"}], \"heatmapgl\": [{\"colorbar\": {\"outlinewidth\": 0, \"ticks\": \"\"}, \"colorscale\": [[0.0, \"#0d0887\"], [0.1111111111111111, \"#46039f\"], [0.2222222222222222, \"#7201a8\"], [0.3333333333333333, \"#9c179e\"], [0.4444444444444444, \"#bd3786\"], [0.5555555555555556, \"#d8576b\"], [0.6666666666666666, \"#ed7953\"], [0.7777777777777778, \"#fb9f3a\"], [0.8888888888888888, \"#fdca26\"], [1.0, \"#f0f921\"]], \"type\": \"heatmapgl\"}], \"histogram\": [{\"marker\": {\"colorbar\": {\"outlinewidth\": 0, \"ticks\": \"\"}}, \"type\": \"histogram\"}], \"histogram2d\": [{\"colorbar\": {\"outlinewidth\": 0, \"ticks\": \"\"}, \"colorscale\": [[0.0, \"#0d0887\"], [0.1111111111111111, \"#46039f\"], [0.2222222222222222, \"#7201a8\"], [0.3333333333333333, \"#9c179e\"], [0.4444444444444444, \"#bd3786\"], [0.5555555555555556, \"#d8576b\"], [0.6666666666666666, \"#ed7953\"], [0.7777777777777778, \"#fb9f3a\"], [0.8888888888888888, \"#fdca26\"], [1.0, \"#f0f921\"]], \"type\": \"histogram2d\"}], \"histogram2dcontour\": [{\"colorbar\": {\"outlinewidth\": 0, \"ticks\": \"\"}, \"colorscale\": [[0.0, \"#0d0887\"], [0.1111111111111111, \"#46039f\"], [0.2222222222222222, \"#7201a8\"], [0.3333333333333333, \"#9c179e\"], [0.4444444444444444, \"#bd3786\"], [0.5555555555555556, \"#d8576b\"], [0.6666666666666666, \"#ed7953\"], [0.7777777777777778, \"#fb9f3a\"], [0.8888888888888888, \"#fdca26\"], [1.0, \"#f0f921\"]], \"type\": \"histogram2dcontour\"}], \"mesh3d\": [{\"colorbar\": {\"outlinewidth\": 0, \"ticks\": \"\"}, \"type\": \"mesh3d\"}], \"parcoords\": [{\"line\": {\"colorbar\": {\"outlinewidth\": 0, \"ticks\": \"\"}}, \"type\": \"parcoords\"}], \"pie\": [{\"automargin\": true, \"type\": \"pie\"}], \"scatter\": [{\"marker\": {\"colorbar\": {\"outlinewidth\": 0, \"ticks\": \"\"}}, \"type\": \"scatter\"}], \"scatter3d\": [{\"line\": {\"colorbar\": {\"outlinewidth\": 0, \"ticks\": \"\"}}, \"marker\": {\"colorbar\": {\"outlinewidth\": 0, \"ticks\": \"\"}}, \"type\": \"scatter3d\"}], \"scattercarpet\": [{\"marker\": {\"colorbar\": {\"outlinewidth\": 0, \"ticks\": \"\"}}, \"type\": \"scattercarpet\"}], \"scattergeo\": [{\"marker\": {\"colorbar\": {\"outlinewidth\": 0, \"ticks\": \"\"}}, \"type\": \"scattergeo\"}], \"scattergl\": [{\"marker\": {\"colorbar\": {\"outlinewidth\": 0, \"ticks\": \"\"}}, \"type\": \"scattergl\"}], \"scattermapbox\": [{\"marker\": {\"colorbar\": {\"outlinewidth\": 0, \"ticks\": \"\"}}, \"type\": \"scattermapbox\"}], \"scatterpolar\": [{\"marker\": {\"colorbar\": {\"outlinewidth\": 0, \"ticks\": \"\"}}, \"type\": \"scatterpolar\"}], \"scatterpolargl\": [{\"marker\": {\"colorbar\": {\"outlinewidth\": 0, \"ticks\": \"\"}}, \"type\": \"scatterpolargl\"}], \"scatterternary\": [{\"marker\": {\"colorbar\": {\"outlinewidth\": 0, \"ticks\": \"\"}}, \"type\": \"scatterternary\"}], \"surface\": [{\"colorbar\": {\"outlinewidth\": 0, \"ticks\": \"\"}, \"colorscale\": [[0.0, \"#0d0887\"], [0.1111111111111111, \"#46039f\"], [0.2222222222222222, \"#7201a8\"], [0.3333333333333333, \"#9c179e\"], [0.4444444444444444, \"#bd3786\"], [0.5555555555555556, \"#d8576b\"], [0.6666666666666666, \"#ed7953\"], [0.7777777777777778, \"#fb9f3a\"], [0.8888888888888888, \"#fdca26\"], [1.0, \"#f0f921\"]], \"type\": \"surface\"}], \"table\": [{\"cells\": {\"fill\": {\"color\": \"#EBF0F8\"}, \"line\": {\"color\": \"white\"}}, \"header\": {\"fill\": {\"color\": \"#C8D4E3\"}, \"line\": {\"color\": \"white\"}}, \"type\": \"table\"}]}, \"layout\": {\"annotationdefaults\": {\"arrowcolor\": \"#2a3f5f\", \"arrowhead\": 0, \"arrowwidth\": 1}, \"coloraxis\": {\"colorbar\": {\"outlinewidth\": 0, \"ticks\": \"\"}}, \"colorscale\": {\"diverging\": [[0, \"#8e0152\"], [0.1, \"#c51b7d\"], [0.2, \"#de77ae\"], [0.3, \"#f1b6da\"], [0.4, \"#fde0ef\"], [0.5, \"#f7f7f7\"], [0.6, \"#e6f5d0\"], [0.7, \"#b8e186\"], [0.8, \"#7fbc41\"], [0.9, \"#4d9221\"], [1, \"#276419\"]], \"sequential\": [[0.0, \"#0d0887\"], [0.1111111111111111, \"#46039f\"], [0.2222222222222222, \"#7201a8\"], [0.3333333333333333, \"#9c179e\"], [0.4444444444444444, \"#bd3786\"], [0.5555555555555556, \"#d8576b\"], [0.6666666666666666, \"#ed7953\"], [0.7777777777777778, \"#fb9f3a\"], [0.8888888888888888, \"#fdca26\"], [1.0, \"#f0f921\"]], \"sequentialminus\": [[0.0, \"#0d0887\"], [0.1111111111111111, \"#46039f\"], [0.2222222222222222, \"#7201a8\"], [0.3333333333333333, \"#9c179e\"], [0.4444444444444444, \"#bd3786\"], [0.5555555555555556, \"#d8576b\"], [0.6666666666666666, \"#ed7953\"], [0.7777777777777778, \"#fb9f3a\"], [0.8888888888888888, \"#fdca26\"], [1.0, \"#f0f921\"]]}, \"colorway\": [\"#636efa\", \"#EF553B\", \"#00cc96\", \"#ab63fa\", \"#FFA15A\", \"#19d3f3\", \"#FF6692\", \"#B6E880\", \"#FF97FF\", \"#FECB52\"], \"font\": {\"color\": \"#2a3f5f\"}, \"geo\": {\"bgcolor\": \"white\", \"lakecolor\": \"white\", \"landcolor\": \"#E5ECF6\", \"showlakes\": true, \"showland\": true, \"subunitcolor\": \"white\"}, \"hoverlabel\": {\"align\": \"left\"}, \"hovermode\": \"closest\", \"mapbox\": {\"style\": \"light\"}, \"paper_bgcolor\": \"white\", \"plot_bgcolor\": \"#E5ECF6\", \"polar\": {\"angularaxis\": {\"gridcolor\": \"white\", \"linecolor\": \"white\", \"ticks\": \"\"}, \"bgcolor\": \"#E5ECF6\", \"radialaxis\": {\"gridcolor\": \"white\", \"linecolor\": \"white\", \"ticks\": \"\"}}, \"scene\": {\"xaxis\": {\"backgroundcolor\": \"#E5ECF6\", \"gridcolor\": \"white\", \"gridwidth\": 2, \"linecolor\": \"white\", \"showbackground\": true, \"ticks\": \"\", \"zerolinecolor\": \"white\"}, \"yaxis\": {\"backgroundcolor\": \"#E5ECF6\", \"gridcolor\": \"white\", \"gridwidth\": 2, \"linecolor\": \"white\", \"showbackground\": true, \"ticks\": \"\", \"zerolinecolor\": \"white\"}, \"zaxis\": {\"backgroundcolor\": \"#E5ECF6\", \"gridcolor\": \"white\", \"gridwidth\": 2, \"linecolor\": \"white\", \"showbackground\": true, \"ticks\": \"\", \"zerolinecolor\": \"white\"}}, \"shapedefaults\": {\"line\": {\"color\": \"#2a3f5f\"}}, \"ternary\": {\"aaxis\": {\"gridcolor\": \"white\", \"linecolor\": \"white\", \"ticks\": \"\"}, \"baxis\": {\"gridcolor\": \"white\", \"linecolor\": \"white\", \"ticks\": \"\"}, \"bgcolor\": \"#E5ECF6\", \"caxis\": {\"gridcolor\": \"white\", \"linecolor\": \"white\", \"ticks\": \"\"}}, \"title\": {\"x\": 0.05}, \"xaxis\": {\"automargin\": true, \"gridcolor\": \"white\", \"linecolor\": \"white\", \"ticks\": \"\", \"title\": {\"standoff\": 15}, \"zerolinecolor\": \"white\", \"zerolinewidth\": 2}, \"yaxis\": {\"automargin\": true, \"gridcolor\": \"white\", \"linecolor\": \"white\", \"ticks\": \"\", \"title\": {\"standoff\": 15}, \"zerolinecolor\": \"white\", \"zerolinewidth\": 2}}}, \"title\": {\"text\": \"TRAVELING SALESMAN ROUTE\"}, \"updatemenus\": [{\"buttons\": [{\"args\": [null], \"label\": \"Play\", \"method\": \"animate\"}], \"type\": \"buttons\"}]},\n",
              "                        {\"scrollZoom\": false, \"responsive\": true}\n",
              "                    ).then(function(){\n",
              "                            Plotly.addFrames('2ea6a974-3134-4942-a83c-a89d3741bd30', [{\"data\": [{\"lat\": [41.76428989], \"lon\": [-72.68249918], \"marker\": {\"color\": \"red\", \"size\": 10}, \"mode\": \"markers\", \"type\": \"scattermapbox\"}]}, {\"data\": [{\"lat\": [41.71547718], \"lon\": [-72.61145523], \"marker\": {\"color\": \"red\", \"size\": 10}, \"mode\": \"markers\", \"type\": \"scattermapbox\"}]}, {\"data\": [{\"lat\": [41.70537939], \"lon\": [-72.59393854], \"marker\": {\"color\": \"red\", \"size\": 10}, \"mode\": \"markers\", \"type\": \"scattermapbox\"}]}, {\"data\": [{\"lat\": [41.86825418], \"lon\": [-72.46719814], \"marker\": {\"color\": \"red\", \"size\": 10}, \"mode\": \"markers\", \"type\": \"scattermapbox\"}]}, {\"data\": [{\"lat\": [41.66027971], \"lon\": [-72.35594026], \"marker\": {\"color\": \"red\", \"size\": 10}, \"mode\": \"markers\", \"type\": \"scattermapbox\"}]}, {\"data\": [{\"lat\": [41.27901446], \"lon\": [-72.52846212], \"marker\": {\"color\": \"red\", \"size\": 10}, \"mode\": \"markers\", \"type\": \"scattermapbox\"}]}, {\"data\": [{\"lat\": [41.3062916], \"lon\": [-72.92531516], \"marker\": {\"color\": \"red\", \"size\": 10}, \"mode\": \"markers\", \"type\": \"scattermapbox\"}]}, {\"data\": [{\"lat\": [41.36752697], \"lon\": [-72.91972719], \"marker\": {\"color\": \"red\", \"size\": 10}, \"mode\": \"markers\", \"type\": \"scattermapbox\"}]}, {\"data\": [{\"lat\": [41.34743906], \"lon\": [-72.93297940000001], \"marker\": {\"color\": \"red\", \"size\": 10}, \"mode\": \"markers\", \"type\": \"scattermapbox\"}]}, {\"data\": [{\"lat\": [41.31618834], \"lon\": [-72.93952687], \"marker\": {\"color\": \"red\", \"size\": 10}, \"mode\": \"markers\", \"type\": \"scattermapbox\"}]}, {\"data\": [{\"lat\": [41.32921973], \"lon\": [-72.96839324], \"marker\": {\"color\": \"red\", \"size\": 10}, \"mode\": \"markers\", \"type\": \"scattermapbox\"}]}, {\"data\": [{\"lat\": [41.31734643], \"lon\": [-73.21633832], \"marker\": {\"color\": \"red\", \"size\": 10}, \"mode\": \"markers\", \"type\": \"scattermapbox\"}]}, {\"data\": [{\"lat\": [41.26745001], \"lon\": [-73.4436939], \"marker\": {\"color\": \"red\", \"size\": 10}, \"mode\": \"markers\", \"type\": \"scattermapbox\"}]}, {\"data\": [{\"lat\": [41.19402578], \"lon\": [-73.43174133], \"marker\": {\"color\": \"red\", \"size\": 10}, \"mode\": \"markers\", \"type\": \"scattermapbox\"}]}, {\"data\": [{\"lat\": [41.0764284], \"lon\": [-73.4704302], \"marker\": {\"color\": \"red\", \"size\": 10}, \"mode\": \"markers\", \"type\": \"scattermapbox\"}]}, {\"data\": [{\"lat\": [41.0311029], \"lon\": [-73.56793309999999], \"marker\": {\"color\": \"red\", \"size\": 10}, \"mode\": \"markers\", \"type\": \"scattermapbox\"}]}, {\"data\": [{\"lat\": [41.14637858], \"lon\": [-73.49516904], \"marker\": {\"color\": \"red\", \"size\": 10}, \"mode\": \"markers\", \"type\": \"scattermapbox\"}]}, {\"data\": [{\"lat\": [41.28302995], \"lon\": [-73.49989899], \"marker\": {\"color\": \"red\", \"size\": 10}, \"mode\": \"markers\", \"type\": \"scattermapbox\"}]}, {\"data\": [{\"lat\": [41.435008399999994], \"lon\": [-73.41505], \"marker\": {\"color\": \"red\", \"size\": 10}, \"mode\": \"markers\", \"type\": \"scattermapbox\"}]}, {\"data\": [{\"lat\": [41.50784652], \"lon\": [-72.9802223], \"marker\": {\"color\": \"red\", \"size\": 10}, \"mode\": \"markers\", \"type\": \"scattermapbox\"}]}, {\"data\": [{\"lat\": [41.68178191], \"lon\": [-72.94619109], \"marker\": {\"color\": \"red\", \"size\": 10}, \"mode\": \"markers\", \"type\": \"scattermapbox\"}]}, {\"data\": [{\"lat\": [41.66730216], \"lon\": [-72.92310666], \"marker\": {\"color\": \"red\", \"size\": 10}, \"mode\": \"markers\", \"type\": \"scattermapbox\"}]}, {\"data\": [{\"lat\": [41.69371913], \"lon\": [-72.91589206], \"marker\": {\"color\": \"red\", \"size\": 10}, \"mode\": \"markers\", \"type\": \"scattermapbox\"}]}, {\"data\": [{\"lat\": [41.70481927], \"lon\": [-72.84400274], \"marker\": {\"color\": \"red\", \"size\": 10}, \"mode\": \"markers\", \"type\": \"scattermapbox\"}]}, {\"data\": [{\"lat\": [41.8250066], \"lon\": [-72.8854906], \"marker\": {\"color\": \"red\", \"size\": 10}, \"mode\": \"markers\", \"type\": \"scattermapbox\"}]}, {\"data\": [{\"lat\": [41.78408508], \"lon\": [-72.74790929], \"marker\": {\"color\": \"red\", \"size\": 10}, \"mode\": \"markers\", \"type\": \"scattermapbox\"}]}, {\"data\": [{\"lat\": [41.78549258], \"lon\": [-72.74611836], \"marker\": {\"color\": \"red\", \"size\": 10}, \"mode\": \"markers\", \"type\": \"scattermapbox\"}]}, {\"data\": [{\"lat\": [41.76179605], \"lon\": [-72.74407669], \"marker\": {\"color\": \"red\", \"size\": 10}, \"mode\": \"markers\", \"type\": \"scattermapbox\"}]}, {\"data\": [{\"lat\": [41.75221948], \"lon\": [-72.74340554], \"marker\": {\"color\": \"red\", \"size\": 10}, \"mode\": \"markers\", \"type\": \"scattermapbox\"}]}, {\"data\": [{\"lat\": [41.75534058], \"lon\": [-72.76649752], \"marker\": {\"color\": \"red\", \"size\": 10}, \"mode\": \"markers\", \"type\": \"scattermapbox\"}]}, {\"data\": [{\"lat\": [41.63127394], \"lon\": [-72.75955474], \"marker\": {\"color\": \"red\", \"size\": 10}, \"mode\": \"markers\", \"type\": \"scattermapbox\"}]}, {\"data\": [{\"lat\": [41.6411774], \"lon\": [-72.7339675], \"marker\": {\"color\": \"red\", \"size\": 10}, \"mode\": \"markers\", \"type\": \"scattermapbox\"}]}, {\"data\": [{\"lat\": [41.73184570000001], \"lon\": [-72.73005133], \"marker\": {\"color\": \"red\", \"size\": 10}, \"mode\": \"markers\", \"type\": \"scattermapbox\"}]}, {\"data\": [{\"lat\": [41.76107505], \"lon\": [-72.7161176], \"marker\": {\"color\": \"red\", \"size\": 10}, \"mode\": \"markers\", \"type\": \"scattermapbox\"}]}, {\"data\": [{\"lat\": [41.76428989], \"lon\": [-72.68249918], \"marker\": {\"color\": \"red\", \"size\": 10}, \"mode\": \"markers\", \"type\": \"scattermapbox\"}]}]);\n",
              "                        }).then(function(){\n",
              "                            \n",
              "var gd = document.getElementById('2ea6a974-3134-4942-a83c-a89d3741bd30');\n",
              "var x = new MutationObserver(function (mutations, observer) {{\n",
              "        var display = window.getComputedStyle(gd).display;\n",
              "        if (!display || display === 'none') {{\n",
              "            console.log([gd, 'removed!']);\n",
              "            Plotly.purge(gd);\n",
              "            observer.disconnect();\n",
              "        }}\n",
              "}});\n",
              "\n",
              "// Listen for the removal of the full notebook cells\n",
              "var notebookContainer = gd.closest('#notebook-container');\n",
              "if (notebookContainer) {{\n",
              "    x.observe(notebookContainer, {childList: true});\n",
              "}}\n",
              "\n",
              "// Listen for the clearing of the current output cell\n",
              "var outputEl = gd.closest('.output');\n",
              "if (outputEl) {{\n",
              "    x.observe(outputEl, {childList: true});\n",
              "}}\n",
              "\n",
              "                        })\n",
              "                };\n",
              "                \n",
              "            </script>\n",
              "        </div>\n",
              "</body>\n",
              "</html>"
            ]
          },
          "metadata": {
            "tags": []
          }
        },
        {
          "output_type": "stream",
          "text": [
            "time: 2.76 s (started: 2021-04-28 10:43:47 +00:00)\n"
          ],
          "name": "stdout"
        }
      ]
    },
    {
      "cell_type": "code",
      "metadata": {
        "colab": {
          "base_uri": "https://localhost:8080/"
        },
        "id": "LbFZq68zN2ql",
        "outputId": "6ccfed5d-3db9-434a-da60-06acb14f09aa"
      },
      "source": [
        "# Since the path has changed, the minimum distance also changes.\n",
        "print('Minimum distance: {} km'.format(solution.ObjectiveValue())) #Minimum distance covered (or) Minimum Cost= 31972 Kms"
      ],
      "execution_count": null,
      "outputs": [
        {
          "output_type": "stream",
          "text": [
            "Minimum distance: 31972 km\n",
            "time: 3.62 ms (started: 2021-04-28 10:44:17 +00:00)\n"
          ],
          "name": "stdout"
        }
      ]
    },
    {
      "cell_type": "markdown",
      "metadata": {
        "id": "QgIOB4OHehrl"
      },
      "source": [
        "Since the path has changed, the minimum distance has changed as well and it is slightly greater than the previous solutions, indicating that this is not the optimal shortest route.\n"
      ]
    },
    {
      "cell_type": "markdown",
      "metadata": {
        "id": "tp6YaJgHakdF"
      },
      "source": [
        "# Stop Timer"
      ]
    },
    {
      "cell_type": "code",
      "metadata": {
        "colab": {
          "base_uri": "https://localhost:8080/"
        },
        "id": "r40Pvdj1aqfa",
        "outputId": "b4d252b1-ec1a-4305-9150-f14cbb36157b"
      },
      "source": [
        "end = time.time() #End time noted\n",
        "print(end - start,\" s\")"
      ],
      "execution_count": null,
      "outputs": [
        {
          "output_type": "stream",
          "text": [
            "549.7964308261871  s\n",
            "time: 1.68 ms (started: 2021-04-28 10:44:26 +00:00)\n"
          ],
          "name": "stdout"
        }
      ]
    },
    {
      "cell_type": "markdown",
      "metadata": {
        "id": "LRGaTguNCVn4"
      },
      "source": [
        "#Model Evaluation\n",
        "| Scenario | First Solution Strategy/Local Searched Used | Total Distance |\n",
        "| --- | --- | --- |\n",
        "| 1 | Automatic Solution Strategy/Automatic Local Search | 31868 km |\n",
        "| 2 | PATH_MOST_CONSTRAINED_ARC Solution Strategy/Automatic Local Search | 31868 km |\n",
        "| 3 | PATH_MOST_CONSTRAINED_ARC Solution Strategy/GREEDY_DESCENT Local Search | 31972 km |"
      ]
    },
    {
      "cell_type": "markdown",
      "metadata": {
        "id": "m8ciTCJGqnJf"
      },
      "source": [
        "# Conclusion\n",
        "\n",
        "* In comparing scenario 1 to 2, Automatic to the PATH MOST CONSTRAINED_ARC, the path effectively remains the same however the order of towns and their corresponding CVS stores visited has changed. For instance, the very first CVS store visited from the distribution center in the first scenario (with default or automatic values) was the at West Hartford (Store 1). The first CVS center to be visited in the path generated by the second approach is at Glastonbury (Store 1).This strategy essentially traverses the same path although in the opposite direction. Note the distance is also the same.\n",
        "\n",
        "  *Scenario 1 Solution*: **0 -> 5 -> 10 -> 6** -> 8 -> 7 -> 9 -> 11 -> 17 -> 3 -> 27 -> 15 -> 25 -> 26 -> 24 -> 28 -> 16 -> 30 -> 12 -> 13 -> 14 -> 23 ->\n",
        "29 -> 31 -> 20 -> 19 -> 32 -> 33 -> 18 -> 4 -> 22 -> 21 -> 2 -> 1 -> 0\n",
        "\n",
        "  *Scenario 2 Solution*: 0 -> 1 -> 2 -> 21 -> 22 -> 4 -> 18 -> 33 -> 32 -> 19 -> 20 -> 31 -> 29 -> 23 -> 14 -> 13 -> 12 -> 30 -> 16 -> 28 -> 24 ->\n",
        "26 -> 25 -> 15 -> 27 -> 3 -> 17 -> 11 -> 9 -> 7 -> 8 **-> 6 -> 10 -> 5 -> 0**\n",
        "* In comparing scenario 2 to 3, Automatic Local Search to GREEDY_DESCENT Local Search, the path changes.Since the path has changed, the minimum distance has changed as well and it is slightly greater than scenario 2 solutions, indicating that this is not the optimal shortest route.\n",
        "\n",
        "  *Scenario 2 Solution*: 0 -> 1 -> 2 -> 21 -> 22 -> 4 -> 18 -> 33 -> 32 -> 19 -> 20 -> 31 -> 29 -> 23 -> 14 -> 13 -> 12 -> 30 -> 16 -> 28 -> 24 ->\n",
        "26 -> 25 **-> 15 -> 27 -> 3 -> 17 -> 11 -> 9 -> 7 -> 8 -> 6 -> 10 -> 5 ->** 0\n",
        "\n",
        "  *Scenario 3 Solution*: 0 -> 1 -> 2 -> 21 -> 22 -> 4 -> 18 -> 33 -> 32 -> 19 -> 20 -> 31 -> 29 -> 23 -> 14 -> 13 -> 12 -> 30 -> 16 -> 28 -> 24 ->\n",
        "26 -> 25 **-> 27 -> 15 -> 8 -> 6 -> 10 -> 9 -> 7 -> 3 -> 17 -> 11 -> 5 ->** 0\n",
        "\n",
        "  The order of the nodes beyond node 25 (Bristol (2)) has changed.\n",
        "\n",
        "* It was noticed that when using only a first solution strategy, most of the time, the optimal path was already found with a distance travel of 31868 km. However, when adding a Greedy Descent local search, it only build upon the first solution strategy and mostly improve the distance travel back to the optimal distance of 31868 km.\n",
        "\n",
        "* Some assumptions are made to TSP problems: one vehicle and can only visit a town once.\n",
        "\n",
        "* Optimization for routing problems are extremely useful especially as the nodes of paths increases, then combination of paths one can take increases to (N-1)! for N Paths. Leveraging heuristics, done in this exercise, makes solutions much faster than a brute force search of (N-1)! This is because heuristics takes into account paths which are most likely to lead to a viable solution than those which may not.\n",
        "\n",
        "* The TSP and the use of heuristics can also be integrated with Monte Carlo Simulations. Monte Carlo Simulations can be used to apply skewed probability distributions to the heuristics to make a more probabilistic procedure. Also, in network problems we can apply TSP heuristic approach to focus on more viable solutions.\n",
        "\n",
        "* These optimization techniques help in deciding the best routes for delivery by taking various factors into consideration. With the help of these alogorithms we can factor in diverse variables such as driver shifts, commute time, vechile breakdowns etc\n",
        "\n",
        "* This ability to include diverse factors and then try to find the optimum solution to business problems is a boon and helps us to make competent descions in a highly competitive business setup\n",
        "\n",
        "* With the usage of Google OR tools we are able to successfuly visualize and execute complex set of tasks so as to find the optimum solution in diverse scenarios. These tools can be effectively applied to other optimisation problems as well with a great ease\n",
        "\n",
        "* One of greatest advantage of these tools are they are open source and can be easily moulded to fit our business requirements. Though are more developer friend than user, it is a rather fair trade off considering the benefits it brings to the table\n",
        "\n",
        "* In summary, Changing the setting from automatic to secenario didnt suggest any change as the path and distance remained same but while moving to scenario 3 i.e. using GREEDY_DESCENT Local Search we saw changes in path but the distance increased. We can conclude that our first scenario with all set to default reulted in the optimum solution\n",
        "\n",
        "\n"
      ]
    }
  ]
}